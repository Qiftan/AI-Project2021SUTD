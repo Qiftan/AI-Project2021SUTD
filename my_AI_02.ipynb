{
  "nbformat": 4,
  "nbformat_minor": 2,
  "metadata": {
    "kernelspec": {
      "name": "python3",
      "display_name": "Python 3.9.5 64-bit"
    },
    "language_info": {
      "codemirror_mode": {
        "name": "ipython",
        "version": 3
      },
      "file_extension": ".py",
      "mimetype": "text/x-python",
      "name": "python",
      "nbconvert_exporter": "python",
      "pygments_lexer": "ipython3",
      "version": "3.9.5"
    },
    "colab": {
      "name": "my-AI-01.ipynb",
      "provenance": [],
      "collapsed_sections": []
    },
    "interpreter": {
      "hash": "eb24ff17c96d57bb1b6bd790e601a0fc3cb43c71d84f2d33908d6829878e2da1"
    }
  },
  "cells": [
    {
      "cell_type": "code",
      "execution_count": 1,
      "source": [
        "import sys\r\n",
        "import os\r\n",
        "from tqdm import tqdm\r\n",
        "\r\n",
        "import glob\r\n",
        "import numpy as np\r\n",
        "import pandas as pd\r\n",
        "from sklearn.model_selection import train_test_split\r\n",
        "\r\n",
        "import torch\r\n",
        "import torch.nn as nn\r\n",
        "import torch.nn.functional as F\r\n",
        "from torch.utils.data import Dataset, DataLoader"
      ],
      "outputs": [],
      "metadata": {
        "id": "Q9f8VOcgfSiC"
      }
    },
    {
      "cell_type": "code",
      "execution_count": 2,
      "source": [
        "print(\"PyTorch version: \", torch.__version__)\r\n",
        "print(\"GPU Detected:\" ,torch.cuda.is_available())\r\n",
        "print(\"GPU Device Name:\", torch.cuda.get_device_name(0))\r\n",
        "\r\n",
        "#defining a shortcut function for later:\r\n",
        "# import os\r\n",
        "# using_GPU = os.path.exists('/opt/bin/nvidia-smi')\r\n",
        "\r\n",
        "using_GPU = torch.cuda.is_available()\r\n"
      ],
      "outputs": [
        {
          "output_type": "stream",
          "name": "stdout",
          "text": [
            "PyTorch version:  1.9.0+cu102\n",
            "GPU Detected: True\n",
            "GPU Device Name: NVIDIA GeForce MX150\n"
          ]
        }
      ],
      "metadata": {
        "colab": {
          "base_uri": "https://localhost:8080/"
        },
        "id": "UqcRxwtaL0k5",
        "outputId": "af97adde-3d79-44aa-cd94-fda8f2661320"
      }
    },
    {
      "cell_type": "markdown",
      "source": [
        "# Google Colab setup\n",
        "Run this only if you're training on colab. \n",
        "Make sure you have added the shared drive as a shortcut to the **root** of your google drive.\n",
        "\n",
        "If you're training your model offline and this cell throws `SyntaxError`, just ignore it."
      ],
      "metadata": {
        "id": "7zDsdEx7dAL5"
      }
    },
    {
      "cell_type": "code",
      "execution_count": 3,
      "source": [
        "# currentlyRunningOnColab = 'google.colab' in sys.modules\r\n",
        "# if currentlyRunningOnColab:\r\n",
        "#   # Mount your own Google Drive\r\n",
        "#   from google.colab import drive\r\n",
        "#   drive.mount('/content/drive', force_remount=True)\r\n",
        "#   print(\"Mounted Google drive of current user\")\r\n",
        "\r\n",
        "#   %cd /content\r\n",
        "#   print(\"Changed current directory to /content\")\r\n",
        "\r\n",
        "#   # Mount github repository\r\n",
        "#   !git clone https://github.com/beazt123/AI-Project2021SUTD.git\r\n",
        "#   print(\"\\nCloned repo onto current instance of machine\")\r\n",
        "  \r\n",
        "#   %cd AI-Project2021SUTD\r\n",
        "#   print(\"\\nCurrently operating in the root directory of the Git repository\")\r\n",
        "\r\n",
        "#   # dataFolderName = \"aiproject\"\r\n",
        "#   GITHUB_REPO_NAME = \"AI-Project2021SUTD\"\r\n",
        "#   codePath = GITHUB_REPO_NAME\r\n",
        "#   # /content/drive/.shortcut-targets-by-id/1OU-Ua5tGwc7PDL_nf0s1CPKoIQduRW5q/50.021 AI Project"
      ],
      "outputs": [],
      "metadata": {
        "id": "oCXI27GDYmAp",
        "colab": {
          "base_uri": "https://localhost:8080/"
        },
        "outputId": "7bb27842-5a5e-4cab-d73d-20d35e8c19a2"
      }
    },
    {
      "cell_type": "markdown",
      "source": [
        "# Set up the path where the data is stored\n",
        "Currently, this is set to an online directory. Change it if you're training it offline."
      ],
      "metadata": {
        "id": "akb3oVI5A8lY"
      }
    },
    {
      "cell_type": "code",
      "execution_count": 4,
      "source": [
        "# # Change this variable if u wanna train offline\r\n",
        "# dataFolderPath = os.path.join(\"/content\",\r\n",
        "#                               \"drive\", \r\n",
        "#                               \".shortcut-targets-by-id\", \r\n",
        "#                               \"19icV-F9BFrur0fxo4XvAZ82qIhipVrb-\",\r\n",
        "#                               \"aiProjectData50021\")\r\n",
        "# # /content/drive/.shortcut-targets-by-id/19icV-F9BFrur0fxo4XvAZ82qIhipVrb-/aiProjectData50021"
      ],
      "outputs": [],
      "metadata": {
        "id": "1vUdlECEYwOK"
      }
    },
    {
      "cell_type": "code",
      "execution_count": 5,
      "source": [
        "dataFolderPath = os.path.join(\"data\")"
      ],
      "outputs": [],
      "metadata": {}
    },
    {
      "cell_type": "markdown",
      "source": [
        "# Preparing the data\n",
        "I'm assuming that the data is stored in the exact same structure as the one on our shared drive because the code in this section is written like that\n",
        "\n",
        "```\n",
        "dataFolder\n",
        "  |--COVID DATASET 1\n",
        "  |         |--someCSV.csv\n",
        "  |         |--anotherCSV.csv\n",
        "  |--COVID DATASET 2\n",
        "  |         |--someCSV2.csv\n",
        "  |         |--anotherCSV2.csv\n",
        "  |--COVID DATASET 3\n",
        "            |--someCSV3.csv\n",
        "            |--anotherCSV3.csv\n",
        "```"
      ],
      "metadata": {
        "id": "Qvtk6rmZV6qL"
      }
    },
    {
      "cell_type": "markdown",
      "source": [
        "## Split into Training and Test sets"
      ],
      "metadata": {
        "id": "IVmc57I8DOvn"
      }
    },
    {
      "cell_type": "code",
      "execution_count": 6,
      "source": [
        "trainingPercentage = 0.7\r\n",
        "testPercentage = 0.3"
      ],
      "outputs": [],
      "metadata": {
        "id": "yf032lccf7-d"
      }
    },
    {
      "cell_type": "code",
      "execution_count": 7,
      "source": [
        "# folders = [\"COVID DATASET 1\",\"COVID DATASET 2\"]#, \"COVID DATASET 3\"]\r\n",
        "# csvLists = [glob.glob(f\"{dataFolderPath}/{folder}/*.csv\") for folder in folders]\r\n",
        "csvLists = [glob.glob(f\"data/*.csv\")]"
      ],
      "outputs": [],
      "metadata": {
        "id": "yHYxJDtAXK2E"
      }
    },
    {
      "cell_type": "code",
      "execution_count": 8,
      "source": [
        "print(csvLists)"
      ],
      "outputs": [
        {
          "output_type": "stream",
          "name": "stdout",
          "text": [
            "[['data\\\\covid_data_1.csv', 'data\\\\covid_data_10.csv', 'data\\\\covid_data_100.csv', 'data\\\\covid_data_101.csv', 'data\\\\covid_data_102.csv', 'data\\\\covid_data_103.csv', 'data\\\\covid_data_104.csv', 'data\\\\covid_data_105.csv', 'data\\\\covid_data_106.csv', 'data\\\\covid_data_107.csv', 'data\\\\covid_data_108.csv', 'data\\\\covid_data_109.csv', 'data\\\\covid_data_11.csv', 'data\\\\covid_data_110.csv', 'data\\\\covid_data_111.csv', 'data\\\\covid_data_112.csv', 'data\\\\covid_data_113.csv', 'data\\\\covid_data_114.csv', 'data\\\\covid_data_115.csv', 'data\\\\covid_data_116.csv', 'data\\\\covid_data_117.csv', 'data\\\\covid_data_118.csv', 'data\\\\covid_data_119.csv', 'data\\\\covid_data_12.csv', 'data\\\\covid_data_120.csv', 'data\\\\covid_data_121.csv', 'data\\\\covid_data_122.csv', 'data\\\\covid_data_123.csv', 'data\\\\covid_data_124.csv', 'data\\\\covid_data_125.csv', 'data\\\\covid_data_126.csv', 'data\\\\covid_data_127.csv', 'data\\\\covid_data_128.csv', 'data\\\\covid_data_129.csv', 'data\\\\covid_data_13.csv', 'data\\\\covid_data_130.csv', 'data\\\\covid_data_131.csv', 'data\\\\covid_data_132.csv', 'data\\\\covid_data_133.csv', 'data\\\\covid_data_134.csv', 'data\\\\covid_data_135.csv', 'data\\\\covid_data_136.csv', 'data\\\\covid_data_137.csv', 'data\\\\covid_data_138.csv', 'data\\\\covid_data_139.csv', 'data\\\\covid_data_14.csv', 'data\\\\covid_data_140.csv', 'data\\\\covid_data_141.csv', 'data\\\\covid_data_142.csv', 'data\\\\covid_data_143.csv', 'data\\\\covid_data_144.csv', 'data\\\\covid_data_145.csv', 'data\\\\covid_data_146.csv', 'data\\\\covid_data_147.csv', 'data\\\\covid_data_148.csv', 'data\\\\covid_data_149.csv', 'data\\\\covid_data_15.csv', 'data\\\\covid_data_150.csv', 'data\\\\covid_data_151.csv', 'data\\\\covid_data_152.csv', 'data\\\\covid_data_153.csv', 'data\\\\covid_data_154.csv', 'data\\\\covid_data_155.csv', 'data\\\\covid_data_156.csv', 'data\\\\covid_data_157.csv', 'data\\\\covid_data_158.csv', 'data\\\\covid_data_159.csv', 'data\\\\covid_data_16.csv', 'data\\\\covid_data_160.csv', 'data\\\\covid_data_161.csv', 'data\\\\covid_data_162.csv', 'data\\\\covid_data_163.csv', 'data\\\\covid_data_164.csv', 'data\\\\covid_data_165.csv', 'data\\\\covid_data_166.csv', 'data\\\\covid_data_167.csv', 'data\\\\covid_data_168.csv', 'data\\\\covid_data_169.csv', 'data\\\\covid_data_17.csv', 'data\\\\covid_data_170.csv', 'data\\\\covid_data_171.csv', 'data\\\\covid_data_172.csv', 'data\\\\covid_data_173.csv', 'data\\\\covid_data_174.csv', 'data\\\\covid_data_175.csv', 'data\\\\covid_data_176.csv', 'data\\\\covid_data_177.csv', 'data\\\\covid_data_178.csv', 'data\\\\covid_data_179.csv', 'data\\\\covid_data_18.csv', 'data\\\\covid_data_180.csv', 'data\\\\covid_data_181.csv', 'data\\\\covid_data_182.csv', 'data\\\\covid_data_183.csv', 'data\\\\covid_data_184.csv', 'data\\\\covid_data_185.csv', 'data\\\\covid_data_186.csv', 'data\\\\covid_data_187.csv', 'data\\\\covid_data_188.csv', 'data\\\\covid_data_189.csv', 'data\\\\covid_data_19.csv', 'data\\\\covid_data_190.csv', 'data\\\\covid_data_191.csv', 'data\\\\covid_data_192.csv', 'data\\\\covid_data_193.csv', 'data\\\\covid_data_194.csv', 'data\\\\covid_data_195.csv', 'data\\\\covid_data_196.csv', 'data\\\\covid_data_197.csv', 'data\\\\covid_data_198.csv', 'data\\\\covid_data_199.csv', 'data\\\\covid_data_2.csv', 'data\\\\covid_data_20.csv', 'data\\\\covid_data_200.csv', 'data\\\\covid_data_201.csv', 'data\\\\covid_data_202.csv', 'data\\\\covid_data_203.csv', 'data\\\\covid_data_204.csv', 'data\\\\covid_data_205.csv', 'data\\\\covid_data_206.csv', 'data\\\\covid_data_207.csv', 'data\\\\covid_data_208.csv', 'data\\\\covid_data_209.csv', 'data\\\\covid_data_21.csv', 'data\\\\covid_data_210.csv', 'data\\\\covid_data_211.csv', 'data\\\\covid_data_212.csv', 'data\\\\covid_data_213.csv', 'data\\\\covid_data_214.csv', 'data\\\\covid_data_215.csv', 'data\\\\covid_data_216.csv', 'data\\\\covid_data_217.csv', 'data\\\\covid_data_218.csv', 'data\\\\covid_data_219.csv', 'data\\\\covid_data_22.csv', 'data\\\\covid_data_220.csv', 'data\\\\covid_data_221.csv', 'data\\\\covid_data_222.csv', 'data\\\\covid_data_223.csv', 'data\\\\covid_data_224.csv', 'data\\\\covid_data_225.csv', 'data\\\\covid_data_226.csv', 'data\\\\covid_data_227.csv', 'data\\\\covid_data_228.csv', 'data\\\\covid_data_229.csv', 'data\\\\covid_data_23.csv', 'data\\\\covid_data_230.csv', 'data\\\\covid_data_231.csv', 'data\\\\covid_data_232.csv', 'data\\\\covid_data_233.csv', 'data\\\\covid_data_234.csv', 'data\\\\covid_data_235.csv', 'data\\\\covid_data_236.csv', 'data\\\\covid_data_237.csv', 'data\\\\covid_data_238.csv', 'data\\\\covid_data_239.csv', 'data\\\\covid_data_24.csv', 'data\\\\covid_data_240.csv', 'data\\\\covid_data_241.csv', 'data\\\\covid_data_242.csv', 'data\\\\covid_data_243.csv', 'data\\\\covid_data_244.csv', 'data\\\\covid_data_245.csv', 'data\\\\covid_data_246.csv', 'data\\\\covid_data_247.csv', 'data\\\\covid_data_248.csv', 'data\\\\covid_data_249.csv', 'data\\\\covid_data_25.csv', 'data\\\\covid_data_250.csv', 'data\\\\covid_data_251.csv', 'data\\\\covid_data_252.csv', 'data\\\\covid_data_253.csv', 'data\\\\covid_data_254.csv', 'data\\\\covid_data_255.csv', 'data\\\\covid_data_256.csv', 'data\\\\covid_data_257.csv', 'data\\\\covid_data_258.csv', 'data\\\\covid_data_259.csv', 'data\\\\covid_data_26.csv', 'data\\\\covid_data_260.csv', 'data\\\\covid_data_261.csv', 'data\\\\covid_data_262.csv', 'data\\\\covid_data_263.csv', 'data\\\\covid_data_264.csv', 'data\\\\covid_data_265.csv', 'data\\\\covid_data_266.csv', 'data\\\\covid_data_267.csv', 'data\\\\covid_data_268.csv', 'data\\\\covid_data_269.csv', 'data\\\\covid_data_27.csv', 'data\\\\covid_data_270.csv', 'data\\\\covid_data_271.csv', 'data\\\\covid_data_272.csv', 'data\\\\covid_data_273.csv', 'data\\\\covid_data_274.csv', 'data\\\\covid_data_275.csv', 'data\\\\covid_data_276.csv', 'data\\\\covid_data_277.csv', 'data\\\\covid_data_278.csv', 'data\\\\covid_data_279.csv', 'data\\\\covid_data_28.csv', 'data\\\\covid_data_280.csv', 'data\\\\covid_data_281.csv', 'data\\\\covid_data_282.csv', 'data\\\\covid_data_283.csv', 'data\\\\covid_data_284.csv', 'data\\\\covid_data_285.csv', 'data\\\\covid_data_286.csv', 'data\\\\covid_data_287.csv', 'data\\\\covid_data_288.csv', 'data\\\\covid_data_289.csv', 'data\\\\covid_data_29.csv', 'data\\\\covid_data_290.csv', 'data\\\\covid_data_291.csv', 'data\\\\covid_data_292.csv', 'data\\\\covid_data_293.csv', 'data\\\\covid_data_294.csv', 'data\\\\covid_data_295.csv', 'data\\\\covid_data_296.csv', 'data\\\\covid_data_297.csv', 'data\\\\covid_data_298.csv', 'data\\\\covid_data_299.csv', 'data\\\\covid_data_3.csv', 'data\\\\covid_data_30.csv', 'data\\\\covid_data_300.csv', 'data\\\\covid_data_301.csv', 'data\\\\covid_data_302.csv', 'data\\\\covid_data_303.csv', 'data\\\\covid_data_304.csv', 'data\\\\covid_data_305.csv', 'data\\\\covid_data_306.csv', 'data\\\\covid_data_307.csv', 'data\\\\covid_data_308.csv', 'data\\\\covid_data_309.csv', 'data\\\\covid_data_31.csv', 'data\\\\covid_data_310.csv', 'data\\\\covid_data_311.csv', 'data\\\\covid_data_312.csv', 'data\\\\covid_data_313.csv', 'data\\\\covid_data_314.csv', 'data\\\\covid_data_315.csv', 'data\\\\covid_data_316.csv', 'data\\\\covid_data_317.csv', 'data\\\\covid_data_318.csv', 'data\\\\covid_data_319.csv', 'data\\\\covid_data_32.csv', 'data\\\\covid_data_320.csv', 'data\\\\covid_data_321.csv', 'data\\\\covid_data_322.csv', 'data\\\\covid_data_323.csv', 'data\\\\covid_data_324.csv', 'data\\\\covid_data_325.csv', 'data\\\\covid_data_326.csv', 'data\\\\covid_data_327.csv', 'data\\\\covid_data_328.csv', 'data\\\\covid_data_329.csv', 'data\\\\covid_data_33.csv', 'data\\\\covid_data_330.csv', 'data\\\\covid_data_331.csv', 'data\\\\covid_data_332.csv', 'data\\\\covid_data_333.csv', 'data\\\\covid_data_334.csv', 'data\\\\covid_data_335.csv', 'data\\\\covid_data_336.csv', 'data\\\\covid_data_337.csv', 'data\\\\covid_data_338.csv', 'data\\\\covid_data_339.csv', 'data\\\\covid_data_34.csv', 'data\\\\covid_data_340.csv', 'data\\\\covid_data_341.csv', 'data\\\\covid_data_342.csv', 'data\\\\covid_data_343.csv', 'data\\\\covid_data_344.csv', 'data\\\\covid_data_345.csv', 'data\\\\covid_data_346.csv', 'data\\\\covid_data_347.csv', 'data\\\\covid_data_348.csv', 'data\\\\covid_data_349.csv', 'data\\\\covid_data_35.csv', 'data\\\\covid_data_350.csv', 'data\\\\covid_data_351.csv', 'data\\\\covid_data_352.csv', 'data\\\\covid_data_353.csv', 'data\\\\covid_data_354.csv', 'data\\\\covid_data_355.csv', 'data\\\\covid_data_356.csv', 'data\\\\covid_data_357.csv', 'data\\\\covid_data_358.csv', 'data\\\\covid_data_359.csv', 'data\\\\covid_data_36.csv', 'data\\\\covid_data_360.csv', 'data\\\\covid_data_361.csv', 'data\\\\covid_data_362.csv', 'data\\\\covid_data_363.csv', 'data\\\\covid_data_364.csv', 'data\\\\covid_data_365.csv', 'data\\\\covid_data_366.csv', 'data\\\\covid_data_367.csv', 'data\\\\covid_data_368.csv', 'data\\\\covid_data_369.csv', 'data\\\\covid_data_37.csv', 'data\\\\covid_data_370.csv', 'data\\\\covid_data_371.csv', 'data\\\\covid_data_372.csv', 'data\\\\covid_data_373.csv', 'data\\\\covid_data_374.csv', 'data\\\\covid_data_375.csv', 'data\\\\covid_data_376.csv', 'data\\\\covid_data_377.csv', 'data\\\\covid_data_378.csv', 'data\\\\covid_data_379.csv', 'data\\\\covid_data_38.csv', 'data\\\\covid_data_380.csv', 'data\\\\covid_data_381.csv', 'data\\\\covid_data_382.csv', 'data\\\\covid_data_383.csv', 'data\\\\covid_data_384.csv', 'data\\\\covid_data_385.csv', 'data\\\\covid_data_386.csv', 'data\\\\covid_data_387.csv', 'data\\\\covid_data_388.csv', 'data\\\\covid_data_389.csv', 'data\\\\covid_data_39.csv', 'data\\\\covid_data_390.csv', 'data\\\\covid_data_391.csv', 'data\\\\covid_data_392.csv', 'data\\\\covid_data_393.csv', 'data\\\\covid_data_394.csv', 'data\\\\covid_data_395.csv', 'data\\\\covid_data_396.csv', 'data\\\\covid_data_397.csv', 'data\\\\covid_data_398.csv', 'data\\\\covid_data_399.csv', 'data\\\\covid_data_4.csv', 'data\\\\covid_data_40.csv', 'data\\\\covid_data_400.csv', 'data\\\\covid_data_401.csv', 'data\\\\covid_data_402.csv', 'data\\\\covid_data_403.csv', 'data\\\\covid_data_404.csv', 'data\\\\covid_data_405.csv', 'data\\\\covid_data_406.csv', 'data\\\\covid_data_407.csv', 'data\\\\covid_data_408.csv', 'data\\\\covid_data_409.csv', 'data\\\\covid_data_41.csv', 'data\\\\covid_data_410.csv', 'data\\\\covid_data_411.csv', 'data\\\\covid_data_412.csv', 'data\\\\covid_data_413.csv', 'data\\\\covid_data_414.csv', 'data\\\\covid_data_415.csv', 'data\\\\covid_data_416.csv', 'data\\\\covid_data_417.csv', 'data\\\\covid_data_418.csv', 'data\\\\covid_data_419.csv', 'data\\\\covid_data_42.csv', 'data\\\\covid_data_420.csv', 'data\\\\covid_data_421.csv', 'data\\\\covid_data_422.csv', 'data\\\\covid_data_423.csv', 'data\\\\covid_data_424.csv', 'data\\\\covid_data_425.csv', 'data\\\\covid_data_426.csv', 'data\\\\covid_data_427.csv', 'data\\\\covid_data_428.csv', 'data\\\\covid_data_429.csv', 'data\\\\covid_data_43.csv', 'data\\\\covid_data_430.csv', 'data\\\\covid_data_431.csv', 'data\\\\covid_data_432.csv', 'data\\\\covid_data_433.csv', 'data\\\\covid_data_434.csv', 'data\\\\covid_data_435.csv', 'data\\\\covid_data_436.csv', 'data\\\\covid_data_437.csv', 'data\\\\covid_data_438.csv', 'data\\\\covid_data_439.csv', 'data\\\\covid_data_44.csv', 'data\\\\covid_data_440.csv', 'data\\\\covid_data_441.csv', 'data\\\\covid_data_442.csv', 'data\\\\covid_data_443.csv', 'data\\\\covid_data_444.csv', 'data\\\\covid_data_445.csv', 'data\\\\covid_data_446.csv', 'data\\\\covid_data_447.csv', 'data\\\\covid_data_448.csv', 'data\\\\covid_data_449.csv', 'data\\\\covid_data_45.csv', 'data\\\\covid_data_450.csv', 'data\\\\covid_data_451.csv', 'data\\\\covid_data_452.csv', 'data\\\\covid_data_453.csv', 'data\\\\covid_data_454.csv', 'data\\\\covid_data_455.csv', 'data\\\\covid_data_456.csv', 'data\\\\covid_data_457.csv', 'data\\\\covid_data_458.csv', 'data\\\\covid_data_459.csv', 'data\\\\covid_data_46.csv', 'data\\\\covid_data_460.csv', 'data\\\\covid_data_461.csv', 'data\\\\covid_data_462.csv', 'data\\\\covid_data_463.csv', 'data\\\\covid_data_464.csv', 'data\\\\covid_data_465.csv', 'data\\\\covid_data_466.csv', 'data\\\\covid_data_467.csv', 'data\\\\covid_data_468.csv', 'data\\\\covid_data_469.csv', 'data\\\\covid_data_47.csv', 'data\\\\covid_data_470.csv', 'data\\\\covid_data_471.csv', 'data\\\\covid_data_472.csv', 'data\\\\covid_data_473.csv', 'data\\\\covid_data_474.csv', 'data\\\\covid_data_475.csv', 'data\\\\covid_data_476.csv', 'data\\\\covid_data_477.csv', 'data\\\\covid_data_478.csv', 'data\\\\covid_data_479.csv', 'data\\\\covid_data_48.csv', 'data\\\\covid_data_480.csv', 'data\\\\covid_data_481.csv', 'data\\\\covid_data_482.csv', 'data\\\\covid_data_483.csv', 'data\\\\covid_data_484.csv', 'data\\\\covid_data_485.csv', 'data\\\\covid_data_486.csv', 'data\\\\covid_data_487.csv', 'data\\\\covid_data_488.csv', 'data\\\\covid_data_489.csv', 'data\\\\covid_data_49.csv', 'data\\\\covid_data_490.csv', 'data\\\\covid_data_491.csv', 'data\\\\covid_data_492.csv', 'data\\\\covid_data_493.csv', 'data\\\\covid_data_494.csv', 'data\\\\covid_data_495.csv', 'data\\\\covid_data_496.csv', 'data\\\\covid_data_497.csv', 'data\\\\covid_data_498.csv', 'data\\\\covid_data_499.csv', 'data\\\\covid_data_5.csv', 'data\\\\covid_data_50.csv', 'data\\\\covid_data_500.csv', 'data\\\\covid_data_501.csv', 'data\\\\covid_data_502.csv', 'data\\\\covid_data_503.csv', 'data\\\\covid_data_504.csv', 'data\\\\covid_data_505.csv', 'data\\\\covid_data_506.csv', 'data\\\\covid_data_507.csv', 'data\\\\covid_data_508.csv', 'data\\\\covid_data_509.csv', 'data\\\\covid_data_51.csv', 'data\\\\covid_data_510.csv', 'data\\\\covid_data_511.csv', 'data\\\\covid_data_512.csv', 'data\\\\covid_data_513.csv', 'data\\\\covid_data_514.csv', 'data\\\\covid_data_515.csv', 'data\\\\covid_data_516.csv', 'data\\\\covid_data_517.csv', 'data\\\\covid_data_518.csv', 'data\\\\covid_data_519.csv', 'data\\\\covid_data_52.csv', 'data\\\\covid_data_520.csv', 'data\\\\covid_data_521.csv', 'data\\\\covid_data_522.csv', 'data\\\\covid_data_523.csv', 'data\\\\covid_data_524.csv', 'data\\\\covid_data_525.csv', 'data\\\\covid_data_526.csv', 'data\\\\covid_data_527.csv', 'data\\\\covid_data_528.csv', 'data\\\\covid_data_529.csv', 'data\\\\covid_data_53.csv', 'data\\\\covid_data_530.csv', 'data\\\\covid_data_531.csv', 'data\\\\covid_data_532.csv', 'data\\\\covid_data_533.csv', 'data\\\\covid_data_534.csv', 'data\\\\covid_data_535.csv', 'data\\\\covid_data_536.csv', 'data\\\\covid_data_537.csv', 'data\\\\covid_data_538.csv', 'data\\\\covid_data_539.csv', 'data\\\\covid_data_54.csv', 'data\\\\covid_data_540.csv', 'data\\\\covid_data_541.csv', 'data\\\\covid_data_542.csv', 'data\\\\covid_data_543.csv', 'data\\\\covid_data_544.csv', 'data\\\\covid_data_545.csv', 'data\\\\covid_data_546.csv', 'data\\\\covid_data_547.csv', 'data\\\\covid_data_548.csv', 'data\\\\covid_data_549.csv', 'data\\\\covid_data_55.csv', 'data\\\\covid_data_550.csv', 'data\\\\covid_data_551.csv', 'data\\\\covid_data_552.csv', 'data\\\\covid_data_553.csv', 'data\\\\covid_data_554.csv', 'data\\\\covid_data_555.csv', 'data\\\\covid_data_556.csv', 'data\\\\covid_data_557.csv', 'data\\\\covid_data_558.csv', 'data\\\\covid_data_559.csv', 'data\\\\covid_data_56.csv', 'data\\\\covid_data_560.csv', 'data\\\\covid_data_561.csv', 'data\\\\covid_data_562.csv', 'data\\\\covid_data_563.csv', 'data\\\\covid_data_564.csv', 'data\\\\covid_data_565.csv', 'data\\\\covid_data_566.csv', 'data\\\\covid_data_567.csv', 'data\\\\covid_data_568.csv', 'data\\\\covid_data_569.csv', 'data\\\\covid_data_57.csv', 'data\\\\covid_data_570.csv', 'data\\\\covid_data_571.csv', 'data\\\\covid_data_572.csv', 'data\\\\covid_data_573.csv', 'data\\\\covid_data_574.csv', 'data\\\\covid_data_575.csv', 'data\\\\covid_data_576.csv', 'data\\\\covid_data_577.csv', 'data\\\\covid_data_578.csv', 'data\\\\covid_data_579.csv', 'data\\\\covid_data_58.csv', 'data\\\\covid_data_580.csv', 'data\\\\covid_data_581.csv', 'data\\\\covid_data_582.csv', 'data\\\\covid_data_583.csv', 'data\\\\covid_data_584.csv', 'data\\\\covid_data_585.csv', 'data\\\\covid_data_586.csv', 'data\\\\covid_data_587.csv', 'data\\\\covid_data_588.csv', 'data\\\\covid_data_589.csv', 'data\\\\covid_data_59.csv', 'data\\\\covid_data_590.csv', 'data\\\\covid_data_591.csv', 'data\\\\covid_data_592.csv', 'data\\\\covid_data_593.csv', 'data\\\\covid_data_594.csv', 'data\\\\covid_data_595.csv', 'data\\\\covid_data_596.csv', 'data\\\\covid_data_597.csv', 'data\\\\covid_data_598.csv', 'data\\\\covid_data_599.csv', 'data\\\\covid_data_6.csv', 'data\\\\covid_data_60.csv', 'data\\\\covid_data_600.csv', 'data\\\\covid_data_601.csv', 'data\\\\covid_data_602.csv', 'data\\\\covid_data_603.csv', 'data\\\\covid_data_604.csv', 'data\\\\covid_data_605.csv', 'data\\\\covid_data_606.csv', 'data\\\\covid_data_607.csv', 'data\\\\covid_data_608.csv', 'data\\\\covid_data_609.csv', 'data\\\\covid_data_61.csv', 'data\\\\covid_data_610.csv', 'data\\\\covid_data_611.csv', 'data\\\\covid_data_612.csv', 'data\\\\covid_data_613.csv', 'data\\\\covid_data_614.csv', 'data\\\\covid_data_615.csv', 'data\\\\covid_data_616.csv', 'data\\\\covid_data_617.csv', 'data\\\\covid_data_618.csv', 'data\\\\covid_data_619.csv', 'data\\\\covid_data_62.csv', 'data\\\\covid_data_620.csv', 'data\\\\covid_data_621.csv', 'data\\\\covid_data_622.csv', 'data\\\\covid_data_623.csv', 'data\\\\covid_data_624.csv', 'data\\\\covid_data_625.csv', 'data\\\\covid_data_626.csv', 'data\\\\covid_data_627.csv', 'data\\\\covid_data_628.csv', 'data\\\\covid_data_629.csv', 'data\\\\covid_data_63.csv', 'data\\\\covid_data_630.csv', 'data\\\\covid_data_631.csv', 'data\\\\covid_data_632.csv', 'data\\\\covid_data_633.csv', 'data\\\\covid_data_634.csv', 'data\\\\covid_data_635.csv', 'data\\\\covid_data_636.csv', 'data\\\\covid_data_637.csv', 'data\\\\covid_data_638.csv', 'data\\\\covid_data_639.csv', 'data\\\\covid_data_64.csv', 'data\\\\covid_data_640.csv', 'data\\\\covid_data_641.csv', 'data\\\\covid_data_642.csv', 'data\\\\covid_data_643.csv', 'data\\\\covid_data_644.csv', 'data\\\\covid_data_645.csv', 'data\\\\covid_data_646.csv', 'data\\\\covid_data_647.csv', 'data\\\\covid_data_648.csv', 'data\\\\covid_data_649.csv', 'data\\\\covid_data_65.csv', 'data\\\\covid_data_650.csv', 'data\\\\covid_data_651.csv', 'data\\\\covid_data_652.csv', 'data\\\\covid_data_653.csv', 'data\\\\covid_data_654.csv', 'data\\\\covid_data_655.csv', 'data\\\\covid_data_656.csv', 'data\\\\covid_data_657.csv', 'data\\\\covid_data_658.csv', 'data\\\\covid_data_659.csv', 'data\\\\covid_data_66.csv', 'data\\\\covid_data_660.csv', 'data\\\\covid_data_661.csv', 'data\\\\covid_data_662.csv', 'data\\\\covid_data_663.csv', 'data\\\\covid_data_664.csv', 'data\\\\covid_data_665.csv', 'data\\\\covid_data_666.csv', 'data\\\\covid_data_667.csv', 'data\\\\covid_data_668.csv', 'data\\\\covid_data_669.csv', 'data\\\\covid_data_67.csv', 'data\\\\covid_data_670.csv', 'data\\\\covid_data_671.csv', 'data\\\\covid_data_672.csv', 'data\\\\covid_data_673.csv', 'data\\\\covid_data_674.csv', 'data\\\\covid_data_675.csv', 'data\\\\covid_data_676.csv', 'data\\\\covid_data_677.csv', 'data\\\\covid_data_678.csv', 'data\\\\covid_data_679.csv', 'data\\\\covid_data_68.csv', 'data\\\\covid_data_680.csv', 'data\\\\covid_data_681.csv', 'data\\\\covid_data_682.csv', 'data\\\\covid_data_683.csv', 'data\\\\covid_data_684.csv', 'data\\\\covid_data_685.csv', 'data\\\\covid_data_686.csv', 'data\\\\covid_data_687.csv', 'data\\\\covid_data_688.csv', 'data\\\\covid_data_689.csv', 'data\\\\covid_data_69.csv', 'data\\\\covid_data_690.csv', 'data\\\\covid_data_691.csv', 'data\\\\covid_data_692.csv', 'data\\\\covid_data_693.csv', 'data\\\\covid_data_694.csv', 'data\\\\covid_data_695.csv', 'data\\\\covid_data_696.csv', 'data\\\\covid_data_697.csv', 'data\\\\covid_data_698.csv', 'data\\\\covid_data_699.csv', 'data\\\\covid_data_7.csv', 'data\\\\covid_data_70.csv', 'data\\\\covid_data_700.csv', 'data\\\\covid_data_701.csv', 'data\\\\covid_data_702.csv', 'data\\\\covid_data_703.csv', 'data\\\\covid_data_704.csv', 'data\\\\covid_data_705.csv', 'data\\\\covid_data_706.csv', 'data\\\\covid_data_707.csv', 'data\\\\covid_data_708.csv', 'data\\\\covid_data_709.csv', 'data\\\\covid_data_71.csv', 'data\\\\covid_data_710.csv', 'data\\\\covid_data_711.csv', 'data\\\\covid_data_712.csv', 'data\\\\covid_data_713.csv', 'data\\\\covid_data_714.csv', 'data\\\\covid_data_715.csv', 'data\\\\covid_data_716.csv', 'data\\\\covid_data_717.csv', 'data\\\\covid_data_718.csv', 'data\\\\covid_data_719.csv', 'data\\\\covid_data_72.csv', 'data\\\\covid_data_720.csv', 'data\\\\covid_data_721.csv', 'data\\\\covid_data_722.csv', 'data\\\\covid_data_723.csv', 'data\\\\covid_data_724.csv', 'data\\\\covid_data_725.csv', 'data\\\\covid_data_726.csv', 'data\\\\covid_data_727.csv', 'data\\\\covid_data_728.csv', 'data\\\\covid_data_729.csv', 'data\\\\covid_data_73.csv', 'data\\\\covid_data_730.csv', 'data\\\\covid_data_731.csv', 'data\\\\covid_data_732.csv', 'data\\\\covid_data_733.csv', 'data\\\\covid_data_734.csv', 'data\\\\covid_data_735.csv', 'data\\\\covid_data_736.csv', 'data\\\\covid_data_737.csv', 'data\\\\covid_data_738.csv', 'data\\\\covid_data_739.csv', 'data\\\\covid_data_74.csv', 'data\\\\covid_data_740.csv', 'data\\\\covid_data_741.csv', 'data\\\\covid_data_742.csv', 'data\\\\covid_data_743.csv', 'data\\\\covid_data_744.csv', 'data\\\\covid_data_745.csv', 'data\\\\covid_data_746.csv', 'data\\\\covid_data_747.csv', 'data\\\\covid_data_748.csv', 'data\\\\covid_data_749.csv', 'data\\\\covid_data_75.csv', 'data\\\\covid_data_750.csv', 'data\\\\covid_data_751.csv', 'data\\\\covid_data_752.csv', 'data\\\\covid_data_753.csv', 'data\\\\covid_data_754.csv', 'data\\\\covid_data_755.csv', 'data\\\\covid_data_756.csv', 'data\\\\covid_data_757.csv', 'data\\\\covid_data_758.csv', 'data\\\\covid_data_759.csv', 'data\\\\covid_data_76.csv', 'data\\\\covid_data_760.csv', 'data\\\\covid_data_761.csv', 'data\\\\covid_data_762.csv', 'data\\\\covid_data_763.csv', 'data\\\\covid_data_764.csv', 'data\\\\covid_data_765.csv', 'data\\\\covid_data_766.csv', 'data\\\\covid_data_767.csv', 'data\\\\covid_data_768.csv', 'data\\\\covid_data_769.csv', 'data\\\\covid_data_77.csv', 'data\\\\covid_data_770.csv', 'data\\\\covid_data_771.csv', 'data\\\\covid_data_772.csv', 'data\\\\covid_data_773.csv', 'data\\\\covid_data_774.csv', 'data\\\\covid_data_775.csv', 'data\\\\covid_data_776.csv', 'data\\\\covid_data_777.csv', 'data\\\\covid_data_778.csv', 'data\\\\covid_data_779.csv', 'data\\\\covid_data_78.csv', 'data\\\\covid_data_780.csv', 'data\\\\covid_data_781.csv', 'data\\\\covid_data_782.csv', 'data\\\\covid_data_783.csv', 'data\\\\covid_data_784.csv', 'data\\\\covid_data_785.csv', 'data\\\\covid_data_786.csv', 'data\\\\covid_data_787.csv', 'data\\\\covid_data_788.csv', 'data\\\\covid_data_789.csv', 'data\\\\covid_data_79.csv', 'data\\\\covid_data_790.csv', 'data\\\\covid_data_791.csv', 'data\\\\covid_data_792.csv', 'data\\\\covid_data_793.csv', 'data\\\\covid_data_794.csv', 'data\\\\covid_data_795.csv', 'data\\\\covid_data_796.csv', 'data\\\\covid_data_797.csv', 'data\\\\covid_data_798.csv', 'data\\\\covid_data_799.csv', 'data\\\\covid_data_8.csv', 'data\\\\covid_data_80.csv', 'data\\\\covid_data_800.csv', 'data\\\\covid_data_801.csv', 'data\\\\covid_data_802.csv', 'data\\\\covid_data_803.csv', 'data\\\\covid_data_804.csv', 'data\\\\covid_data_805.csv', 'data\\\\covid_data_806.csv', 'data\\\\covid_data_807.csv', 'data\\\\covid_data_808.csv', 'data\\\\covid_data_809.csv', 'data\\\\covid_data_81.csv', 'data\\\\covid_data_810.csv', 'data\\\\covid_data_811.csv', 'data\\\\covid_data_812.csv', 'data\\\\covid_data_813.csv', 'data\\\\covid_data_814.csv', 'data\\\\covid_data_815.csv', 'data\\\\covid_data_816.csv', 'data\\\\covid_data_82.csv', 'data\\\\covid_data_83.csv', 'data\\\\covid_data_84.csv', 'data\\\\covid_data_85.csv', 'data\\\\covid_data_86.csv', 'data\\\\covid_data_87.csv', 'data\\\\covid_data_88.csv', 'data\\\\covid_data_89.csv', 'data\\\\covid_data_9.csv', 'data\\\\covid_data_90.csv', 'data\\\\covid_data_91.csv', 'data\\\\covid_data_92.csv', 'data\\\\covid_data_93.csv', 'data\\\\covid_data_94.csv', 'data\\\\covid_data_95.csv', 'data\\\\covid_data_96.csv', 'data\\\\covid_data_97.csv', 'data\\\\covid_data_98.csv', 'data\\\\covid_data_99.csv']]\n"
          ]
        }
      ],
      "metadata": {}
    },
    {
      "cell_type": "code",
      "execution_count": 9,
      "source": [
        "overallTrain = []\r\n",
        "overallTest = []\r\n",
        "for csvList in csvLists:  \r\n",
        "  train, test = train_test_split(csvList,\r\n",
        "                                test_size=testPercentage,\r\n",
        "                                train_size=trainingPercentage)\r\n",
        "  overallTrain.extend(train)\r\n",
        "  overallTest.extend(test)"
      ],
      "outputs": [],
      "metadata": {
        "id": "ahCtqgkDWUGX"
      }
    },
    {
      "cell_type": "markdown",
      "source": [
        "## Define and fine tune the pre-process function\n",
        "Our dataset contains many columns we don't need"
      ],
      "metadata": {
        "id": "I_UloE4oDfhO"
      }
    },
    {
      "cell_type": "code",
      "execution_count": 10,
      "source": [
        "def preProcessDataFrame(df: pd.DataFrame) -> pd.DataFrame:\r\n",
        "  \"\"\"\r\n",
        "  Takes in a dataframe and returns another dataframe that contains only the data we want.\r\n",
        "  Might wanna normalise the data as well\r\n",
        "  Maybe fill the nulls with zeros or other appropriate values.\r\n",
        "  \"\"\"\r\n",
        "  df_cp = df.copy()\r\n",
        "  \r\n",
        "#   df_cp.dropna(axis=0,\r\n",
        "#                how='any', \r\n",
        "#                subset=[\"username\", \"tweet id\"], \r\n",
        "#                inplace=True)\r\n",
        "  \r\n",
        "  df_cp = df_cp[[\"#followers\",\r\n",
        "                \"#friends\",\r\n",
        "                \"#retweets\",\r\n",
        "                \"#favorites\",\r\n",
        "                \"timeseg\",\r\n",
        "                \"weekend\",\r\n",
        "                \"entity_count\",\r\n",
        "                \"hashtag_count\",\r\n",
        "                \"mention_count\",\r\n",
        "                \"url_count\",\r\n",
        "                \"ratio_fav_#followers\",\r\n",
        "                \"day_of_week\",\r\n",
        "                \"sentiment_p\",\r\n",
        "                \"sentiment_n\",\r\n",
        "                \"sentiment_ppn\"]]\r\n",
        "  return df_cp\r\n",
        "\r\n",
        "\r\n",
        "# sampleDf = pd.read_csv(overallTrain[0])\r\n",
        "sampleDf = pd.read_csv(f\"{dataFolderPath}/covid_data_1.csv\")\r\n",
        "# print(sampleDf.head())\r\n",
        "print(sampleDf.info())\r\n",
        "# [print(x) for x in sampleDf.columns] # show list of columns in sampleDf\r\n",
        "print(\"\\n====[AFTER PRE-PROCESSING]====\\n\")\r\n",
        "# print(preProcessDataFrame(sampleDf.head()))\r\n",
        "pp = preProcessDataFrame(sampleDf)\r\n",
        "print(pp.info())"
      ],
      "outputs": [
        {
          "output_type": "stream",
          "name": "stdout",
          "text": [
            "<class 'pandas.core.frame.DataFrame'>\n",
            "RangeIndex: 10000 entries, 0 to 9999\n",
            "Data columns (total 31 columns):\n",
            " #   Column                Non-Null Count  Dtype  \n",
            "---  ------                --------------  -----  \n",
            " 0   Unnamed: 0            10000 non-null  int64  \n",
            " 1   tweet_id              10000 non-null  int64  \n",
            " 2   username              10000 non-null  object \n",
            " 3   timestamp             10000 non-null  object \n",
            " 4   #followers            10000 non-null  float64\n",
            " 5   #friends              10000 non-null  int64  \n",
            " 6   #retweets             10000 non-null  int64  \n",
            " 7   #favorites            10000 non-null  int64  \n",
            " 8   entities              10000 non-null  object \n",
            " 9   sentiment             10000 non-null  object \n",
            " 10  mentions              9984 non-null   object \n",
            " 11  hashtags              9998 non-null   object \n",
            " 12  urls                  10000 non-null  object \n",
            " 13  timeseg               10000 non-null  int64  \n",
            " 14  date                  10000 non-null  object \n",
            " 15  weekend               10000 non-null  int64  \n",
            " 16  entity_exist          10000 non-null  int64  \n",
            " 17  hashtag_exist         10000 non-null  int64  \n",
            " 18  mention_exist         10000 non-null  int64  \n",
            " 19  url_exist             10000 non-null  int64  \n",
            " 20  entity_count          10000 non-null  int64  \n",
            " 21  hashtag_count         10000 non-null  int64  \n",
            " 22  mention_count         10000 non-null  int64  \n",
            " 23  url_count             10000 non-null  int64  \n",
            " 24  tlen                  10000 non-null  int64  \n",
            " 25  ratio_fav_#followers  10000 non-null  float64\n",
            " 26  ratio_fri_#followers  10000 non-null  float64\n",
            " 27  day_of_week           10000 non-null  int64  \n",
            " 28  sentiment_p           10000 non-null  float64\n",
            " 29  sentiment_n           10000 non-null  float64\n",
            " 30  sentiment_ppn         10000 non-null  float64\n",
            "dtypes: float64(6), int64(17), object(8)\n",
            "memory usage: 2.4+ MB\n",
            "None\n",
            "\n",
            "====[AFTER PRE-PROCESSING]====\n",
            "\n",
            "<class 'pandas.core.frame.DataFrame'>\n",
            "RangeIndex: 10000 entries, 0 to 9999\n",
            "Data columns (total 15 columns):\n",
            " #   Column                Non-Null Count  Dtype  \n",
            "---  ------                --------------  -----  \n",
            " 0   #followers            10000 non-null  float64\n",
            " 1   #friends              10000 non-null  int64  \n",
            " 2   #retweets             10000 non-null  int64  \n",
            " 3   #favorites            10000 non-null  int64  \n",
            " 4   timeseg               10000 non-null  int64  \n",
            " 5   weekend               10000 non-null  int64  \n",
            " 6   entity_count          10000 non-null  int64  \n",
            " 7   hashtag_count         10000 non-null  int64  \n",
            " 8   mention_count         10000 non-null  int64  \n",
            " 9   url_count             10000 non-null  int64  \n",
            " 10  ratio_fav_#followers  10000 non-null  float64\n",
            " 11  day_of_week           10000 non-null  int64  \n",
            " 12  sentiment_p           10000 non-null  float64\n",
            " 13  sentiment_n           10000 non-null  float64\n",
            " 14  sentiment_ppn         10000 non-null  float64\n",
            "dtypes: float64(5), int64(10)\n",
            "memory usage: 1.1 MB\n",
            "None\n"
          ]
        }
      ],
      "metadata": {
        "id": "0-YOuMV6Zxgg",
        "colab": {
          "base_uri": "https://localhost:8080/"
        },
        "outputId": "b3a8308c-1bb9-4525-cde8-2d5f1a6a5e9d"
      }
    },
    {
      "cell_type": "code",
      "execution_count": 11,
      "source": [
        "class TwitterDataset(Dataset):\r\n",
        "  def __init__(self, filenames, preProcessFunc = None):\r\n",
        "    # `filenames` is a list of strings the contains all file names.\r\n",
        "    # `batch_size` is the determines the number of files that we want to read in a chunk.\r\n",
        "        self.filenames = filenames\r\n",
        "        self.preProcess = preProcessFunc\r\n",
        "  def __len__(self):\r\n",
        "        return len(self.filenames)\r\n",
        "  def __getitem__(self, idx): #idx means index of the chunk.\r\n",
        "    # In this method, we do all the preprocessing.\r\n",
        "    # First read data from files in a chunk. Preprocess it. Extract labels. Then return data and labels.\r\n",
        "        csvFile = self.filenames[idx]\r\n",
        "        df = pd.read_csv(csvFile)\r\n",
        "        if self.preProcess:\r\n",
        "          df = self.preProcess(df)\r\n",
        "\r\n",
        "        x_arr = torch.Tensor(df.drop(columns=['#retweets']).to_numpy().astype(float))\r\n",
        "        y = torch.Tensor(df[\"#retweets\"].to_numpy().astype(float))\r\n",
        "        X = torch.squeeze( x_arr )\r\n",
        "        if idx == self.__len__():  \r\n",
        "          raise IndexError\r\n",
        "        return X, y\r\n",
        "  def sample_df(self, idx = 0):\r\n",
        "    return self[idx]"
      ],
      "outputs": [],
      "metadata": {
        "id": "fwu0jnghhZ_u"
      }
    },
    {
      "cell_type": "code",
      "execution_count": 12,
      "source": [
        "train_loader = DataLoader(dataset = TwitterDataset(overallTrain, preProcessDataFrame),\r\n",
        "                            batch_size = 1,\r\n",
        "                            shuffle = True)"
      ],
      "outputs": [],
      "metadata": {
        "id": "mHeuGojhkMFG"
      }
    },
    {
      "cell_type": "markdown",
      "source": [
        "# Build the network\n",
        "Make sure this network takes in whatever input you give it and outputs a number. Alternative, if this is an immediate model, like the zero/more than zero retweets classifier, than train it and save the parameters externally. Then train the regressor in another copy of this script."
      ],
      "metadata": {
        "id": "fc_LITryyWzS"
      }
    },
    {
      "cell_type": "code",
      "execution_count": 13,
      "source": [
        "class myNeuralNetwork(nn.Module): # Please change the name to your own network\r\n",
        "  def __init__(self, input_size):\r\n",
        "    super(myNeuralNetwork, self).__init__()\r\n",
        "\r\n",
        "    self.fc1 = nn.Linear(input_size, 2048)\r\n",
        "    self.fc2 = nn.Linear(2048, 512)\r\n",
        "    self.fc3 = nn.Linear(512, 128)\r\n",
        "    self.fc4 = nn.Linear(128, 1)\r\n",
        "    self.dropout = nn.Dropout(0.3)\r\n",
        "    self.nonlinearity = nn.ReLU()\r\n",
        "    self.batchnorm1 = nn.BatchNorm1d(2048)\r\n",
        "    self.batchnorm2 = nn.BatchNorm1d(512)\r\n",
        "    self.batchnorm3 = nn.BatchNorm1d(128)\r\n",
        "\r\n",
        "    pass\r\n",
        "\r\n",
        "  def forward(self, x):\r\n",
        "\r\n",
        "    x = self.dropout(F.relu(self.batchnorm1(self.fc1(x))))\r\n",
        "    x = self.dropout(F.relu(self.batchnorm2(self.fc2(x))))\r\n",
        "    x = self.dropout(F.relu(self.batchnorm3(self.fc3(x))))\r\n",
        "    x = F.relu(self.fc4(x))\r\n",
        "\r\n",
        "    return x\r\n",
        "\r\n",
        "class myNeuralNetwork2(nn.Module): # Please change the name to your own network\r\n",
        "  def __init__(self, input_size):\r\n",
        "    super(myNeuralNetwork2, self).__init__()\r\n",
        "\r\n",
        "    self.fc1 = nn.Linear(input_size, 256)\r\n",
        "    self.fc2 = nn.Linear(256, 64)\r\n",
        "    self.fc3 = nn.Linear(64, 64)\r\n",
        "    self.fc4 = nn.Linear(64, 1)\r\n",
        "    self.dropout = nn.Dropout(0.3)\r\n",
        "    self.nonlinearity = nn.ReLU()\r\n",
        "    self.batchnorm1 = nn.BatchNorm1d(256)\r\n",
        "    self.batchnorm2 = nn.BatchNorm1d(64)\r\n",
        "    self.batchnorm3 = nn.BatchNorm1d(64)\r\n",
        "\r\n",
        "    pass\r\n",
        "\r\n",
        "  def forward(self, x):\r\n",
        "\r\n",
        "    x = self.dropout(F.relu(self.batchnorm1(self.fc1(x))))\r\n",
        "    x = self.dropout(F.relu(self.batchnorm2(self.fc2(x))))\r\n",
        "    x = self.dropout(F.relu(self.batchnorm3(self.fc3(x))))\r\n",
        "    x = F.relu(self.fc4(x))\r\n",
        "\r\n",
        "    return x\r\n",
        "  "
      ],
      "outputs": [],
      "metadata": {
        "id": "sKpYd8cNwSRp"
      }
    },
    {
      "cell_type": "markdown",
      "source": [
        "# Train the network\n",
        "## Training parameters\n",
        "Choice of optimiser and loss and training params are entirely up to you"
      ],
      "metadata": {
        "id": "j4OyQtGUzK1R"
      }
    },
    {
      "cell_type": "code",
      "execution_count": 14,
      "source": [
        "numEpochs = 100\r\n",
        "lr_rate = 1e-1\r\n",
        "\r\n",
        "input_size = 14\r\n",
        "\r\n",
        "b_size = 2500\r\n",
        "\r\n",
        "# model = myNeuralNetwork(input_size)\r\n",
        "model = myNeuralNetwork2(input_size)\r\n",
        "\r\n",
        "loss_function = nn.MSELoss() # Change to BCELoss for classification problem\r\n",
        "# optimizer = torch.optim.SGD(model.parameters(), lr=lr_rate, momentum=0.1)\r\n",
        "optimizer = torch.optim.Adam(model.parameters(), lr=lr_rate)"
      ],
      "outputs": [],
      "metadata": {
        "id": "4kAg-2nBv_dZ"
      }
    },
    {
      "cell_type": "code",
      "execution_count": 15,
      "source": [
        "if using_GPU:\r\n",
        "  model = model.cuda()\r\n",
        "\r\n",
        "# Check if the Module is on GPU by checking if a parameter is on GPU\r\n",
        "print(\"Model on GPU?:\")\r\n",
        "print(next(model.parameters()).is_cuda)"
      ],
      "outputs": [
        {
          "output_type": "stream",
          "name": "stdout",
          "text": [
            "Model on GPU?:\n",
            "True\n"
          ]
        }
      ],
      "metadata": {
        "colab": {
          "base_uri": "https://localhost:8080/"
        },
        "id": "iamiSCWGNoAf",
        "outputId": "7394a08e-56c3-40d2-eede-c30820674a28"
      }
    },
    {
      "cell_type": "markdown",
      "source": [
        "## Training for-loop"
      ],
      "metadata": {
        "id": "OqC5_j5tzOqv"
      }
    },
    {
      "cell_type": "code",
      "execution_count": 16,
      "source": [
        "loss_lst = []\r\n",
        "\r\n",
        "for i in tqdm(range(numEpochs)):\r\n",
        "  for X_a, y_a in train_loader:\r\n",
        "    \r\n",
        "    X_a = torch.squeeze(X_a)\r\n",
        "    y_a = y_a.T\r\n",
        "\r\n",
        "    l = int(len(X_a)/b_size)\r\n",
        "\r\n",
        "    for m in range(l):\r\n",
        "      a = m*b_size\r\n",
        "      b = (m+1)*b_size-1\r\n",
        "\r\n",
        "      X = X_a[a:b]\r\n",
        "      y = y_a[a:b]\r\n",
        "\r\n",
        "      if using_GPU:\r\n",
        "        X = X.cuda()\r\n",
        "        y = y.cuda()\r\n",
        "\r\n",
        "      y_hat = model(X)\r\n",
        "\r\n",
        "      optimizer.zero_grad() \r\n",
        "      y_hat = model(X)\r\n",
        "      y_log = torch.log(y+1)\r\n",
        "      loss = loss_function(y_hat, y_log) #calculate the loss\r\n",
        "      loss.backward() #backprop\r\n",
        "      optimizer.step() #does the update\r\n",
        "\r\n",
        "  loss_lst.append(loss.cpu().data.numpy())\r\n",
        "  if i % 1 == 0:\r\n",
        "    print (\"Epoch: {0}, Loss: {1}, \".format(i, loss.cpu().data.numpy()))\r\n"
      ],
      "outputs": [
        {
          "output_type": "stream",
          "name": "stderr",
          "text": [
            "  1%|          | 1/100 [02:53<4:46:53, 173.87s/it]"
          ]
        },
        {
          "output_type": "stream",
          "name": "stdout",
          "text": [
            "Epoch: 0, Loss: 2.0531094074249268, \n"
          ]
        },
        {
          "output_type": "stream",
          "name": "stderr",
          "text": [
            "  2%|▏         | 2/100 [05:43<4:39:39, 171.22s/it]"
          ]
        },
        {
          "output_type": "stream",
          "name": "stdout",
          "text": [
            "Epoch: 1, Loss: 1.442551851272583, \n"
          ]
        },
        {
          "output_type": "stream",
          "name": "stderr",
          "text": [
            "  3%|▎         | 3/100 [08:41<4:41:39, 174.22s/it]"
          ]
        },
        {
          "output_type": "stream",
          "name": "stdout",
          "text": [
            "Epoch: 2, Loss: 1.456790566444397, \n"
          ]
        },
        {
          "output_type": "stream",
          "name": "stderr",
          "text": [
            "  4%|▍         | 4/100 [11:40<4:42:19, 176.45s/it]"
          ]
        },
        {
          "output_type": "stream",
          "name": "stdout",
          "text": [
            "Epoch: 3, Loss: 1.2621320486068726, \n"
          ]
        },
        {
          "output_type": "stream",
          "name": "stderr",
          "text": [
            "  5%|▌         | 5/100 [14:43<4:42:41, 178.55s/it]"
          ]
        },
        {
          "output_type": "stream",
          "name": "stdout",
          "text": [
            "Epoch: 4, Loss: 1.2067164182662964, \n"
          ]
        },
        {
          "output_type": "stream",
          "name": "stderr",
          "text": [
            "  6%|▌         | 6/100 [17:21<4:28:54, 171.64s/it]"
          ]
        },
        {
          "output_type": "stream",
          "name": "stdout",
          "text": [
            "Epoch: 5, Loss: 1.1652895212173462, \n"
          ]
        },
        {
          "output_type": "stream",
          "name": "stderr",
          "text": [
            "  7%|▋         | 7/100 [19:56<4:17:51, 166.36s/it]"
          ]
        },
        {
          "output_type": "stream",
          "name": "stdout",
          "text": [
            "Epoch: 6, Loss: 0.9890528321266174, \n"
          ]
        },
        {
          "output_type": "stream",
          "name": "stderr",
          "text": [
            "  8%|▊         | 8/100 [22:30<4:08:56, 162.36s/it]"
          ]
        },
        {
          "output_type": "stream",
          "name": "stdout",
          "text": [
            "Epoch: 7, Loss: 1.211333990097046, \n"
          ]
        },
        {
          "output_type": "stream",
          "name": "stderr",
          "text": [
            "  9%|▉         | 9/100 [25:05<4:02:54, 160.16s/it]"
          ]
        },
        {
          "output_type": "stream",
          "name": "stdout",
          "text": [
            "Epoch: 8, Loss: 1.1773356199264526, \n"
          ]
        },
        {
          "output_type": "stream",
          "name": "stderr",
          "text": [
            " 10%|█         | 10/100 [27:47<4:01:02, 160.70s/it]"
          ]
        },
        {
          "output_type": "stream",
          "name": "stdout",
          "text": [
            "Epoch: 9, Loss: 1.0783699750900269, \n"
          ]
        },
        {
          "output_type": "stream",
          "name": "stderr",
          "text": [
            " 11%|█         | 11/100 [30:24<3:56:33, 159.48s/it]"
          ]
        },
        {
          "output_type": "stream",
          "name": "stdout",
          "text": [
            "Epoch: 10, Loss: 1.385689377784729, \n"
          ]
        },
        {
          "output_type": "stream",
          "name": "stderr",
          "text": [
            " 12%|█▏        | 12/100 [33:10<3:56:55, 161.54s/it]"
          ]
        },
        {
          "output_type": "stream",
          "name": "stdout",
          "text": [
            "Epoch: 11, Loss: 1.3335802555084229, \n"
          ]
        },
        {
          "output_type": "stream",
          "name": "stderr",
          "text": [
            " 13%|█▎        | 13/100 [36:15<4:04:34, 168.67s/it]"
          ]
        },
        {
          "output_type": "stream",
          "name": "stdout",
          "text": [
            "Epoch: 12, Loss: 1.3399240970611572, \n"
          ]
        },
        {
          "output_type": "stream",
          "name": "stderr",
          "text": [
            " 14%|█▍        | 14/100 [39:26<4:11:25, 175.42s/it]"
          ]
        },
        {
          "output_type": "stream",
          "name": "stdout",
          "text": [
            "Epoch: 13, Loss: 0.9535972476005554, \n"
          ]
        },
        {
          "output_type": "stream",
          "name": "stderr",
          "text": [
            " 15%|█▌        | 15/100 [42:17<4:06:14, 173.82s/it]"
          ]
        },
        {
          "output_type": "stream",
          "name": "stdout",
          "text": [
            "Epoch: 14, Loss: 1.0862449407577515, \n"
          ]
        },
        {
          "output_type": "stream",
          "name": "stderr",
          "text": [
            " 16%|█▌        | 16/100 [44:59<3:58:39, 170.47s/it]"
          ]
        },
        {
          "output_type": "stream",
          "name": "stdout",
          "text": [
            "Epoch: 15, Loss: 1.3474751710891724, \n"
          ]
        },
        {
          "output_type": "stream",
          "name": "stderr",
          "text": [
            " 17%|█▋        | 17/100 [47:32<3:48:34, 165.24s/it]"
          ]
        },
        {
          "output_type": "stream",
          "name": "stdout",
          "text": [
            "Epoch: 16, Loss: 1.026496171951294, \n"
          ]
        },
        {
          "output_type": "stream",
          "name": "stderr",
          "text": [
            " 18%|█▊        | 18/100 [50:06<3:41:01, 161.73s/it]"
          ]
        },
        {
          "output_type": "stream",
          "name": "stdout",
          "text": [
            "Epoch: 17, Loss: 1.11922287940979, \n"
          ]
        },
        {
          "output_type": "stream",
          "name": "stderr",
          "text": [
            " 19%|█▉        | 19/100 [52:47<3:38:10, 161.61s/it]"
          ]
        },
        {
          "output_type": "stream",
          "name": "stdout",
          "text": [
            "Epoch: 18, Loss: 1.094211220741272, \n"
          ]
        },
        {
          "output_type": "stream",
          "name": "stderr",
          "text": [
            " 20%|██        | 20/100 [55:21<3:32:17, 159.22s/it]"
          ]
        },
        {
          "output_type": "stream",
          "name": "stdout",
          "text": [
            "Epoch: 19, Loss: 1.1369444131851196, \n"
          ]
        },
        {
          "output_type": "stream",
          "name": "stderr",
          "text": [
            " 21%|██        | 21/100 [58:04<3:30:59, 160.25s/it]"
          ]
        },
        {
          "output_type": "stream",
          "name": "stdout",
          "text": [
            "Epoch: 20, Loss: 0.861556351184845, \n"
          ]
        },
        {
          "output_type": "stream",
          "name": "stderr",
          "text": [
            " 22%|██▏       | 22/100 [1:00:49<3:30:10, 161.67s/it]"
          ]
        },
        {
          "output_type": "stream",
          "name": "stdout",
          "text": [
            "Epoch: 21, Loss: 1.1487332582473755, \n"
          ]
        },
        {
          "output_type": "stream",
          "name": "stderr",
          "text": [
            " 23%|██▎       | 23/100 [1:03:40<3:31:17, 164.64s/it]"
          ]
        },
        {
          "output_type": "stream",
          "name": "stdout",
          "text": [
            "Epoch: 22, Loss: 1.553033709526062, \n"
          ]
        },
        {
          "output_type": "stream",
          "name": "stderr",
          "text": [
            " 24%|██▍       | 24/100 [1:06:18<3:25:53, 162.54s/it]"
          ]
        },
        {
          "output_type": "stream",
          "name": "stdout",
          "text": [
            "Epoch: 23, Loss: 2.1329872608184814, \n"
          ]
        },
        {
          "output_type": "stream",
          "name": "stderr",
          "text": [
            " 25%|██▌       | 25/100 [1:08:36<3:13:54, 155.13s/it]"
          ]
        },
        {
          "output_type": "stream",
          "name": "stdout",
          "text": [
            "Epoch: 24, Loss: 1.1304408311843872, \n"
          ]
        },
        {
          "output_type": "stream",
          "name": "stderr",
          "text": [
            " 26%|██▌       | 26/100 [1:10:43<3:00:56, 146.71s/it]"
          ]
        },
        {
          "output_type": "stream",
          "name": "stdout",
          "text": [
            "Epoch: 25, Loss: 0.9742486476898193, \n"
          ]
        },
        {
          "output_type": "stream",
          "name": "stderr",
          "text": [
            " 27%|██▋       | 27/100 [1:12:51<2:51:52, 141.27s/it]"
          ]
        },
        {
          "output_type": "stream",
          "name": "stdout",
          "text": [
            "Epoch: 26, Loss: 1.3680474758148193, \n"
          ]
        },
        {
          "output_type": "stream",
          "name": "stderr",
          "text": [
            " 28%|██▊       | 28/100 [1:14:58<2:44:08, 136.79s/it]"
          ]
        },
        {
          "output_type": "stream",
          "name": "stdout",
          "text": [
            "Epoch: 27, Loss: 1.3194833993911743, \n"
          ]
        },
        {
          "output_type": "stream",
          "name": "stderr",
          "text": [
            " 29%|██▉       | 29/100 [1:17:04<2:38:04, 133.58s/it]"
          ]
        },
        {
          "output_type": "stream",
          "name": "stdout",
          "text": [
            "Epoch: 28, Loss: 1.2462904453277588, \n"
          ]
        },
        {
          "output_type": "stream",
          "name": "stderr",
          "text": [
            " 30%|███       | 30/100 [1:19:09<2:33:02, 131.18s/it]"
          ]
        },
        {
          "output_type": "stream",
          "name": "stdout",
          "text": [
            "Epoch: 29, Loss: 0.991080105304718, \n"
          ]
        },
        {
          "output_type": "stream",
          "name": "stderr",
          "text": [
            " 31%|███       | 31/100 [1:21:18<2:30:03, 130.49s/it]"
          ]
        },
        {
          "output_type": "stream",
          "name": "stdout",
          "text": [
            "Epoch: 30, Loss: 1.0231825113296509, \n"
          ]
        },
        {
          "output_type": "stream",
          "name": "stderr",
          "text": [
            " 32%|███▏      | 32/100 [1:23:24<2:26:12, 129.00s/it]"
          ]
        },
        {
          "output_type": "stream",
          "name": "stdout",
          "text": [
            "Epoch: 31, Loss: 2.4894468784332275, \n"
          ]
        },
        {
          "output_type": "stream",
          "name": "stderr",
          "text": [
            " 33%|███▎      | 33/100 [1:25:31<2:23:31, 128.54s/it]"
          ]
        },
        {
          "output_type": "stream",
          "name": "stdout",
          "text": [
            "Epoch: 32, Loss: 1.046778917312622, \n"
          ]
        },
        {
          "output_type": "stream",
          "name": "stderr",
          "text": [
            " 34%|███▍      | 34/100 [1:27:38<2:20:49, 128.03s/it]"
          ]
        },
        {
          "output_type": "stream",
          "name": "stdout",
          "text": [
            "Epoch: 33, Loss: 1.2221599817276, \n"
          ]
        },
        {
          "output_type": "stream",
          "name": "stderr",
          "text": [
            " 35%|███▌      | 35/100 [1:29:49<2:19:41, 128.95s/it]"
          ]
        },
        {
          "output_type": "stream",
          "name": "stdout",
          "text": [
            "Epoch: 34, Loss: 1.1852573156356812, \n"
          ]
        },
        {
          "output_type": "stream",
          "name": "stderr",
          "text": [
            " 36%|███▌      | 36/100 [1:32:18<2:23:56, 134.95s/it]"
          ]
        },
        {
          "output_type": "stream",
          "name": "stdout",
          "text": [
            "Epoch: 35, Loss: 1.2325536012649536, \n"
          ]
        },
        {
          "output_type": "stream",
          "name": "stderr",
          "text": [
            " 37%|███▋      | 37/100 [1:34:19<2:17:19, 130.79s/it]"
          ]
        },
        {
          "output_type": "stream",
          "name": "stdout",
          "text": [
            "Epoch: 36, Loss: 0.9893209338188171, \n"
          ]
        },
        {
          "output_type": "stream",
          "name": "stderr",
          "text": [
            " 38%|███▊      | 38/100 [1:36:14<2:10:22, 126.17s/it]"
          ]
        },
        {
          "output_type": "stream",
          "name": "stdout",
          "text": [
            "Epoch: 37, Loss: 1.7567310333251953, \n"
          ]
        },
        {
          "output_type": "stream",
          "name": "stderr",
          "text": [
            " 39%|███▉      | 39/100 [1:38:09<2:04:41, 122.65s/it]"
          ]
        },
        {
          "output_type": "stream",
          "name": "stdout",
          "text": [
            "Epoch: 38, Loss: 1.169049859046936, \n"
          ]
        },
        {
          "output_type": "stream",
          "name": "stderr",
          "text": [
            " 40%|████      | 40/100 [1:40:03<2:00:13, 120.22s/it]"
          ]
        },
        {
          "output_type": "stream",
          "name": "stdout",
          "text": [
            "Epoch: 39, Loss: 1.2543443441390991, \n"
          ]
        },
        {
          "output_type": "stream",
          "name": "stderr",
          "text": [
            " 41%|████      | 41/100 [1:41:59<1:56:43, 118.70s/it]"
          ]
        },
        {
          "output_type": "stream",
          "name": "stdout",
          "text": [
            "Epoch: 40, Loss: 1.2423590421676636, \n"
          ]
        },
        {
          "output_type": "stream",
          "name": "stderr",
          "text": [
            " 42%|████▏     | 42/100 [1:43:53<1:53:23, 117.29s/it]"
          ]
        },
        {
          "output_type": "stream",
          "name": "stdout",
          "text": [
            "Epoch: 41, Loss: 1.1526113748550415, \n"
          ]
        },
        {
          "output_type": "stream",
          "name": "stderr",
          "text": [
            " 43%|████▎     | 43/100 [1:45:47<1:50:37, 116.45s/it]"
          ]
        },
        {
          "output_type": "stream",
          "name": "stdout",
          "text": [
            "Epoch: 42, Loss: 1.4255483150482178, \n"
          ]
        },
        {
          "output_type": "stream",
          "name": "stderr",
          "text": [
            " 44%|████▍     | 44/100 [1:47:41<1:47:58, 115.70s/it]"
          ]
        },
        {
          "output_type": "stream",
          "name": "stdout",
          "text": [
            "Epoch: 43, Loss: 1.231513500213623, \n"
          ]
        },
        {
          "output_type": "stream",
          "name": "stderr",
          "text": [
            " 45%|████▌     | 45/100 [1:49:35<1:45:36, 115.20s/it]"
          ]
        },
        {
          "output_type": "stream",
          "name": "stdout",
          "text": [
            "Epoch: 44, Loss: 0.8741066455841064, \n"
          ]
        },
        {
          "output_type": "stream",
          "name": "stderr",
          "text": [
            " 46%|████▌     | 46/100 [1:51:41<1:46:35, 118.44s/it]"
          ]
        },
        {
          "output_type": "stream",
          "name": "stdout",
          "text": [
            "Epoch: 45, Loss: 2.2837400436401367, \n"
          ]
        },
        {
          "output_type": "stream",
          "name": "stderr",
          "text": [
            " 47%|████▋     | 47/100 [1:53:39<1:44:32, 118.35s/it]"
          ]
        },
        {
          "output_type": "stream",
          "name": "stdout",
          "text": [
            "Epoch: 46, Loss: 1.5724570751190186, \n"
          ]
        },
        {
          "output_type": "stream",
          "name": "stderr",
          "text": [
            " 48%|████▊     | 48/100 [1:55:36<1:42:08, 117.86s/it]"
          ]
        },
        {
          "output_type": "stream",
          "name": "stdout",
          "text": [
            "Epoch: 47, Loss: 1.0950778722763062, \n"
          ]
        },
        {
          "output_type": "stream",
          "name": "stderr",
          "text": [
            " 49%|████▉     | 49/100 [1:57:32<1:39:48, 117.43s/it]"
          ]
        },
        {
          "output_type": "stream",
          "name": "stdout",
          "text": [
            "Epoch: 48, Loss: 1.2427085638046265, \n"
          ]
        },
        {
          "output_type": "stream",
          "name": "stderr",
          "text": [
            " 50%|█████     | 50/100 [1:59:30<1:38:01, 117.63s/it]"
          ]
        },
        {
          "output_type": "stream",
          "name": "stdout",
          "text": [
            "Epoch: 49, Loss: 0.9895772933959961, \n"
          ]
        },
        {
          "output_type": "stream",
          "name": "stderr",
          "text": [
            " 51%|█████     | 51/100 [2:01:28<1:36:02, 117.60s/it]"
          ]
        },
        {
          "output_type": "stream",
          "name": "stdout",
          "text": [
            "Epoch: 50, Loss: 1.013985276222229, \n"
          ]
        },
        {
          "output_type": "stream",
          "name": "stderr",
          "text": [
            " 52%|█████▏    | 52/100 [2:03:26<1:34:12, 117.77s/it]"
          ]
        },
        {
          "output_type": "stream",
          "name": "stdout",
          "text": [
            "Epoch: 51, Loss: 0.918770432472229, \n"
          ]
        },
        {
          "output_type": "stream",
          "name": "stderr",
          "text": [
            " 53%|█████▎    | 53/100 [2:05:24<1:32:16, 117.80s/it]"
          ]
        },
        {
          "output_type": "stream",
          "name": "stdout",
          "text": [
            "Epoch: 52, Loss: 0.9777166843414307, \n"
          ]
        },
        {
          "output_type": "stream",
          "name": "stderr",
          "text": [
            " 54%|█████▍    | 54/100 [2:07:21<1:30:03, 117.46s/it]"
          ]
        },
        {
          "output_type": "stream",
          "name": "stdout",
          "text": [
            "Epoch: 53, Loss: 1.2724084854125977, \n"
          ]
        },
        {
          "output_type": "stream",
          "name": "stderr",
          "text": [
            " 55%|█████▌    | 55/100 [2:09:18<1:28:08, 117.53s/it]"
          ]
        },
        {
          "output_type": "stream",
          "name": "stdout",
          "text": [
            "Epoch: 54, Loss: 1.5572469234466553, \n"
          ]
        },
        {
          "output_type": "stream",
          "name": "stderr",
          "text": [
            " 56%|█████▌    | 56/100 [2:11:18<1:26:34, 118.05s/it]"
          ]
        },
        {
          "output_type": "stream",
          "name": "stdout",
          "text": [
            "Epoch: 55, Loss: 0.8886722326278687, \n"
          ]
        },
        {
          "output_type": "stream",
          "name": "stderr",
          "text": [
            " 57%|█████▋    | 57/100 [2:13:15<1:24:29, 117.89s/it]"
          ]
        },
        {
          "output_type": "stream",
          "name": "stdout",
          "text": [
            "Epoch: 56, Loss: 0.9330346584320068, \n"
          ]
        },
        {
          "output_type": "stream",
          "name": "stderr",
          "text": [
            " 58%|█████▊    | 58/100 [2:15:12<1:22:20, 117.62s/it]"
          ]
        },
        {
          "output_type": "stream",
          "name": "stdout",
          "text": [
            "Epoch: 57, Loss: 1.7460968494415283, \n"
          ]
        },
        {
          "output_type": "stream",
          "name": "stderr",
          "text": [
            " 59%|█████▉    | 59/100 [2:17:11<1:20:34, 117.92s/it]"
          ]
        },
        {
          "output_type": "stream",
          "name": "stdout",
          "text": [
            "Epoch: 58, Loss: 1.1325147151947021, \n"
          ]
        },
        {
          "output_type": "stream",
          "name": "stderr",
          "text": [
            " 60%|██████    | 60/100 [2:19:08<1:18:32, 117.82s/it]"
          ]
        },
        {
          "output_type": "stream",
          "name": "stdout",
          "text": [
            "Epoch: 59, Loss: 0.9157199859619141, \n"
          ]
        },
        {
          "output_type": "stream",
          "name": "stderr",
          "text": [
            " 61%|██████    | 61/100 [2:21:07<1:16:43, 118.04s/it]"
          ]
        },
        {
          "output_type": "stream",
          "name": "stdout",
          "text": [
            "Epoch: 60, Loss: 1.0634273290634155, \n"
          ]
        },
        {
          "output_type": "stream",
          "name": "stderr",
          "text": [
            " 62%|██████▏   | 62/100 [2:23:05<1:14:48, 118.13s/it]"
          ]
        },
        {
          "output_type": "stream",
          "name": "stdout",
          "text": [
            "Epoch: 61, Loss: 1.224631428718567, \n"
          ]
        },
        {
          "output_type": "stream",
          "name": "stderr",
          "text": [
            " 63%|██████▎   | 63/100 [2:25:04<1:12:56, 118.29s/it]"
          ]
        },
        {
          "output_type": "stream",
          "name": "stdout",
          "text": [
            "Epoch: 62, Loss: 1.2704105377197266, \n"
          ]
        },
        {
          "output_type": "stream",
          "name": "stderr",
          "text": [
            " 64%|██████▍   | 64/100 [2:27:04<1:11:20, 118.90s/it]"
          ]
        },
        {
          "output_type": "stream",
          "name": "stdout",
          "text": [
            "Epoch: 63, Loss: 0.9746382832527161, \n"
          ]
        },
        {
          "output_type": "stream",
          "name": "stderr",
          "text": [
            " 65%|██████▌   | 65/100 [2:29:02<1:09:14, 118.69s/it]"
          ]
        },
        {
          "output_type": "stream",
          "name": "stdout",
          "text": [
            "Epoch: 64, Loss: 0.967166543006897, \n"
          ]
        },
        {
          "output_type": "stream",
          "name": "stderr",
          "text": [
            " 66%|██████▌   | 66/100 [2:31:01<1:07:14, 118.65s/it]"
          ]
        },
        {
          "output_type": "stream",
          "name": "stdout",
          "text": [
            "Epoch: 65, Loss: 0.8892517685890198, \n"
          ]
        },
        {
          "output_type": "stream",
          "name": "stderr",
          "text": [
            " 67%|██████▋   | 67/100 [2:33:00<1:05:18, 118.73s/it]"
          ]
        },
        {
          "output_type": "stream",
          "name": "stdout",
          "text": [
            "Epoch: 66, Loss: 1.3444782495498657, \n"
          ]
        },
        {
          "output_type": "stream",
          "name": "stderr",
          "text": [
            " 68%|██████▊   | 68/100 [2:34:58<1:03:16, 118.65s/it]"
          ]
        },
        {
          "output_type": "stream",
          "name": "stdout",
          "text": [
            "Epoch: 67, Loss: 1.2117129564285278, \n"
          ]
        },
        {
          "output_type": "stream",
          "name": "stderr",
          "text": [
            " 69%|██████▉   | 69/100 [2:36:56<1:01:09, 118.38s/it]"
          ]
        },
        {
          "output_type": "stream",
          "name": "stdout",
          "text": [
            "Epoch: 68, Loss: 1.1178070306777954, \n"
          ]
        },
        {
          "output_type": "stream",
          "name": "stderr",
          "text": [
            " 70%|███████   | 70/100 [2:38:54<59:10, 118.36s/it]  "
          ]
        },
        {
          "output_type": "stream",
          "name": "stdout",
          "text": [
            "Epoch: 69, Loss: 1.1936925649642944, \n"
          ]
        },
        {
          "output_type": "stream",
          "name": "stderr",
          "text": [
            " 71%|███████   | 71/100 [2:40:54<57:26, 118.85s/it]"
          ]
        },
        {
          "output_type": "stream",
          "name": "stdout",
          "text": [
            "Epoch: 70, Loss: 1.1430045366287231, \n"
          ]
        },
        {
          "output_type": "stream",
          "name": "stderr",
          "text": [
            " 72%|███████▏  | 72/100 [2:42:55<55:39, 119.25s/it]"
          ]
        },
        {
          "output_type": "stream",
          "name": "stdout",
          "text": [
            "Epoch: 71, Loss: 1.0889085531234741, \n"
          ]
        },
        {
          "output_type": "stream",
          "name": "stderr",
          "text": [
            " 73%|███████▎  | 73/100 [2:44:53<53:36, 119.12s/it]"
          ]
        },
        {
          "output_type": "stream",
          "name": "stdout",
          "text": [
            "Epoch: 72, Loss: 0.9480528235435486, \n"
          ]
        },
        {
          "output_type": "stream",
          "name": "stderr",
          "text": [
            " 74%|███████▍  | 74/100 [2:46:51<51:27, 118.73s/it]"
          ]
        },
        {
          "output_type": "stream",
          "name": "stdout",
          "text": [
            "Epoch: 73, Loss: 0.7824296355247498, \n"
          ]
        },
        {
          "output_type": "stream",
          "name": "stderr",
          "text": [
            " 75%|███████▌  | 75/100 [2:48:50<49:25, 118.63s/it]"
          ]
        },
        {
          "output_type": "stream",
          "name": "stdout",
          "text": [
            "Epoch: 74, Loss: 1.0781506299972534, \n"
          ]
        },
        {
          "output_type": "stream",
          "name": "stderr",
          "text": [
            " 76%|███████▌  | 76/100 [2:50:49<47:33, 118.90s/it]"
          ]
        },
        {
          "output_type": "stream",
          "name": "stdout",
          "text": [
            "Epoch: 75, Loss: 1.0276880264282227, \n"
          ]
        },
        {
          "output_type": "stream",
          "name": "stderr",
          "text": [
            " 77%|███████▋  | 77/100 [2:52:47<45:28, 118.63s/it]"
          ]
        },
        {
          "output_type": "stream",
          "name": "stdout",
          "text": [
            "Epoch: 76, Loss: 1.174619197845459, \n"
          ]
        },
        {
          "output_type": "stream",
          "name": "stderr",
          "text": [
            " 78%|███████▊  | 78/100 [2:54:46<43:33, 118.81s/it]"
          ]
        },
        {
          "output_type": "stream",
          "name": "stdout",
          "text": [
            "Epoch: 77, Loss: 0.9076084494590759, \n"
          ]
        },
        {
          "output_type": "stream",
          "name": "stderr",
          "text": [
            " 79%|███████▉  | 79/100 [2:57:05<43:41, 124.83s/it]"
          ]
        },
        {
          "output_type": "stream",
          "name": "stdout",
          "text": [
            "Epoch: 78, Loss: 0.7869916558265686, \n"
          ]
        },
        {
          "output_type": "stream",
          "name": "stderr",
          "text": [
            " 80%|████████  | 80/100 [2:59:05<41:03, 123.18s/it]"
          ]
        },
        {
          "output_type": "stream",
          "name": "stdout",
          "text": [
            "Epoch: 79, Loss: 0.9647361040115356, \n"
          ]
        },
        {
          "output_type": "stream",
          "name": "stderr",
          "text": [
            " 81%|████████  | 81/100 [3:01:03<38:32, 121.72s/it]"
          ]
        },
        {
          "output_type": "stream",
          "name": "stdout",
          "text": [
            "Epoch: 80, Loss: 1.2113627195358276, \n"
          ]
        },
        {
          "output_type": "stream",
          "name": "stderr",
          "text": [
            " 82%|████████▏ | 82/100 [3:03:02<36:16, 120.89s/it]"
          ]
        },
        {
          "output_type": "stream",
          "name": "stdout",
          "text": [
            "Epoch: 81, Loss: 1.0255730152130127, \n"
          ]
        },
        {
          "output_type": "stream",
          "name": "stderr",
          "text": [
            " 83%|████████▎ | 83/100 [3:05:01<34:05, 120.30s/it]"
          ]
        },
        {
          "output_type": "stream",
          "name": "stdout",
          "text": [
            "Epoch: 82, Loss: 1.100904107093811, \n"
          ]
        },
        {
          "output_type": "stream",
          "name": "stderr",
          "text": [
            " 84%|████████▍ | 84/100 [3:06:59<31:55, 119.70s/it]"
          ]
        },
        {
          "output_type": "stream",
          "name": "stdout",
          "text": [
            "Epoch: 83, Loss: 0.9518638253211975, \n"
          ]
        },
        {
          "output_type": "stream",
          "name": "stderr",
          "text": [
            " 85%|████████▌ | 85/100 [3:08:57<29:48, 119.21s/it]"
          ]
        },
        {
          "output_type": "stream",
          "name": "stdout",
          "text": [
            "Epoch: 84, Loss: 0.8939212560653687, \n"
          ]
        },
        {
          "output_type": "stream",
          "name": "stderr",
          "text": [
            " 86%|████████▌ | 86/100 [3:10:55<27:45, 118.95s/it]"
          ]
        },
        {
          "output_type": "stream",
          "name": "stdout",
          "text": [
            "Epoch: 85, Loss: 1.09720778465271, \n"
          ]
        },
        {
          "output_type": "stream",
          "name": "stderr",
          "text": [
            " 87%|████████▋ | 87/100 [3:12:55<25:49, 119.22s/it]"
          ]
        },
        {
          "output_type": "stream",
          "name": "stdout",
          "text": [
            "Epoch: 86, Loss: 1.1125555038452148, \n"
          ]
        },
        {
          "output_type": "stream",
          "name": "stderr",
          "text": [
            " 88%|████████▊ | 88/100 [3:14:55<23:50, 119.21s/it]"
          ]
        },
        {
          "output_type": "stream",
          "name": "stdout",
          "text": [
            "Epoch: 87, Loss: 0.9064053297042847, \n"
          ]
        },
        {
          "output_type": "stream",
          "name": "stderr",
          "text": [
            " 89%|████████▉ | 89/100 [3:16:53<21:48, 118.96s/it]"
          ]
        },
        {
          "output_type": "stream",
          "name": "stdout",
          "text": [
            "Epoch: 88, Loss: 2.0501961708068848, \n"
          ]
        },
        {
          "output_type": "stream",
          "name": "stderr",
          "text": [
            " 90%|█████████ | 90/100 [3:18:52<19:50, 119.05s/it]"
          ]
        },
        {
          "output_type": "stream",
          "name": "stdout",
          "text": [
            "Epoch: 89, Loss: 0.9705091118812561, \n"
          ]
        },
        {
          "output_type": "stream",
          "name": "stderr",
          "text": [
            " 91%|█████████ | 91/100 [3:20:51<17:50, 118.93s/it]"
          ]
        },
        {
          "output_type": "stream",
          "name": "stdout",
          "text": [
            "Epoch: 90, Loss: 0.8154611587524414, \n"
          ]
        },
        {
          "output_type": "stream",
          "name": "stderr",
          "text": [
            " 92%|█████████▏| 92/100 [3:22:50<15:53, 119.13s/it]"
          ]
        },
        {
          "output_type": "stream",
          "name": "stdout",
          "text": [
            "Epoch: 91, Loss: 0.9699537754058838, \n"
          ]
        },
        {
          "output_type": "stream",
          "name": "stderr",
          "text": [
            " 93%|█████████▎| 93/100 [3:24:49<13:52, 118.99s/it]"
          ]
        },
        {
          "output_type": "stream",
          "name": "stdout",
          "text": [
            "Epoch: 92, Loss: 1.15475594997406, \n"
          ]
        },
        {
          "output_type": "stream",
          "name": "stderr",
          "text": [
            " 94%|█████████▍| 94/100 [3:26:49<11:55, 119.21s/it]"
          ]
        },
        {
          "output_type": "stream",
          "name": "stdout",
          "text": [
            "Epoch: 93, Loss: 0.9658458828926086, \n"
          ]
        },
        {
          "output_type": "stream",
          "name": "stderr",
          "text": [
            " 95%|█████████▌| 95/100 [3:28:48<09:55, 119.10s/it]"
          ]
        },
        {
          "output_type": "stream",
          "name": "stdout",
          "text": [
            "Epoch: 94, Loss: 1.4686716794967651, \n"
          ]
        },
        {
          "output_type": "stream",
          "name": "stderr",
          "text": [
            " 96%|█████████▌| 96/100 [3:30:46<07:55, 118.82s/it]"
          ]
        },
        {
          "output_type": "stream",
          "name": "stdout",
          "text": [
            "Epoch: 95, Loss: 1.1424751281738281, \n"
          ]
        },
        {
          "output_type": "stream",
          "name": "stderr",
          "text": [
            " 97%|█████████▋| 97/100 [3:32:48<05:59, 119.95s/it]"
          ]
        },
        {
          "output_type": "stream",
          "name": "stdout",
          "text": [
            "Epoch: 96, Loss: 0.9556934237480164, \n"
          ]
        },
        {
          "output_type": "stream",
          "name": "stderr",
          "text": [
            " 98%|█████████▊| 98/100 [3:34:48<03:59, 119.93s/it]"
          ]
        },
        {
          "output_type": "stream",
          "name": "stdout",
          "text": [
            "Epoch: 97, Loss: 0.9153948426246643, \n"
          ]
        },
        {
          "output_type": "stream",
          "name": "stderr",
          "text": [
            " 99%|█████████▉| 99/100 [3:36:46<01:59, 119.42s/it]"
          ]
        },
        {
          "output_type": "stream",
          "name": "stdout",
          "text": [
            "Epoch: 98, Loss: 1.0373927354812622, \n"
          ]
        },
        {
          "output_type": "stream",
          "name": "stderr",
          "text": [
            "100%|██████████| 100/100 [3:38:45<00:00, 131.26s/it]"
          ]
        },
        {
          "output_type": "stream",
          "name": "stdout",
          "text": [
            "Epoch: 99, Loss: 0.9939596652984619, \n"
          ]
        },
        {
          "output_type": "stream",
          "name": "stderr",
          "text": [
            "\n"
          ]
        }
      ],
      "metadata": {
        "colab": {
          "base_uri": "https://localhost:8080/"
        },
        "id": "9dOXBluRjSbD",
        "outputId": "956e1980-9f4d-4d55-da7b-ce4ab464293a"
      }
    },
    {
      "cell_type": "code",
      "execution_count": 17,
      "source": [
        "import matplotlib.pyplot as plt\r\n",
        "\r\n",
        "plt.title(\"Training Loss\")\r\n",
        "plt.xlabel(\"Epochs\")\r\n",
        "plt.ylabel(\"Loss\")\r\n",
        "plt.plot(loss_lst)\r\n",
        "plt.show()"
      ],
      "outputs": [
        {
          "output_type": "display_data",
          "data": {
            "text/plain": [
              "<Figure size 432x288 with 1 Axes>"
            ],
            "image/png": "[encoded data removed]"
          },
          "metadata": {
            "needs_background": "light"
          }
        }
      ],
      "metadata": {}
    },
    {
      "cell_type": "code",
      "execution_count": 18,
      "source": [
        "# for i in tqdm(range(numEpochs)):\r\n",
        "#   for X, y in train_loader:\r\n",
        "\r\n",
        "#     X = torch.squeeze(X).cuda()\r\n",
        "#     y = y.T.cuda()\r\n",
        "\r\n",
        "#     y_hat = model(X)\r\n",
        "\r\n",
        "#     optimizer.zero_grad() \r\n",
        "#     y_hat = model(X)\r\n",
        "#     y_log = torch.log(y+1)\r\n",
        "#     loss = loss_function(y_hat, y_log) #calculate the loss\r\n",
        "#     loss.backward() #backprop\r\n",
        "#     optimizer.step() #does the update\r\n",
        "\r\n",
        "#   if i % 1 == 0:\r\n",
        "#       print (\"Epoch: {0}, Loss: {1}, \".format(i, loss.cpu().data.numpy()))"
      ],
      "outputs": [],
      "metadata": {
        "id": "jVxyBYuxmBr9"
      }
    },
    {
      "cell_type": "code",
      "execution_count": 19,
      "source": [
        "# # init empty model\r\n",
        "# modelA = myNeuralNetwork(7)\r\n",
        "# optimizerA = torch.optim.Adam(modelA.parameters(), lr=0.01)\r\n",
        "\r\n",
        "# # load checkpoint from saved path\r\n",
        "# path = os.path.join(\"/content\",\r\n",
        "#                               \"drive\", \r\n",
        "#                               \".shortcut-targets-by-id\", \r\n",
        "#                               \"19icV-F9BFrur0fxo4XvAZ82qIhipVrb-\",\r\n",
        "#                               \"aiProjectData50021\",\r\n",
        "#                               \"models\",\r\n",
        "#                               \"model_20210729_1755_10epochs.pt\")\r\n",
        "# checkpoint = torch.load(path)\r\n",
        "\r\n",
        "# # load model\r\n",
        "# modelA.load_state_dict(checkpoint['model_state_dict'])\r\n",
        "# optimizerA.load_state_dict(checkpoint['optimizer_state_dict'])"
      ],
      "outputs": [],
      "metadata": {
        "id": "h4ikmi0KEPNN"
      }
    },
    {
      "cell_type": "code",
      "execution_count": 20,
      "source": [
        "# # torch.cuda.empty_cache()\r\n",
        "# if using_GPU:\r\n",
        "#   modelA = modelA.cuda()\r\n",
        "\r\n",
        "# # Check if the Module is on GPU by checking if a parameter is on GPU\r\n",
        "# print(\"Model on GPU?:\")\r\n",
        "# print(next(modelA.parameters()).is_cuda)"
      ],
      "outputs": [],
      "metadata": {
        "id": "FWZxhcCoFxt0"
      }
    },
    {
      "cell_type": "markdown",
      "source": [
        "## Evaluate the model"
      ],
      "metadata": {
        "id": "C7lgli26zSpf"
      }
    },
    {
      "cell_type": "code",
      "execution_count": 21,
      "source": [
        "test_loader = DataLoader(dataset = TwitterDataset(overallTest, preProcessDataFrame),\r\n",
        "                            batch_size = 1,\r\n",
        "                            shuffle = True)\r\n",
        "model.eval()\r\n",
        "# cumLoss = 0\r\n",
        "for (i, (X, y)) in enumerate(test_loader):\r\n",
        "  X = torch.squeeze(X).cuda()\r\n",
        "  y = y.T.cuda()\r\n",
        "  y_hat = model(X)\r\n",
        "  y_log = torch.log(y+1)\r\n",
        "  # cum_loss += loss_fn(scores, labels).item()\r\n",
        "  loss = loss_function(y_hat, y_log)\r\n",
        "  # cumLoss += loss\r\n",
        "\r\n",
        "# print(f\"MSELoss: {cumLoss / len(test_loader)}\")\r\n",
        "print(f\"MSELoss: {loss}\")"
      ],
      "outputs": [
        {
          "output_type": "stream",
          "name": "stdout",
          "text": [
            "MSELoss: 1.9356576204299927\n"
          ]
        }
      ],
      "metadata": {
        "id": "decLmbTQzVJr"
      }
    },
    {
      "cell_type": "code",
      "execution_count": 22,
      "source": [
        "from datetime import datetime\r\n",
        "\r\n",
        "now = datetime.now()\r\n",
        "\r\n",
        "d4 = now.strftime(\"%Y%m%d_%H%M%S\")\r\n",
        "print(d4)"
      ],
      "outputs": [
        {
          "output_type": "stream",
          "name": "stdout",
          "text": [
            "20210803_043938\n"
          ]
        }
      ],
      "metadata": {}
    },
    {
      "cell_type": "markdown",
      "source": [
        "# Save your model"
      ],
      "metadata": {
        "id": "jqpz3C6iVlge"
      }
    },
    {
      "cell_type": "code",
      "execution_count": 23,
      "source": [
        "PATH = \"model_{0}.pt\".format(d4) #change this name to the name of your network\r\n",
        "\r\n",
        "torch.save({\r\n",
        "            'model_state_dict': model.state_dict(),\r\n",
        "            'optimizer_state_dict': optimizer.state_dict()\r\n",
        "            }, PATH)"
      ],
      "outputs": [],
      "metadata": {
        "id": "Kw6rcOCiVk13"
      }
    },
    {
      "cell_type": "markdown",
      "source": [
        "# Load model from elsewhere\n",
        "Just a reminder of how to load the model elsewhere after u save it. Also for me to deploy into the UI after you're done"
      ],
      "metadata": {
        "id": "25eRpxN3VyH2"
      }
    },
    {
      "cell_type": "code",
      "execution_count": 24,
      "source": [
        "# # init empty model\r\n",
        "# modelA = NeuralNetwork()\r\n",
        "# optimModelA = optim.SGD(modelA.parameters(), lr=0.001, momentum=0.9)\r\n",
        "\r\n",
        "# # load checkpoint from saved path\r\n",
        "# checkpoint = torch.load(PATH)\r\n",
        "\r\n",
        "# # load model\r\n",
        "# modelA.load_state_dict(checkpoint['model_state_dict'])\r\n",
        "# optimizerA.load_state_dict(checkpoint['optimizer_state_dict'])\r\n",
        "\r\n",
        "# modelA.eval()\r\n",
        "# # - or -\r\n",
        "# modelA.train()"
      ],
      "outputs": [],
      "metadata": {
        "id": "bk9XhXs6V1Gk"
      }
    },
    {
      "cell_type": "code",
      "execution_count": 25,
      "source": [
        "numEpochs = 20\r\n",
        "lr_rate = 1e-3\r\n",
        "\r\n",
        "input_size = 14\r\n",
        "\r\n",
        "b_size = 2500\r\n",
        "\r\n",
        "# model = myNeuralNetwork(input_size)\r\n",
        "model = myNeuralNetwork2(input_size)\r\n",
        "\r\n",
        "loss_function = nn.MSELoss() # Change to BCELoss for classification problem\r\n",
        "# optimizer = torch.optim.SGD(model.parameters(), lr=lr_rate, momentum=0.1)\r\n",
        "optimizer = torch.optim.Adam(model.parameters(), lr=lr_rate)\r\n",
        "\r\n",
        "if using_GPU:\r\n",
        "  model = model.cuda()\r\n",
        "\r\n",
        "# Check if the Module is on GPU by checking if a parameter is on GPU\r\n",
        "print(\"Model on GPU?:\")\r\n",
        "print(next(model.parameters()).is_cuda)\r\n",
        "\r\n",
        "loss_lst = []\r\n",
        "\r\n",
        "for i in tqdm(range(numEpochs)):\r\n",
        "  for X_a, y_a in train_loader:\r\n",
        "    \r\n",
        "    X_a = torch.squeeze(X_a)\r\n",
        "    y_a = y_a.T\r\n",
        "\r\n",
        "    l = int(len(X_a)/b_size)\r\n",
        "\r\n",
        "    for m in range(l):\r\n",
        "      a = m*b_size\r\n",
        "      b = (m+1)*b_size-1\r\n",
        "\r\n",
        "      X = X_a[a:b]\r\n",
        "      y = y_a[a:b]\r\n",
        "\r\n",
        "      if using_GPU:\r\n",
        "        X = X.cuda()\r\n",
        "        y = y.cuda()\r\n",
        "\r\n",
        "      y_hat = model(X)\r\n",
        "\r\n",
        "      optimizer.zero_grad() \r\n",
        "      y_hat = model(X)\r\n",
        "      y_log = torch.log(y+1)\r\n",
        "      loss = loss_function(y_hat, y_log) #calculate the loss\r\n",
        "      loss.backward() #backprop\r\n",
        "      optimizer.step() #does the update\r\n",
        "\r\n",
        "  loss_lst.append(loss.cpu().data.numpy())\r\n",
        "  if i % 1 == 0:\r\n",
        "    print (\"Epoch: {0}, Loss: {1}, \".format(i, loss.cpu().data.numpy()))\r\n"
      ],
      "outputs": [
        {
          "output_type": "stream",
          "name": "stderr",
          "text": [
            "  0%|          | 0/20 [00:00<?, ?it/s]"
          ]
        },
        {
          "output_type": "stream",
          "name": "stdout",
          "text": [
            "Model on GPU?:\n",
            "True\n"
          ]
        },
        {
          "output_type": "stream",
          "name": "stderr",
          "text": [
            "  5%|▌         | 1/20 [02:14<42:31, 134.31s/it]"
          ]
        },
        {
          "output_type": "stream",
          "name": "stdout",
          "text": [
            "Epoch: 0, Loss: 1.3394379615783691, \n"
          ]
        },
        {
          "output_type": "stream",
          "name": "stderr",
          "text": [
            " 10%|█         | 2/20 [04:17<38:19, 127.77s/it]"
          ]
        },
        {
          "output_type": "stream",
          "name": "stdout",
          "text": [
            "Epoch: 1, Loss: 1.0943013429641724, \n"
          ]
        },
        {
          "output_type": "stream",
          "name": "stderr",
          "text": [
            " 15%|█▌        | 3/20 [06:23<35:58, 126.96s/it]"
          ]
        },
        {
          "output_type": "stream",
          "name": "stdout",
          "text": [
            "Epoch: 2, Loss: 0.9279162883758545, \n"
          ]
        },
        {
          "output_type": "stream",
          "name": "stderr",
          "text": [
            " 20%|██        | 4/20 [08:27<33:30, 125.69s/it]"
          ]
        },
        {
          "output_type": "stream",
          "name": "stdout",
          "text": [
            "Epoch: 3, Loss: 0.7876824736595154, \n"
          ]
        },
        {
          "output_type": "stream",
          "name": "stderr",
          "text": [
            " 25%|██▌       | 5/20 [10:31<31:19, 125.32s/it]"
          ]
        },
        {
          "output_type": "stream",
          "name": "stdout",
          "text": [
            "Epoch: 4, Loss: 1.2662838697433472, \n"
          ]
        },
        {
          "output_type": "stream",
          "name": "stderr",
          "text": [
            " 30%|███       | 6/20 [12:36<29:09, 124.98s/it]"
          ]
        },
        {
          "output_type": "stream",
          "name": "stdout",
          "text": [
            "Epoch: 5, Loss: 0.9615609049797058, \n"
          ]
        },
        {
          "output_type": "stream",
          "name": "stderr",
          "text": [
            " 35%|███▌      | 7/20 [14:41<27:06, 125.13s/it]"
          ]
        },
        {
          "output_type": "stream",
          "name": "stdout",
          "text": [
            "Epoch: 6, Loss: 1.4552761316299438, \n"
          ]
        },
        {
          "output_type": "stream",
          "name": "stderr",
          "text": [
            " 40%|████      | 8/20 [16:46<24:59, 124.99s/it]"
          ]
        },
        {
          "output_type": "stream",
          "name": "stdout",
          "text": [
            "Epoch: 7, Loss: 0.759742796421051, \n"
          ]
        },
        {
          "output_type": "stream",
          "name": "stderr",
          "text": [
            " 45%|████▌     | 9/20 [18:51<22:55, 125.02s/it]"
          ]
        },
        {
          "output_type": "stream",
          "name": "stdout",
          "text": [
            "Epoch: 8, Loss: 0.7327330112457275, \n"
          ]
        },
        {
          "output_type": "stream",
          "name": "stderr",
          "text": [
            " 50%|█████     | 10/20 [20:58<20:55, 125.51s/it]"
          ]
        },
        {
          "output_type": "stream",
          "name": "stdout",
          "text": [
            "Epoch: 9, Loss: 1.1589854955673218, \n"
          ]
        },
        {
          "output_type": "stream",
          "name": "stderr",
          "text": [
            " 55%|█████▌    | 11/20 [23:02<18:46, 125.15s/it]"
          ]
        },
        {
          "output_type": "stream",
          "name": "stdout",
          "text": [
            "Epoch: 10, Loss: 0.49470940232276917, \n"
          ]
        },
        {
          "output_type": "stream",
          "name": "stderr",
          "text": [
            " 60%|██████    | 12/20 [25:07<16:40, 125.11s/it]"
          ]
        },
        {
          "output_type": "stream",
          "name": "stdout",
          "text": [
            "Epoch: 11, Loss: 0.8089401721954346, \n"
          ]
        },
        {
          "output_type": "stream",
          "name": "stderr",
          "text": [
            " 65%|██████▌   | 13/20 [27:12<14:35, 125.02s/it]"
          ]
        },
        {
          "output_type": "stream",
          "name": "stdout",
          "text": [
            "Epoch: 12, Loss: 0.724773108959198, \n"
          ]
        },
        {
          "output_type": "stream",
          "name": "stderr",
          "text": [
            " 70%|███████   | 14/20 [29:17<12:30, 125.13s/it]"
          ]
        },
        {
          "output_type": "stream",
          "name": "stdout",
          "text": [
            "Epoch: 13, Loss: 0.6391286253929138, \n"
          ]
        },
        {
          "output_type": "stream",
          "name": "stderr",
          "text": [
            " 75%|███████▌  | 15/20 [31:22<10:25, 125.09s/it]"
          ]
        },
        {
          "output_type": "stream",
          "name": "stdout",
          "text": [
            "Epoch: 14, Loss: 0.563403844833374, \n"
          ]
        },
        {
          "output_type": "stream",
          "name": "stderr",
          "text": [
            " 80%|████████  | 16/20 [33:27<08:20, 125.12s/it]"
          ]
        },
        {
          "output_type": "stream",
          "name": "stdout",
          "text": [
            "Epoch: 15, Loss: 0.592428982257843, \n"
          ]
        },
        {
          "output_type": "stream",
          "name": "stderr",
          "text": [
            " 85%|████████▌ | 17/20 [35:34<06:16, 125.61s/it]"
          ]
        },
        {
          "output_type": "stream",
          "name": "stdout",
          "text": [
            "Epoch: 16, Loss: 0.5641135573387146, \n"
          ]
        },
        {
          "output_type": "stream",
          "name": "stderr",
          "text": [
            " 90%|█████████ | 18/20 [37:38<04:10, 125.20s/it]"
          ]
        },
        {
          "output_type": "stream",
          "name": "stdout",
          "text": [
            "Epoch: 17, Loss: 0.4799984395503998, \n"
          ]
        },
        {
          "output_type": "stream",
          "name": "stderr",
          "text": [
            " 95%|█████████▌| 19/20 [39:44<02:05, 125.27s/it]"
          ]
        },
        {
          "output_type": "stream",
          "name": "stdout",
          "text": [
            "Epoch: 18, Loss: 0.584413468837738, \n"
          ]
        },
        {
          "output_type": "stream",
          "name": "stderr",
          "text": [
            "100%|██████████| 20/20 [41:48<00:00, 125.45s/it]"
          ]
        },
        {
          "output_type": "stream",
          "name": "stdout",
          "text": [
            "Epoch: 19, Loss: 0.7118250727653503, \n"
          ]
        },
        {
          "output_type": "stream",
          "name": "stderr",
          "text": [
            "\n"
          ]
        }
      ],
      "metadata": {}
    },
    {
      "cell_type": "code",
      "execution_count": 26,
      "source": [
        "import matplotlib.pyplot as plt\r\n",
        "\r\n",
        "plt.title(\"Training Loss\")\r\n",
        "plt.xlabel(\"Epochs\")\r\n",
        "plt.ylabel(\"Loss\")\r\n",
        "plt.plot(loss_lst)\r\n",
        "plt.show()"
      ],
      "outputs": [
        {
          "output_type": "display_data",
          "data": {
            "text/plain": [
              "<Figure size 432x288 with 1 Axes>"
            ],
            "image/png": "[encoded data removed]"
          },
          "metadata": {
            "needs_background": "light"
          }
        }
      ],
      "metadata": {}
    },
    {
      "cell_type": "code",
      "execution_count": 27,
      "source": [
        "test_loader = DataLoader(dataset = TwitterDataset(overallTest, preProcessDataFrame),\r\n",
        "                            batch_size = 1,\r\n",
        "                            shuffle = True)\r\n",
        "model.eval()\r\n",
        "# cumLoss = 0\r\n",
        "for (i, (X, y)) in enumerate(test_loader):\r\n",
        "  X = torch.squeeze(X).cuda()\r\n",
        "  y = y.T.cuda()\r\n",
        "  y_hat = model(X)\r\n",
        "  y_log = torch.log(y+1)\r\n",
        "  # cum_loss += loss_fn(scores, labels).item()\r\n",
        "  loss = loss_function(y_hat, y_log)\r\n",
        "  # cumLoss += loss\r\n",
        "\r\n",
        "# print(f\"MSELoss: {cumLoss / len(test_loader)}\")\r\n",
        "print(f\"MSELoss: {loss}\")"
      ],
      "outputs": [
        {
          "output_type": "stream",
          "name": "stdout",
          "text": [
            "MSELoss: 5.058868885040283\n"
          ]
        }
      ],
      "metadata": {}
    },
    {
      "cell_type": "code",
      "execution_count": 28,
      "source": [
        "from datetime import datetime\r\n",
        "\r\n",
        "now = datetime.now()\r\n",
        "\r\n",
        "d4 = now.strftime(\"%Y%m%d_%H%M%S\")\r\n",
        "print(d4)\r\n",
        "\r\n",
        "PATH = \"model_{0}.pt\".format(d4) #change this name to the name of your network\r\n",
        "\r\n",
        "torch.save({\r\n",
        "            'model_state_dict': model.state_dict(),\r\n",
        "            'optimizer_state_dict': optimizer.state_dict()\r\n",
        "            }, PATH)"
      ],
      "outputs": [
        {
          "output_type": "stream",
          "name": "stdout",
          "text": [
            "20210803_103312\n"
          ]
        }
      ],
      "metadata": {}
    },
    {
      "cell_type": "code",
      "execution_count": 29,
      "source": [
        "numEpochs = 20\r\n",
        "lr_rate = 1e-4\r\n",
        "\r\n",
        "input_size = 14\r\n",
        "\r\n",
        "b_size = 2500\r\n",
        "\r\n",
        "# model = myNeuralNetwork(input_size)\r\n",
        "model = myNeuralNetwork2(input_size)\r\n",
        "\r\n",
        "loss_function = nn.MSELoss() # Change to BCELoss for classification problem\r\n",
        "# optimizer = torch.optim.SGD(model.parameters(), lr=lr_rate, momentum=0.1)\r\n",
        "optimizer = torch.optim.Adam(model.parameters(), lr=lr_rate)\r\n",
        "\r\n",
        "if using_GPU:\r\n",
        "  model = model.cuda()\r\n",
        "\r\n",
        "# Check if the Module is on GPU by checking if a parameter is on GPU\r\n",
        "print(\"Model on GPU?:\")\r\n",
        "print(next(model.parameters()).is_cuda)\r\n",
        "\r\n",
        "loss_lst = []\r\n",
        "\r\n",
        "for i in tqdm(range(numEpochs)):\r\n",
        "  for X_a, y_a in train_loader:\r\n",
        "    \r\n",
        "    X_a = torch.squeeze(X_a)\r\n",
        "    y_a = y_a.T\r\n",
        "\r\n",
        "    l = int(len(X_a)/b_size)\r\n",
        "\r\n",
        "    for m in range(l):\r\n",
        "      a = m*b_size\r\n",
        "      b = (m+1)*b_size-1\r\n",
        "\r\n",
        "      X = X_a[a:b]\r\n",
        "      y = y_a[a:b]\r\n",
        "\r\n",
        "      if using_GPU:\r\n",
        "        X = X.cuda()\r\n",
        "        y = y.cuda()\r\n",
        "\r\n",
        "      y_hat = model(X)\r\n",
        "\r\n",
        "      optimizer.zero_grad() \r\n",
        "      y_hat = model(X)\r\n",
        "      y_log = torch.log(y+1)\r\n",
        "      loss = loss_function(y_hat, y_log) #calculate the loss\r\n",
        "      loss.backward() #backprop\r\n",
        "      optimizer.step() #does the update\r\n",
        "\r\n",
        "  loss_lst.append(loss.cpu().data.numpy())\r\n",
        "  if i % 1 == 0:\r\n",
        "    print (\"Epoch: {0}, Loss: {1}, \".format(i, loss.cpu().data.numpy()))\r\n",
        "\r\n",
        "import matplotlib.pyplot as plt\r\n",
        "\r\n",
        "plt.title(\"Training Loss\")\r\n",
        "plt.xlabel(\"Epochs\")\r\n",
        "plt.ylabel(\"Loss\")\r\n",
        "plt.plot(loss_lst)\r\n",
        "plt.show()\r\n",
        "\r\n",
        "test_loader = DataLoader(dataset = TwitterDataset(overallTest, preProcessDataFrame),\r\n",
        "                            batch_size = 1,\r\n",
        "                            shuffle = True)\r\n",
        "model.eval()\r\n",
        "# cumLoss = 0\r\n",
        "for (i, (X, y)) in enumerate(test_loader):\r\n",
        "  X = torch.squeeze(X).cuda()\r\n",
        "  y = y.T.cuda()\r\n",
        "  y_hat = model(X)\r\n",
        "  y_log = torch.log(y+1)\r\n",
        "  # cum_loss += loss_fn(scores, labels).item()\r\n",
        "  loss = loss_function(y_hat, y_log)\r\n",
        "  # cumLoss += loss\r\n",
        "\r\n",
        "# print(f\"MSELoss: {cumLoss / len(test_loader)}\")\r\n",
        "print(f\"MSELoss: {loss}\")\r\n",
        "\r\n",
        "from datetime import datetime\r\n",
        "\r\n",
        "now = datetime.now()\r\n",
        "\r\n",
        "d4 = now.strftime(\"%Y%m%d_%H%M%S\")\r\n",
        "print(d4)\r\n",
        "\r\n",
        "PATH = \"model_{0}.pt\".format(d4) #change this name to the name of your network\r\n",
        "\r\n",
        "torch.save({\r\n",
        "            'model_state_dict': model.state_dict(),\r\n",
        "            'optimizer_state_dict': optimizer.state_dict()\r\n",
        "            }, PATH)"
      ],
      "outputs": [
        {
          "output_type": "stream",
          "name": "stderr",
          "text": [
            "  0%|          | 0/20 [00:00<?, ?it/s]"
          ]
        },
        {
          "output_type": "stream",
          "name": "stdout",
          "text": [
            "Model on GPU?:\n",
            "True\n"
          ]
        },
        {
          "output_type": "stream",
          "name": "stderr",
          "text": [
            "  5%|▌         | 1/20 [02:03<39:09, 123.67s/it]"
          ]
        },
        {
          "output_type": "stream",
          "name": "stdout",
          "text": [
            "Epoch: 0, Loss: 0.865121603012085, \n"
          ]
        },
        {
          "output_type": "stream",
          "name": "stderr",
          "text": [
            " 10%|█         | 2/20 [04:06<36:56, 123.14s/it]"
          ]
        },
        {
          "output_type": "stream",
          "name": "stdout",
          "text": [
            "Epoch: 1, Loss: 0.7244644165039062, \n"
          ]
        },
        {
          "output_type": "stream",
          "name": "stderr",
          "text": [
            " 15%|█▌        | 3/20 [06:12<35:19, 124.69s/it]"
          ]
        },
        {
          "output_type": "stream",
          "name": "stdout",
          "text": [
            "Epoch: 2, Loss: 0.956262469291687, \n"
          ]
        },
        {
          "output_type": "stream",
          "name": "stderr",
          "text": [
            " 20%|██        | 4/20 [08:16<33:10, 124.42s/it]"
          ]
        },
        {
          "output_type": "stream",
          "name": "stdout",
          "text": [
            "Epoch: 3, Loss: 0.7801046371459961, \n"
          ]
        },
        {
          "output_type": "stream",
          "name": "stderr",
          "text": [
            " 25%|██▌       | 5/20 [10:22<31:10, 124.73s/it]"
          ]
        },
        {
          "output_type": "stream",
          "name": "stdout",
          "text": [
            "Epoch: 4, Loss: 0.9731470346450806, \n"
          ]
        },
        {
          "output_type": "stream",
          "name": "stderr",
          "text": [
            " 30%|███       | 6/20 [12:26<29:03, 124.54s/it]"
          ]
        },
        {
          "output_type": "stream",
          "name": "stdout",
          "text": [
            "Epoch: 5, Loss: 0.620987057685852, \n"
          ]
        },
        {
          "output_type": "stream",
          "name": "stderr",
          "text": [
            " 35%|███▌      | 7/20 [14:31<27:01, 124.74s/it]"
          ]
        },
        {
          "output_type": "stream",
          "name": "stdout",
          "text": [
            "Epoch: 6, Loss: 0.7471107244491577, \n"
          ]
        },
        {
          "output_type": "stream",
          "name": "stderr",
          "text": [
            " 40%|████      | 8/20 [16:36<24:56, 124.71s/it]"
          ]
        },
        {
          "output_type": "stream",
          "name": "stdout",
          "text": [
            "Epoch: 7, Loss: 0.6328464150428772, \n"
          ]
        },
        {
          "output_type": "stream",
          "name": "stderr",
          "text": [
            " 45%|████▌     | 9/20 [18:40<22:49, 124.47s/it]"
          ]
        },
        {
          "output_type": "stream",
          "name": "stdout",
          "text": [
            "Epoch: 8, Loss: 0.6742832064628601, \n"
          ]
        },
        {
          "output_type": "stream",
          "name": "stderr",
          "text": [
            " 50%|█████     | 10/20 [20:45<20:48, 124.83s/it]"
          ]
        },
        {
          "output_type": "stream",
          "name": "stdout",
          "text": [
            "Epoch: 9, Loss: 0.6672744154930115, \n"
          ]
        },
        {
          "output_type": "stream",
          "name": "stderr",
          "text": [
            " 55%|█████▌    | 11/20 [22:49<18:40, 124.46s/it]"
          ]
        },
        {
          "output_type": "stream",
          "name": "stdout",
          "text": [
            "Epoch: 10, Loss: 1.2744581699371338, \n"
          ]
        },
        {
          "output_type": "stream",
          "name": "stderr",
          "text": [
            " 60%|██████    | 12/20 [24:53<16:35, 124.48s/it]"
          ]
        },
        {
          "output_type": "stream",
          "name": "stdout",
          "text": [
            "Epoch: 11, Loss: 0.6260417103767395, \n"
          ]
        },
        {
          "output_type": "stream",
          "name": "stderr",
          "text": [
            " 65%|██████▌   | 13/20 [26:58<14:31, 124.53s/it]"
          ]
        },
        {
          "output_type": "stream",
          "name": "stdout",
          "text": [
            "Epoch: 12, Loss: 0.6733207106590271, \n"
          ]
        },
        {
          "output_type": "stream",
          "name": "stderr",
          "text": [
            " 70%|███████   | 14/20 [29:24<13:06, 131.03s/it]"
          ]
        },
        {
          "output_type": "stream",
          "name": "stdout",
          "text": [
            "Epoch: 13, Loss: 0.7577829957008362, \n"
          ]
        },
        {
          "output_type": "stream",
          "name": "stderr",
          "text": [
            " 75%|███████▌  | 15/20 [32:00<11:32, 138.48s/it]"
          ]
        },
        {
          "output_type": "stream",
          "name": "stdout",
          "text": [
            "Epoch: 14, Loss: 0.5278815627098083, \n"
          ]
        },
        {
          "output_type": "stream",
          "name": "stderr",
          "text": [
            " 80%|████████  | 16/20 [34:21<09:16, 139.19s/it]"
          ]
        },
        {
          "output_type": "stream",
          "name": "stdout",
          "text": [
            "Epoch: 15, Loss: 0.5761950016021729, \n"
          ]
        }
      ],
      "metadata": {}
    }
  ]
}