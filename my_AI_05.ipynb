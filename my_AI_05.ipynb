{
  "nbformat": 4,
  "nbformat_minor": 2,
  "metadata": {
    "kernelspec": {
      "name": "python3",
      "display_name": "Python 3.9.5 64-bit"
    },
    "language_info": {
      "codemirror_mode": {
        "name": "ipython",
        "version": 3
      },
      "file_extension": ".py",
      "mimetype": "text/x-python",
      "name": "python",
      "nbconvert_exporter": "python",
      "pygments_lexer": "ipython3",
      "version": "3.9.5"
    },
    "colab": {
      "name": "my-AI-01.ipynb",
      "provenance": [],
      "collapsed_sections": []
    },
    "interpreter": {
      "hash": "eb24ff17c96d57bb1b6bd790e601a0fc3cb43c71d84f2d33908d6829878e2da1"
    }
  },
  "cells": [
    {
      "cell_type": "code",
      "execution_count": 1,
      "source": [
        "import sys\r\n",
        "import os\r\n",
        "from tqdm import tqdm\r\n",
        "\r\n",
        "import glob\r\n",
        "import numpy as np\r\n",
        "import pandas as pd\r\n",
        "from sklearn.model_selection import train_test_split\r\n",
        "\r\n",
        "import torch\r\n",
        "import torch.nn as nn\r\n",
        "import torch.nn.functional as F\r\n",
        "from torch.utils.data import Dataset, DataLoader"
      ],
      "outputs": [],
      "metadata": {
        "id": "Q9f8VOcgfSiC"
      }
    },
    {
      "cell_type": "code",
      "execution_count": 2,
      "source": [
        "print(\"PyTorch version: \", torch.__version__)\r\n",
        "print(\"GPU Detected:\" ,torch.cuda.is_available())\r\n",
        "print(\"GPU Device Name:\", torch.cuda.get_device_name(0))\r\n",
        "\r\n",
        "#defining a shortcut function for later:\r\n",
        "# import os\r\n",
        "# using_GPU = os.path.exists('/opt/bin/nvidia-smi')\r\n",
        "\r\n",
        "using_GPU = torch.cuda.is_available()\r\n"
      ],
      "outputs": [
        {
          "output_type": "stream",
          "name": "stdout",
          "text": [
            "PyTorch version:  1.9.0+cu102\n",
            "GPU Detected: True\n",
            "GPU Device Name: NVIDIA GeForce MX150\n"
          ]
        }
      ],
      "metadata": {
        "colab": {
          "base_uri": "https://localhost:8080/"
        },
        "id": "UqcRxwtaL0k5",
        "outputId": "af97adde-3d79-44aa-cd94-fda8f2661320"
      }
    },
    {
      "cell_type": "markdown",
      "source": [
        "# Google Colab setup\n",
        "Run this only if you're training on colab. \n",
        "Make sure you have added the shared drive as a shortcut to the **root** of your google drive.\n",
        "\n",
        "If you're training your model offline and this cell throws `SyntaxError`, just ignore it."
      ],
      "metadata": {
        "id": "7zDsdEx7dAL5"
      }
    },
    {
      "cell_type": "code",
      "execution_count": 3,
      "source": [
        "# currentlyRunningOnColab = 'google.colab' in sys.modules\r\n",
        "# if currentlyRunningOnColab:\r\n",
        "#   # Mount your own Google Drive\r\n",
        "#   from google.colab import drive\r\n",
        "#   drive.mount('/content/drive', force_remount=True)\r\n",
        "#   print(\"Mounted Google drive of current user\")\r\n",
        "\r\n",
        "#   %cd /content\r\n",
        "#   print(\"Changed current directory to /content\")\r\n",
        "\r\n",
        "#   # Mount github repository\r\n",
        "#   !git clone https://github.com/beazt123/AI-Project2021SUTD.git\r\n",
        "#   print(\"\\nCloned repo onto current instance of machine\")\r\n",
        "  \r\n",
        "#   %cd AI-Project2021SUTD\r\n",
        "#   print(\"\\nCurrently operating in the root directory of the Git repository\")\r\n",
        "\r\n",
        "#   # dataFolderName = \"aiproject\"\r\n",
        "#   GITHUB_REPO_NAME = \"AI-Project2021SUTD\"\r\n",
        "#   codePath = GITHUB_REPO_NAME\r\n",
        "#   # /content/drive/.shortcut-targets-by-id/1OU-Ua5tGwc7PDL_nf0s1CPKoIQduRW5q/50.021 AI Project"
      ],
      "outputs": [],
      "metadata": {
        "id": "oCXI27GDYmAp",
        "colab": {
          "base_uri": "https://localhost:8080/"
        },
        "outputId": "7bb27842-5a5e-4cab-d73d-20d35e8c19a2"
      }
    },
    {
      "cell_type": "markdown",
      "source": [
        "# Set up the path where the data is stored\n",
        "Currently, this is set to an online directory. Change it if you're training it offline."
      ],
      "metadata": {
        "id": "akb3oVI5A8lY"
      }
    },
    {
      "cell_type": "code",
      "execution_count": 4,
      "source": [
        "# # Change this variable if u wanna train offline\r\n",
        "# dataFolderPath = os.path.join(\"/content\",\r\n",
        "#                               \"drive\", \r\n",
        "#                               \".shortcut-targets-by-id\", \r\n",
        "#                               \"19icV-F9BFrur0fxo4XvAZ82qIhipVrb-\",\r\n",
        "#                               \"aiProjectData50021\")\r\n",
        "# # /content/drive/.shortcut-targets-by-id/19icV-F9BFrur0fxo4XvAZ82qIhipVrb-/aiProjectData50021"
      ],
      "outputs": [],
      "metadata": {
        "id": "1vUdlECEYwOK"
      }
    },
    {
      "cell_type": "code",
      "execution_count": 5,
      "source": [
        "dataFolderPath = os.path.join(\"data2_1\")"
      ],
      "outputs": [],
      "metadata": {}
    },
    {
      "cell_type": "markdown",
      "source": [
        "# Preparing the data\n",
        "I'm assuming that the data is stored in the exact same structure as the one on our shared drive because the code in this section is written like that\n",
        "\n",
        "```\n",
        "dataFolder\n",
        "  |--COVID DATASET 1\n",
        "  |         |--someCSV.csv\n",
        "  |         |--anotherCSV.csv\n",
        "  |--COVID DATASET 2\n",
        "  |         |--someCSV2.csv\n",
        "  |         |--anotherCSV2.csv\n",
        "  |--COVID DATASET 3\n",
        "            |--someCSV3.csv\n",
        "            |--anotherCSV3.csv\n",
        "```"
      ],
      "metadata": {
        "id": "Qvtk6rmZV6qL"
      }
    },
    {
      "cell_type": "markdown",
      "source": [
        "## Split into Training and Test sets"
      ],
      "metadata": {
        "id": "IVmc57I8DOvn"
      }
    },
    {
      "cell_type": "code",
      "execution_count": 6,
      "source": [
        "trainingPercentage = 0.7\r\n",
        "testPercentage = 0.3"
      ],
      "outputs": [],
      "metadata": {
        "id": "yf032lccf7-d"
      }
    },
    {
      "cell_type": "code",
      "execution_count": 7,
      "source": [
        "# folders = [\"COVID DATASET 1\",\"COVID DATASET 2\"]#, \"COVID DATASET 3\"]\r\n",
        "# csvLists = [glob.glob(f\"{dataFolderPath}/{folder}/*.csv\") for folder in folders]\r\n",
        "# csvLists = [glob.glob(f\"{dataFolderPath}/*.csv\")]\r\n",
        "folders = [\"data2_1\", \"data2_2\", \"data2_3\"]\r\n",
        "csvLists = [glob.glob(f\"{folder}/*.csv\") for folder in folders]"
      ],
      "outputs": [],
      "metadata": {
        "id": "yHYxJDtAXK2E"
      }
    },
    {
      "cell_type": "code",
      "execution_count": 8,
      "source": [
        "# print(csvLists)"
      ],
      "outputs": [],
      "metadata": {}
    },
    {
      "cell_type": "code",
      "execution_count": 9,
      "source": [
        "overallTrain = []\r\n",
        "overallTest = []\r\n",
        "for csvList in csvLists:  \r\n",
        "  train, test = train_test_split(csvList,\r\n",
        "                                test_size=testPercentage,\r\n",
        "                                train_size=trainingPercentage)\r\n",
        "  overallTrain.extend(train)\r\n",
        "  overallTest.extend(test)"
      ],
      "outputs": [],
      "metadata": {
        "id": "ahCtqgkDWUGX"
      }
    },
    {
      "cell_type": "markdown",
      "source": [
        "## Define and fine tune the pre-process function\n",
        "Our dataset contains many columns we don't need"
      ],
      "metadata": {
        "id": "I_UloE4oDfhO"
      }
    },
    {
      "cell_type": "code",
      "execution_count": 10,
      "source": [
        "def preProcessDataFrame(df: pd.DataFrame) -> pd.DataFrame:\r\n",
        "  \"\"\"\r\n",
        "  Takes in a dataframe and returns another dataframe that contains only the data we want.\r\n",
        "  Might wanna normalise the data as well\r\n",
        "  Maybe fill the nulls with zeros or other appropriate values.\r\n",
        "  \"\"\"\r\n",
        "  df_cp = df.copy()\r\n",
        "  \r\n",
        "#   df_cp.dropna(axis=0,\r\n",
        "#                how='any', \r\n",
        "#                subset=[\"username\", \"tweet id\"], \r\n",
        "#                inplace=True)\r\n",
        "  \r\n",
        "  df_cp = df_cp[[\"#followers\",\r\n",
        "                \"#friends\",\r\n",
        "                \"#retweets\",\r\n",
        "                \"#favorites\",\r\n",
        "                \"weekend\",\r\n",
        "                \"entity_count\",\r\n",
        "                \"hashtag_count\",\r\n",
        "                \"mention_count\",\r\n",
        "                \"url_count\",\r\n",
        "                \"tlen\",\r\n",
        "                \"ratio_fav_#followers\",\r\n",
        "                \"time_importance\",\r\n",
        "                \"sentiment_ppn\",\r\n",
        "                \"sine_hour\",\r\n",
        "                \"cosine_hour\",\r\n",
        "                \"sine_day\",\r\n",
        "                \"cosine_day\",\r\n",
        "                \"sine_day_of_week\",\r\n",
        "                \"cosine_day_of_week\"\r\n",
        "                ]]\r\n",
        "  return df_cp\r\n",
        "\r\n",
        "\r\n",
        "# sampleDf = pd.read_csv(overallTrain[0])\r\n",
        "sampleDf = pd.read_csv(f\"{dataFolderPath}/covid_data_1.csv\")\r\n",
        "# print(sampleDf.head())\r\n",
        "print(sampleDf.info())\r\n",
        "# [print(x) for x in sampleDf.columns] # show list of columns in sampleDf\r\n",
        "print(\"\\n====[AFTER PRE-PROCESSING]====\\n\")\r\n",
        "# print(preProcessDataFrame(sampleDf.head()))\r\n",
        "pp = preProcessDataFrame(sampleDf)\r\n",
        "print(pp.info())"
      ],
      "outputs": [
        {
          "output_type": "stream",
          "name": "stdout",
          "text": [
            "<class 'pandas.core.frame.DataFrame'>\n",
            "RangeIndex: 10000 entries, 0 to 9999\n",
            "Data columns (total 41 columns):\n",
            " #   Column                Non-Null Count  Dtype  \n",
            "---  ------                --------------  -----  \n",
            " 0   Unnamed: 0            10000 non-null  int64  \n",
            " 1   tweet_id              10000 non-null  int64  \n",
            " 2   username              10000 non-null  object \n",
            " 3   timestamp             10000 non-null  object \n",
            " 4   #followers            10000 non-null  float64\n",
            " 5   #friends              10000 non-null  int64  \n",
            " 6   #retweets             10000 non-null  int64  \n",
            " 7   #favorites            10000 non-null  int64  \n",
            " 8   entities              10000 non-null  object \n",
            " 9   sentiment             10000 non-null  object \n",
            " 10  mentions              9984 non-null   object \n",
            " 11  hashtags              9998 non-null   object \n",
            " 12  urls                  10000 non-null  object \n",
            " 13  timeseg               10000 non-null  int64  \n",
            " 14  date                  10000 non-null  object \n",
            " 15  weekend               10000 non-null  int64  \n",
            " 16  entity_exist          10000 non-null  int64  \n",
            " 17  hashtag_exist         10000 non-null  int64  \n",
            " 18  mention_exist         10000 non-null  int64  \n",
            " 19  url_exist             10000 non-null  int64  \n",
            " 20  entity_count          10000 non-null  int64  \n",
            " 21  hashtag_count         10000 non-null  int64  \n",
            " 22  mention_count         10000 non-null  int64  \n",
            " 23  url_count             10000 non-null  int64  \n",
            " 24  tlen                  10000 non-null  int64  \n",
            " 25  ratio_fav_#followers  10000 non-null  float64\n",
            " 26  ratio_fri_#followers  10000 non-null  float64\n",
            " 27  time_importance       10000 non-null  int64  \n",
            " 28  year                  10000 non-null  int64  \n",
            " 29  day                   10000 non-null  int64  \n",
            " 30  month                 10000 non-null  int64  \n",
            " 31  day_of_week           10000 non-null  int64  \n",
            " 32  sentiment_p           10000 non-null  float64\n",
            " 33  sentiment_n           10000 non-null  float64\n",
            " 34  sentiment_ppn         10000 non-null  float64\n",
            " 35  sine_hour             10000 non-null  float64\n",
            " 36  cosine_hour           10000 non-null  float64\n",
            " 37  sine_day              10000 non-null  float64\n",
            " 38  cosine_day            10000 non-null  float64\n",
            " 39  sine_day_of_week      10000 non-null  float64\n",
            " 40  cosine_day_of_week    10000 non-null  float64\n",
            "dtypes: float64(12), int64(21), object(8)\n",
            "memory usage: 3.1+ MB\n",
            "None\n",
            "\n",
            "====[AFTER PRE-PROCESSING]====\n",
            "\n",
            "<class 'pandas.core.frame.DataFrame'>\n",
            "RangeIndex: 10000 entries, 0 to 9999\n",
            "Data columns (total 19 columns):\n",
            " #   Column                Non-Null Count  Dtype  \n",
            "---  ------                --------------  -----  \n",
            " 0   #followers            10000 non-null  float64\n",
            " 1   #friends              10000 non-null  int64  \n",
            " 2   #retweets             10000 non-null  int64  \n",
            " 3   #favorites            10000 non-null  int64  \n",
            " 4   weekend               10000 non-null  int64  \n",
            " 5   entity_count          10000 non-null  int64  \n",
            " 6   hashtag_count         10000 non-null  int64  \n",
            " 7   mention_count         10000 non-null  int64  \n",
            " 8   url_count             10000 non-null  int64  \n",
            " 9   tlen                  10000 non-null  int64  \n",
            " 10  ratio_fav_#followers  10000 non-null  float64\n",
            " 11  time_importance       10000 non-null  int64  \n",
            " 12  sentiment_ppn         10000 non-null  float64\n",
            " 13  sine_hour             10000 non-null  float64\n",
            " 14  cosine_hour           10000 non-null  float64\n",
            " 15  sine_day              10000 non-null  float64\n",
            " 16  cosine_day            10000 non-null  float64\n",
            " 17  sine_day_of_week      10000 non-null  float64\n",
            " 18  cosine_day_of_week    10000 non-null  float64\n",
            "dtypes: float64(9), int64(10)\n",
            "memory usage: 1.4 MB\n",
            "None\n"
          ]
        }
      ],
      "metadata": {
        "id": "0-YOuMV6Zxgg",
        "colab": {
          "base_uri": "https://localhost:8080/"
        },
        "outputId": "b3a8308c-1bb9-4525-cde8-2d5f1a6a5e9d"
      }
    },
    {
      "cell_type": "code",
      "execution_count": 11,
      "source": [
        "class TwitterDataset(Dataset):\r\n",
        "  def __init__(self, filenames, preProcessFunc = None):\r\n",
        "    # `filenames` is a list of strings the contains all file names.\r\n",
        "    # `batch_size` is the determines the number of files that we want to read in a chunk.\r\n",
        "        self.filenames = filenames\r\n",
        "        self.preProcess = preProcessFunc\r\n",
        "  def __len__(self):\r\n",
        "        return len(self.filenames)\r\n",
        "  def __getitem__(self, idx): #idx means index of the chunk.\r\n",
        "    # In this method, we do all the preprocessing.\r\n",
        "    # First read data from files in a chunk. Preprocess it. Extract labels. Then return data and labels.\r\n",
        "        csvFile = self.filenames[idx]\r\n",
        "        df = pd.read_csv(csvFile)\r\n",
        "        if self.preProcess:\r\n",
        "          df = self.preProcess(df)\r\n",
        "\r\n",
        "        x_arr = torch.Tensor(df.drop(columns=['#retweets']).to_numpy().astype(float))\r\n",
        "        y = torch.Tensor(df[\"#retweets\"].to_numpy().astype(float))\r\n",
        "        X = torch.squeeze( x_arr )\r\n",
        "        if idx == self.__len__():  \r\n",
        "          raise IndexError\r\n",
        "        return X, y\r\n",
        "  def sample_df(self, idx = 0):\r\n",
        "    return self[idx]"
      ],
      "outputs": [],
      "metadata": {
        "id": "fwu0jnghhZ_u"
      }
    },
    {
      "cell_type": "code",
      "execution_count": 12,
      "source": [
        "train_loader = DataLoader(dataset = TwitterDataset(overallTrain, preProcessDataFrame),\r\n",
        "                            batch_size = 1,\r\n",
        "                            shuffle = True)"
      ],
      "outputs": [],
      "metadata": {
        "id": "mHeuGojhkMFG"
      }
    },
    {
      "cell_type": "markdown",
      "source": [
        "# Build the network\n",
        "Make sure this network takes in whatever input you give it and outputs a number. Alternative, if this is an immediate model, like the zero/more than zero retweets classifier, than train it and save the parameters externally. Then train the regressor in another copy of this script."
      ],
      "metadata": {
        "id": "fc_LITryyWzS"
      }
    },
    {
      "cell_type": "code",
      "execution_count": 13,
      "source": [
        "class myNeuralNetwork(nn.Module): # Please change the name to your own network\r\n",
        "  def __init__(self, input_size):\r\n",
        "    super(myNeuralNetwork, self).__init__()\r\n",
        "\r\n",
        "    self.fc1 = nn.Linear(input_size, 2048)\r\n",
        "    self.fc2 = nn.Linear(2048, 512)\r\n",
        "    self.fc3 = nn.Linear(512, 128)\r\n",
        "    self.fc4 = nn.Linear(128, 1)\r\n",
        "    self.dropout = nn.Dropout(0.3)\r\n",
        "    self.nonlinearity = nn.ReLU()\r\n",
        "    self.batchnorm1 = nn.BatchNorm1d(2048)\r\n",
        "    self.batchnorm2 = nn.BatchNorm1d(512)\r\n",
        "    self.batchnorm3 = nn.BatchNorm1d(128)\r\n",
        "\r\n",
        "    pass\r\n",
        "\r\n",
        "  def forward(self, x):\r\n",
        "\r\n",
        "    x = self.dropout(F.relu(self.batchnorm1(self.fc1(x))))\r\n",
        "    x = self.dropout(F.relu(self.batchnorm2(self.fc2(x))))\r\n",
        "    x = self.dropout(F.relu(self.batchnorm3(self.fc3(x))))\r\n",
        "    x = F.relu(self.fc4(x))\r\n",
        "\r\n",
        "    return x\r\n",
        "\r\n",
        "class myNeuralNetwork2(nn.Module): # Please change the name to your own network\r\n",
        "  def __init__(self, input_size):\r\n",
        "    super(myNeuralNetwork2, self).__init__()\r\n",
        "\r\n",
        "    self.fc1 = nn.Linear(input_size, 256)\r\n",
        "    self.fc2 = nn.Linear(256, 64)\r\n",
        "    self.fc3 = nn.Linear(64, 64)\r\n",
        "    self.fc4 = nn.Linear(64, 1)\r\n",
        "    self.dropout = nn.Dropout(0.3)\r\n",
        "    self.nonlinearity = nn.ReLU()\r\n",
        "    self.batchnorm1 = nn.BatchNorm1d(256)\r\n",
        "    self.batchnorm2 = nn.BatchNorm1d(64)\r\n",
        "    self.batchnorm3 = nn.BatchNorm1d(64)\r\n",
        "\r\n",
        "    pass\r\n",
        "\r\n",
        "  def forward(self, x):\r\n",
        "\r\n",
        "    x = self.dropout(F.relu(self.batchnorm1(self.fc1(x))))\r\n",
        "    x = self.dropout(F.relu(self.batchnorm2(self.fc2(x))))\r\n",
        "    x = self.dropout(F.relu(self.batchnorm3(self.fc3(x))))\r\n",
        "    x = F.relu(self.fc4(x))\r\n",
        "\r\n",
        "    return x\r\n",
        "  "
      ],
      "outputs": [],
      "metadata": {
        "id": "sKpYd8cNwSRp"
      }
    },
    {
      "cell_type": "markdown",
      "source": [
        "# Train the network\n",
        "## Training parameters\n",
        "Choice of optimiser and loss and training params are entirely up to you"
      ],
      "metadata": {
        "id": "j4OyQtGUzK1R"
      }
    },
    {
      "cell_type": "code",
      "execution_count": 14,
      "source": [
        "numEpochs = 100\r\n",
        "lr_rate = 1e-5\r\n",
        "\r\n",
        "input_size = 18\r\n",
        "\r\n",
        "b_size = 1000\r\n",
        "\r\n",
        "model = myNeuralNetwork(input_size)\r\n",
        "# model = myNeuralNetwork2(input_size)\r\n",
        "\r\n",
        "loss_function = nn.MSELoss() # Change to BCELoss for classification problem\r\n",
        "optimizer = torch.optim.SGD(model.parameters(), lr=lr_rate)\r\n",
        "# optimizer = torch.optim.Adam(model.parameters(), lr=lr_rate)"
      ],
      "outputs": [],
      "metadata": {
        "id": "4kAg-2nBv_dZ"
      }
    },
    {
      "cell_type": "code",
      "execution_count": 15,
      "source": [
        "if using_GPU:\r\n",
        "  model = model.cuda()\r\n",
        "\r\n",
        "# Check if the Module is on GPU by checking if a parameter is on GPU\r\n",
        "print(\"Model on GPU?:\")\r\n",
        "print(next(model.parameters()).is_cuda)"
      ],
      "outputs": [
        {
          "output_type": "stream",
          "name": "stdout",
          "text": [
            "Model on GPU?:\n",
            "True\n"
          ]
        }
      ],
      "metadata": {
        "colab": {
          "base_uri": "https://localhost:8080/"
        },
        "id": "iamiSCWGNoAf",
        "outputId": "7394a08e-56c3-40d2-eede-c30820674a28"
      }
    },
    {
      "cell_type": "markdown",
      "source": [
        "## Training for-loop"
      ],
      "metadata": {
        "id": "OqC5_j5tzOqv"
      }
    },
    {
      "cell_type": "code",
      "execution_count": 16,
      "source": [
        "loss_lst = []\r\n",
        "\r\n",
        "for i in tqdm(range(numEpochs)):\r\n",
        "  for X_a, y_a in train_loader:\r\n",
        "    \r\n",
        "    X_a = torch.squeeze(X_a)\r\n",
        "    y_a = y_a.T\r\n",
        "\r\n",
        "    l = int(len(X_a)/b_size)\r\n",
        "\r\n",
        "    for m in range(l):\r\n",
        "      a = m*b_size\r\n",
        "      b = (m+1)*b_size-1\r\n",
        "\r\n",
        "      X = X_a[a:b]\r\n",
        "      y = y_a[a:b]\r\n",
        "\r\n",
        "      if using_GPU:\r\n",
        "        X = X.cuda()\r\n",
        "        y = y.cuda()\r\n",
        "\r\n",
        "      optimizer.zero_grad() \r\n",
        "      y_hat = model(X)\r\n",
        "      y_log = torch.log(y+1)\r\n",
        "      loss = loss_function(y_hat, y_log) #calculate the loss\r\n",
        "      loss.backward() #backprop\r\n",
        "      optimizer.step() #does the update\r\n",
        "\r\n",
        "  loss_lst.append(loss.cpu().data.numpy())\r\n",
        "  if i % 1 == 0:\r\n",
        "    print (\"Epoch: {0}, Loss: {1}, \".format(i, loss.cpu().data.numpy()))\r\n"
      ],
      "outputs": [
        {
          "output_type": "stream",
          "name": "stderr",
          "text": [
            "  1%|          | 1/100 [08:16<13:39:59, 496.97s/it]"
          ]
        },
        {
          "output_type": "stream",
          "name": "stdout",
          "text": [
            "Epoch: 0, Loss: 3.4217958450317383, \n"
          ]
        },
        {
          "output_type": "stream",
          "name": "stderr",
          "text": [
            "  2%|▏         | 2/100 [17:00<13:57:11, 512.57s/it]"
          ]
        },
        {
          "output_type": "stream",
          "name": "stdout",
          "text": [
            "Epoch: 1, Loss: 2.289686679840088, \n"
          ]
        },
        {
          "output_type": "stream",
          "name": "stderr",
          "text": [
            "  3%|▎         | 3/100 [25:41<13:55:15, 516.66s/it]"
          ]
        },
        {
          "output_type": "stream",
          "name": "stdout",
          "text": [
            "Epoch: 2, Loss: 2.21512508392334, \n"
          ]
        },
        {
          "output_type": "stream",
          "name": "stderr",
          "text": [
            "  4%|▍         | 4/100 [34:28<13:52:56, 520.59s/it]"
          ]
        },
        {
          "output_type": "stream",
          "name": "stdout",
          "text": [
            "Epoch: 3, Loss: 2.53013014793396, \n"
          ]
        },
        {
          "output_type": "stream",
          "name": "stderr",
          "text": [
            "  5%|▌         | 5/100 [43:21<13:51:22, 525.08s/it]"
          ]
        },
        {
          "output_type": "stream",
          "name": "stdout",
          "text": [
            "Epoch: 4, Loss: 2.2231192588806152, \n"
          ]
        },
        {
          "output_type": "stream",
          "name": "stderr",
          "text": [
            "  6%|▌         | 6/100 [52:06<13:42:21, 524.91s/it]"
          ]
        },
        {
          "output_type": "stream",
          "name": "stdout",
          "text": [
            "Epoch: 5, Loss: 1.9650471210479736, \n"
          ]
        },
        {
          "output_type": "stream",
          "name": "stderr",
          "text": [
            "  7%|▋         | 7/100 [1:00:46<13:31:11, 523.34s/it]"
          ]
        },
        {
          "output_type": "stream",
          "name": "stdout",
          "text": [
            "Epoch: 6, Loss: 1.9369544982910156, \n"
          ]
        },
        {
          "output_type": "stream",
          "name": "stderr",
          "text": [
            "  8%|▊         | 8/100 [1:09:33<13:24:27, 524.64s/it]"
          ]
        },
        {
          "output_type": "stream",
          "name": "stdout",
          "text": [
            "Epoch: 7, Loss: 2.068646192550659, \n"
          ]
        },
        {
          "output_type": "stream",
          "name": "stderr",
          "text": [
            "  9%|▉         | 9/100 [1:18:23<13:18:12, 526.29s/it]"
          ]
        },
        {
          "output_type": "stream",
          "name": "stdout",
          "text": [
            "Epoch: 8, Loss: 2.0409843921661377, \n"
          ]
        },
        {
          "output_type": "stream",
          "name": "stderr",
          "text": [
            " 10%|█         | 10/100 [1:27:13<13:11:01, 527.35s/it]"
          ]
        },
        {
          "output_type": "stream",
          "name": "stdout",
          "text": [
            "Epoch: 9, Loss: 2.8816795349121094, \n"
          ]
        },
        {
          "output_type": "stream",
          "name": "stderr",
          "text": [
            " 11%|█         | 11/100 [1:35:59<13:01:50, 527.08s/it]"
          ]
        },
        {
          "output_type": "stream",
          "name": "stdout",
          "text": [
            "Epoch: 10, Loss: 2.073720693588257, \n"
          ]
        },
        {
          "output_type": "stream",
          "name": "stderr",
          "text": [
            " 12%|█▏        | 12/100 [1:44:45<12:52:30, 526.71s/it]"
          ]
        },
        {
          "output_type": "stream",
          "name": "stdout",
          "text": [
            "Epoch: 11, Loss: 2.0195932388305664, \n"
          ]
        },
        {
          "output_type": "stream",
          "name": "stderr",
          "text": [
            " 13%|█▎        | 13/100 [1:53:25<12:40:46, 524.67s/it]"
          ]
        },
        {
          "output_type": "stream",
          "name": "stdout",
          "text": [
            "Epoch: 12, Loss: 1.9384225606918335, \n"
          ]
        },
        {
          "output_type": "stream",
          "name": "stderr",
          "text": [
            " 14%|█▍        | 14/100 [2:02:04<12:29:17, 522.76s/it]"
          ]
        },
        {
          "output_type": "stream",
          "name": "stdout",
          "text": [
            "Epoch: 13, Loss: 1.8328821659088135, \n"
          ]
        },
        {
          "output_type": "stream",
          "name": "stderr",
          "text": [
            " 15%|█▌        | 15/100 [2:10:42<12:18:38, 521.39s/it]"
          ]
        },
        {
          "output_type": "stream",
          "name": "stdout",
          "text": [
            "Epoch: 14, Loss: 1.5325987339019775, \n"
          ]
        },
        {
          "output_type": "stream",
          "name": "stderr",
          "text": [
            " 16%|█▌        | 16/100 [2:19:37<12:15:43, 525.52s/it]"
          ]
        },
        {
          "output_type": "stream",
          "name": "stdout",
          "text": [
            "Epoch: 15, Loss: 1.8767458200454712, \n"
          ]
        },
        {
          "output_type": "stream",
          "name": "stderr",
          "text": [
            " 17%|█▋        | 17/100 [2:28:31<12:10:30, 528.08s/it]"
          ]
        },
        {
          "output_type": "stream",
          "name": "stdout",
          "text": [
            "Epoch: 16, Loss: 2.591160535812378, \n"
          ]
        },
        {
          "output_type": "stream",
          "name": "stderr",
          "text": [
            " 18%|█▊        | 18/100 [2:37:18<12:01:12, 527.71s/it]"
          ]
        },
        {
          "output_type": "stream",
          "name": "stdout",
          "text": [
            "Epoch: 17, Loss: 2.8868298530578613, \n"
          ]
        },
        {
          "output_type": "stream",
          "name": "stderr",
          "text": [
            " 19%|█▉        | 19/100 [2:46:10<11:54:21, 529.16s/it]"
          ]
        },
        {
          "output_type": "stream",
          "name": "stdout",
          "text": [
            "Epoch: 18, Loss: 1.6624560356140137, \n"
          ]
        },
        {
          "output_type": "stream",
          "name": "stderr",
          "text": [
            " 20%|██        | 20/100 [2:56:18<12:17:10, 552.88s/it]"
          ]
        },
        {
          "output_type": "stream",
          "name": "stdout",
          "text": [
            "Epoch: 19, Loss: 1.6854779720306396, \n"
          ]
        },
        {
          "output_type": "stream",
          "name": "stderr",
          "text": [
            " 21%|██        | 21/100 [3:07:19<12:50:38, 585.30s/it]"
          ]
        },
        {
          "output_type": "stream",
          "name": "stdout",
          "text": [
            "Epoch: 20, Loss: 1.8246304988861084, \n"
          ]
        },
        {
          "output_type": "stream",
          "name": "stderr",
          "text": [
            " 22%|██▏       | 22/100 [3:18:43<13:19:26, 614.96s/it]"
          ]
        },
        {
          "output_type": "stream",
          "name": "stdout",
          "text": [
            "Epoch: 21, Loss: 3.1466329097747803, \n"
          ]
        },
        {
          "output_type": "stream",
          "name": "stderr",
          "text": [
            " 23%|██▎       | 23/100 [3:30:12<13:37:25, 636.96s/it]"
          ]
        },
        {
          "output_type": "stream",
          "name": "stdout",
          "text": [
            "Epoch: 22, Loss: 2.0078511238098145, \n"
          ]
        },
        {
          "output_type": "stream",
          "name": "stderr",
          "text": [
            " 24%|██▍       | 24/100 [3:41:44<13:47:56, 653.63s/it]"
          ]
        },
        {
          "output_type": "stream",
          "name": "stdout",
          "text": [
            "Epoch: 23, Loss: 1.6776952743530273, \n"
          ]
        },
        {
          "output_type": "stream",
          "name": "stderr",
          "text": [
            " 25%|██▌       | 25/100 [3:53:21<13:53:08, 666.51s/it]"
          ]
        },
        {
          "output_type": "stream",
          "name": "stdout",
          "text": [
            "Epoch: 24, Loss: 2.129368543624878, \n"
          ]
        },
        {
          "output_type": "stream",
          "name": "stderr",
          "text": [
            " 26%|██▌       | 26/100 [4:05:03<13:55:18, 677.27s/it]"
          ]
        },
        {
          "output_type": "stream",
          "name": "stdout",
          "text": [
            "Epoch: 25, Loss: 2.1631693840026855, \n"
          ]
        },
        {
          "output_type": "stream",
          "name": "stderr",
          "text": [
            " 27%|██▋       | 27/100 [4:16:43<13:52:21, 684.14s/it]"
          ]
        },
        {
          "output_type": "stream",
          "name": "stdout",
          "text": [
            "Epoch: 26, Loss: 2.1231725215911865, \n"
          ]
        },
        {
          "output_type": "stream",
          "name": "stderr",
          "text": [
            " 28%|██▊       | 28/100 [4:28:53<13:57:21, 697.80s/it]"
          ]
        },
        {
          "output_type": "stream",
          "name": "stdout",
          "text": [
            "Epoch: 27, Loss: 1.7374904155731201, \n"
          ]
        },
        {
          "output_type": "stream",
          "name": "stderr",
          "text": [
            " 29%|██▉       | 29/100 [4:40:47<13:51:30, 702.68s/it]"
          ]
        },
        {
          "output_type": "stream",
          "name": "stdout",
          "text": [
            "Epoch: 28, Loss: 1.8754191398620605, \n"
          ]
        },
        {
          "output_type": "stream",
          "name": "stderr",
          "text": [
            " 30%|███       | 30/100 [4:52:46<13:45:38, 707.69s/it]"
          ]
        },
        {
          "output_type": "stream",
          "name": "stdout",
          "text": [
            "Epoch: 29, Loss: 2.236189126968384, \n"
          ]
        },
        {
          "output_type": "stream",
          "name": "stderr",
          "text": [
            " 31%|███       | 31/100 [5:04:46<13:37:54, 711.23s/it]"
          ]
        },
        {
          "output_type": "stream",
          "name": "stdout",
          "text": [
            "Epoch: 30, Loss: 1.6367255449295044, \n"
          ]
        },
        {
          "output_type": "stream",
          "name": "stderr",
          "text": [
            " 32%|███▏      | 32/100 [5:16:31<13:23:57, 709.38s/it]"
          ]
        },
        {
          "output_type": "stream",
          "name": "stdout",
          "text": [
            "Epoch: 31, Loss: 1.379673719406128, \n"
          ]
        },
        {
          "output_type": "stream",
          "name": "stderr",
          "text": [
            " 33%|███▎      | 33/100 [5:28:14<13:10:00, 707.46s/it]"
          ]
        },
        {
          "output_type": "stream",
          "name": "stdout",
          "text": [
            "Epoch: 32, Loss: 2.1451985836029053, \n"
          ]
        },
        {
          "output_type": "stream",
          "name": "stderr",
          "text": [
            " 34%|███▍      | 34/100 [5:39:43<12:52:04, 701.89s/it]"
          ]
        },
        {
          "output_type": "stream",
          "name": "stdout",
          "text": [
            "Epoch: 33, Loss: 1.8327884674072266, \n"
          ]
        },
        {
          "output_type": "stream",
          "name": "stderr",
          "text": [
            " 35%|███▌      | 35/100 [5:51:13<12:36:40, 698.47s/it]"
          ]
        },
        {
          "output_type": "stream",
          "name": "stdout",
          "text": [
            "Epoch: 34, Loss: 1.8123449087142944, \n"
          ]
        },
        {
          "output_type": "stream",
          "name": "stderr",
          "text": [
            " 36%|███▌      | 36/100 [6:02:51<12:24:53, 698.33s/it]"
          ]
        },
        {
          "output_type": "stream",
          "name": "stdout",
          "text": [
            "Epoch: 35, Loss: 2.0119776725769043, \n"
          ]
        },
        {
          "output_type": "stream",
          "name": "stderr",
          "text": [
            " 37%|███▋      | 37/100 [6:14:26<12:12:07, 697.25s/it]"
          ]
        },
        {
          "output_type": "stream",
          "name": "stdout",
          "text": [
            "Epoch: 36, Loss: 1.6442126035690308, \n"
          ]
        },
        {
          "output_type": "stream",
          "name": "stderr",
          "text": [
            " 38%|███▊      | 38/100 [6:26:03<12:00:20, 697.11s/it]"
          ]
        },
        {
          "output_type": "stream",
          "name": "stdout",
          "text": [
            "Epoch: 37, Loss: 1.7724577188491821, \n"
          ]
        },
        {
          "output_type": "stream",
          "name": "stderr",
          "text": [
            " 39%|███▉      | 39/100 [6:37:46<11:50:32, 698.89s/it]"
          ]
        },
        {
          "output_type": "stream",
          "name": "stdout",
          "text": [
            "Epoch: 38, Loss: 1.7826931476593018, \n"
          ]
        },
        {
          "output_type": "stream",
          "name": "stderr",
          "text": [
            " 40%|████      | 40/100 [6:49:28<11:39:47, 699.79s/it]"
          ]
        },
        {
          "output_type": "stream",
          "name": "stdout",
          "text": [
            "Epoch: 39, Loss: 1.9187307357788086, \n"
          ]
        },
        {
          "output_type": "stream",
          "name": "stderr",
          "text": [
            " 41%|████      | 41/100 [7:01:07<11:28:00, 699.66s/it]"
          ]
        },
        {
          "output_type": "stream",
          "name": "stdout",
          "text": [
            "Epoch: 40, Loss: 1.517972707748413, \n"
          ]
        },
        {
          "output_type": "stream",
          "name": "stderr",
          "text": [
            " 42%|████▏     | 42/100 [7:12:51<11:17:37, 701.00s/it]"
          ]
        },
        {
          "output_type": "stream",
          "name": "stdout",
          "text": [
            "Epoch: 41, Loss: 2.2135493755340576, \n"
          ]
        },
        {
          "output_type": "stream",
          "name": "stderr",
          "text": [
            " 43%|████▎     | 43/100 [7:24:47<11:10:06, 705.38s/it]"
          ]
        },
        {
          "output_type": "stream",
          "name": "stdout",
          "text": [
            "Epoch: 42, Loss: 1.7935993671417236, \n"
          ]
        },
        {
          "output_type": "stream",
          "name": "stderr",
          "text": [
            " 44%|████▍     | 44/100 [7:36:51<11:03:41, 711.10s/it]"
          ]
        },
        {
          "output_type": "stream",
          "name": "stdout",
          "text": [
            "Epoch: 43, Loss: 1.9431633949279785, \n"
          ]
        },
        {
          "output_type": "stream",
          "name": "stderr",
          "text": [
            " 45%|████▌     | 45/100 [7:48:33<10:49:06, 708.12s/it]"
          ]
        },
        {
          "output_type": "stream",
          "name": "stdout",
          "text": [
            "Epoch: 44, Loss: 1.6900447607040405, \n"
          ]
        },
        {
          "output_type": "stream",
          "name": "stderr",
          "text": [
            " 46%|████▌     | 46/100 [8:00:17<10:36:13, 706.92s/it]"
          ]
        },
        {
          "output_type": "stream",
          "name": "stdout",
          "text": [
            "Epoch: 45, Loss: 1.861972451210022, \n"
          ]
        },
        {
          "output_type": "stream",
          "name": "stderr",
          "text": [
            " 47%|████▋     | 47/100 [8:12:00<10:23:33, 705.91s/it]"
          ]
        },
        {
          "output_type": "stream",
          "name": "stdout",
          "text": [
            "Epoch: 46, Loss: 1.5165683031082153, \n"
          ]
        },
        {
          "output_type": "stream",
          "name": "stderr",
          "text": [
            " 48%|████▊     | 48/100 [8:23:47<10:12:04, 706.25s/it]"
          ]
        },
        {
          "output_type": "stream",
          "name": "stdout",
          "text": [
            "Epoch: 47, Loss: 1.756410002708435, \n"
          ]
        },
        {
          "output_type": "stream",
          "name": "stderr",
          "text": [
            " 49%|████▉     | 49/100 [8:35:40<10:02:04, 708.32s/it]"
          ]
        },
        {
          "output_type": "stream",
          "name": "stdout",
          "text": [
            "Epoch: 48, Loss: 1.931347370147705, \n"
          ]
        },
        {
          "output_type": "stream",
          "name": "stderr",
          "text": [
            " 50%|█████     | 50/100 [8:46:01<9:28:12, 681.84s/it] "
          ]
        },
        {
          "output_type": "stream",
          "name": "stdout",
          "text": [
            "Epoch: 49, Loss: 1.5443859100341797, \n"
          ]
        },
        {
          "output_type": "stream",
          "name": "stderr",
          "text": [
            " 51%|█████     | 51/100 [8:55:09<8:44:12, 641.88s/it]"
          ]
        },
        {
          "output_type": "stream",
          "name": "stdout",
          "text": [
            "Epoch: 50, Loss: 2.03229022026062, \n"
          ]
        },
        {
          "output_type": "stream",
          "name": "stderr",
          "text": [
            " 52%|█████▏    | 52/100 [9:04:22<8:12:06, 615.14s/it]"
          ]
        },
        {
          "output_type": "stream",
          "name": "stdout",
          "text": [
            "Epoch: 51, Loss: 1.9275039434432983, \n"
          ]
        },
        {
          "output_type": "stream",
          "name": "stderr",
          "text": [
            " 52%|█████▏    | 52/100 [9:08:50<8:26:37, 633.28s/it]\n"
          ]
        },
        {
          "output_type": "error",
          "ename": "KeyboardInterrupt",
          "evalue": "",
          "traceback": [
            "\u001b[1;31m---------------------------------------------------------------------------\u001b[0m",
            "\u001b[1;31mKeyboardInterrupt\u001b[0m                         Traceback (most recent call last)",
            "\u001b[1;32m<ipython-input-16-c80f626f20fe>\u001b[0m in \u001b[0;36m<module>\u001b[1;34m\u001b[0m\n\u001b[0;32m     17\u001b[0m \u001b[1;33m\u001b[0m\u001b[0m\n\u001b[0;32m     18\u001b[0m       \u001b[1;32mif\u001b[0m \u001b[0musing_GPU\u001b[0m\u001b[1;33m:\u001b[0m\u001b[1;33m\u001b[0m\u001b[1;33m\u001b[0m\u001b[0m\n\u001b[1;32m---> 19\u001b[1;33m         \u001b[0mX\u001b[0m \u001b[1;33m=\u001b[0m \u001b[0mX\u001b[0m\u001b[1;33m.\u001b[0m\u001b[0mcuda\u001b[0m\u001b[1;33m(\u001b[0m\u001b[1;33m)\u001b[0m\u001b[1;33m\u001b[0m\u001b[1;33m\u001b[0m\u001b[0m\n\u001b[0m\u001b[0;32m     20\u001b[0m         \u001b[0my\u001b[0m \u001b[1;33m=\u001b[0m \u001b[0my\u001b[0m\u001b[1;33m.\u001b[0m\u001b[0mcuda\u001b[0m\u001b[1;33m(\u001b[0m\u001b[1;33m)\u001b[0m\u001b[1;33m\u001b[0m\u001b[1;33m\u001b[0m\u001b[0m\n\u001b[0;32m     21\u001b[0m \u001b[1;33m\u001b[0m\u001b[0m\n",
            "\u001b[1;31mKeyboardInterrupt\u001b[0m: "
          ]
        }
      ],
      "metadata": {
        "colab": {
          "base_uri": "https://localhost:8080/"
        },
        "id": "9dOXBluRjSbD",
        "outputId": "956e1980-9f4d-4d55-da7b-ce4ab464293a"
      }
    },
    {
      "cell_type": "code",
      "execution_count": 17,
      "source": [
        "import matplotlib.pyplot as plt\r\n",
        "\r\n",
        "plt.title(\"Training Loss\")\r\n",
        "plt.xlabel(\"Epochs\")\r\n",
        "plt.ylabel(\"Loss\")\r\n",
        "plt.plot(loss_lst)\r\n",
        "plt.show()"
      ],
      "outputs": [
        {
          "output_type": "display_data",
          "data": {
            "text/plain": [
              "<Figure size 432x288 with 1 Axes>"
            ],
            "image/png": "[encoded data removed]"
          },
          "metadata": {
            "needs_background": "light"
          }
        }
      ],
      "metadata": {}
    },
    {
      "cell_type": "code",
      "execution_count": null,
      "source": [
        "# for i in tqdm(range(numEpochs)):\r\n",
        "#   for X, y in train_loader:\r\n",
        "\r\n",
        "#     X = torch.squeeze(X).cuda()\r\n",
        "#     y = y.T.cuda()\r\n",
        "\r\n",
        "#     y_hat = model(X)\r\n",
        "\r\n",
        "#     optimizer.zero_grad() \r\n",
        "#     y_hat = model(X)\r\n",
        "#     y_log = torch.log(y+1)\r\n",
        "#     loss = loss_function(y_hat, y_log) #calculate the loss\r\n",
        "#     loss.backward() #backprop\r\n",
        "#     optimizer.step() #does the update\r\n",
        "\r\n",
        "#   if i % 1 == 0:\r\n",
        "#       print (\"Epoch: {0}, Loss: {1}, \".format(i, loss.cpu().data.numpy()))"
      ],
      "outputs": [],
      "metadata": {
        "id": "jVxyBYuxmBr9"
      }
    },
    {
      "cell_type": "code",
      "execution_count": null,
      "source": [
        "# # init empty model\r\n",
        "# modelA = myNeuralNetwork(7)\r\n",
        "# optimizerA = torch.optim.Adam(modelA.parameters(), lr=0.01)\r\n",
        "\r\n",
        "# # load checkpoint from saved path\r\n",
        "# path = os.path.join(\"/content\",\r\n",
        "#                               \"drive\", \r\n",
        "#                               \".shortcut-targets-by-id\", \r\n",
        "#                               \"19icV-F9BFrur0fxo4XvAZ82qIhipVrb-\",\r\n",
        "#                               \"aiProjectData50021\",\r\n",
        "#                               \"models\",\r\n",
        "#                               \"model_20210729_1755_10epochs.pt\")\r\n",
        "# checkpoint = torch.load(path)\r\n",
        "\r\n",
        "# # load model\r\n",
        "# modelA.load_state_dict(checkpoint['model_state_dict'])\r\n",
        "# optimizerA.load_state_dict(checkpoint['optimizer_state_dict'])"
      ],
      "outputs": [],
      "metadata": {
        "id": "h4ikmi0KEPNN"
      }
    },
    {
      "cell_type": "code",
      "execution_count": null,
      "source": [
        "# # torch.cuda.empty_cache()\r\n",
        "# if using_GPU:\r\n",
        "#   modelA = modelA.cuda()\r\n",
        "\r\n",
        "# # Check if the Module is on GPU by checking if a parameter is on GPU\r\n",
        "# print(\"Model on GPU?:\")\r\n",
        "# print(next(modelA.parameters()).is_cuda)"
      ],
      "outputs": [],
      "metadata": {
        "id": "FWZxhcCoFxt0"
      }
    },
    {
      "cell_type": "markdown",
      "source": [
        "## Evaluate the model"
      ],
      "metadata": {
        "id": "C7lgli26zSpf"
      }
    },
    {
      "cell_type": "code",
      "execution_count": 18,
      "source": [
        "test_loader = DataLoader(dataset = TwitterDataset(overallTest, preProcessDataFrame),\r\n",
        "                            batch_size = 1,\r\n",
        "                            shuffle = True)\r\n",
        "model.eval()\r\n",
        "loss_lst_1 = []\r\n",
        "# cumLoss = 0\r\n",
        "for (i, (X, y)) in enumerate(test_loader):\r\n",
        "  X = torch.squeeze(X).cuda()\r\n",
        "  y = y.T.cuda()\r\n",
        "  y_hat = model(X)\r\n",
        "  y_log = torch.log(y+1)\r\n",
        "  # cum_loss += loss_fn(scores, labels).item()\r\n",
        "  loss = loss_function(y_hat, y_log)\r\n",
        "  loss_lst_1.append(loss.cpu().data.numpy())\r\n",
        "  # cumLoss += loss\r\n",
        "\r\n",
        "# print(f\"MSELoss: {cumLoss / len(test_loader)}\")\r\n",
        "print(f\"MSELoss: {loss}\")\r\n",
        "print(f\"Average MSELoss: {sum(loss_lst_1)/len(loss_lst_1)}\")"
      ],
      "outputs": [
        {
          "output_type": "stream",
          "name": "stdout",
          "text": [
            "MSELoss: 1.848537802696228\n",
            "Average MSELoss: 1.8663375891929816\n"
          ]
        }
      ],
      "metadata": {
        "id": "decLmbTQzVJr"
      }
    },
    {
      "cell_type": "code",
      "execution_count": 21,
      "source": [
        "test_loader = DataLoader(dataset = TwitterDataset(overallTest, preProcessDataFrame),\r\n",
        "                            batch_size = 1,\r\n",
        "                            shuffle = True)\r\n",
        "model.eval()\r\n",
        "loss_lst_1 = []\r\n",
        "# cumLoss = 0\r\n",
        "for (i, (X_a, y_a)) in enumerate(test_loader):\r\n",
        "  # X = torch.squeeze(X).cuda()\r\n",
        "  # y = y.T.cuda()\r\n",
        "  for X_a, y_a in test_loader:\r\n",
        "    \r\n",
        "    X_a = torch.squeeze(X_a)\r\n",
        "    y_a = y_a.T\r\n",
        "\r\n",
        "    l = int(len(X_a)/b_size)\r\n",
        "\r\n",
        "    for m in range(l):\r\n",
        "      a = m*b_size\r\n",
        "      b = (m+1)*b_size-1\r\n",
        "\r\n",
        "      X = X_a[a:b]\r\n",
        "      y = y_a[a:b]\r\n",
        "\r\n",
        "      if using_GPU:\r\n",
        "        X = X.cuda()\r\n",
        "        y = y.cuda()\r\n",
        "\r\n",
        "      y_hat = model(X)\r\n",
        "      y_log = torch.log(y+1)\r\n",
        "      # cum_loss += loss_fn(scores, labels).item()\r\n",
        "      loss = loss_function(y_hat, y_log)\r\n",
        "      loss_lst_1.append(loss.cpu().data.numpy())\r\n",
        "      # cumLoss += loss\r\n",
        "\r\n",
        "# print(f\"MSELoss: {cumLoss / len(test_loader)}\")\r\n",
        "print(f\"MSELoss: {loss}\")\r\n",
        "print(f\"Average MSELoss: {sum(loss_lst_1)/len(loss_lst_1)}\")"
      ],
      "outputs": [
        {
          "output_type": "error",
          "ename": "KeyboardInterrupt",
          "evalue": "",
          "traceback": [
            "\u001b[1;31m---------------------------------------------------------------------------\u001b[0m",
            "\u001b[1;31mKeyboardInterrupt\u001b[0m                         Traceback (most recent call last)",
            "\u001b[1;32m<ipython-input-21-b0bba21fd046>\u001b[0m in \u001b[0;36m<module>\u001b[1;34m\u001b[0m\n\u001b[0;32m     26\u001b[0m         \u001b[0my\u001b[0m \u001b[1;33m=\u001b[0m \u001b[0my\u001b[0m\u001b[1;33m.\u001b[0m\u001b[0mcuda\u001b[0m\u001b[1;33m(\u001b[0m\u001b[1;33m)\u001b[0m\u001b[1;33m\u001b[0m\u001b[1;33m\u001b[0m\u001b[0m\n\u001b[0;32m     27\u001b[0m \u001b[1;33m\u001b[0m\u001b[0m\n\u001b[1;32m---> 28\u001b[1;33m       \u001b[0my_hat\u001b[0m \u001b[1;33m=\u001b[0m \u001b[0mmodel\u001b[0m\u001b[1;33m(\u001b[0m\u001b[0mX\u001b[0m\u001b[1;33m)\u001b[0m\u001b[1;33m\u001b[0m\u001b[1;33m\u001b[0m\u001b[0m\n\u001b[0m\u001b[0;32m     29\u001b[0m       \u001b[0my_log\u001b[0m \u001b[1;33m=\u001b[0m \u001b[0mtorch\u001b[0m\u001b[1;33m.\u001b[0m\u001b[0mlog\u001b[0m\u001b[1;33m(\u001b[0m\u001b[0my\u001b[0m\u001b[1;33m+\u001b[0m\u001b[1;36m1\u001b[0m\u001b[1;33m)\u001b[0m\u001b[1;33m\u001b[0m\u001b[1;33m\u001b[0m\u001b[0m\n\u001b[0;32m     30\u001b[0m       \u001b[1;31m# cum_loss += loss_fn(scores, labels).item()\u001b[0m\u001b[1;33m\u001b[0m\u001b[1;33m\u001b[0m\u001b[1;33m\u001b[0m\u001b[0m\n",
            "\u001b[1;32m~\\AppData\\Local\\Programs\\Python\\Python39\\lib\\site-packages\\torch\\nn\\modules\\module.py\u001b[0m in \u001b[0;36m_call_impl\u001b[1;34m(self, *input, **kwargs)\u001b[0m\n\u001b[0;32m   1049\u001b[0m         if not (self._backward_hooks or self._forward_hooks or self._forward_pre_hooks or _global_backward_hooks\n\u001b[0;32m   1050\u001b[0m                 or _global_forward_hooks or _global_forward_pre_hooks):\n\u001b[1;32m-> 1051\u001b[1;33m             \u001b[1;32mreturn\u001b[0m \u001b[0mforward_call\u001b[0m\u001b[1;33m(\u001b[0m\u001b[1;33m*\u001b[0m\u001b[0minput\u001b[0m\u001b[1;33m,\u001b[0m \u001b[1;33m**\u001b[0m\u001b[0mkwargs\u001b[0m\u001b[1;33m)\u001b[0m\u001b[1;33m\u001b[0m\u001b[1;33m\u001b[0m\u001b[0m\n\u001b[0m\u001b[0;32m   1052\u001b[0m         \u001b[1;31m# Do not call functions when jit is used\u001b[0m\u001b[1;33m\u001b[0m\u001b[1;33m\u001b[0m\u001b[1;33m\u001b[0m\u001b[0m\n\u001b[0;32m   1053\u001b[0m         \u001b[0mfull_backward_hooks\u001b[0m\u001b[1;33m,\u001b[0m \u001b[0mnon_full_backward_hooks\u001b[0m \u001b[1;33m=\u001b[0m \u001b[1;33m[\u001b[0m\u001b[1;33m]\u001b[0m\u001b[1;33m,\u001b[0m \u001b[1;33m[\u001b[0m\u001b[1;33m]\u001b[0m\u001b[1;33m\u001b[0m\u001b[1;33m\u001b[0m\u001b[0m\n",
            "\u001b[1;32m<ipython-input-13-5db5f30ff098>\u001b[0m in \u001b[0;36mforward\u001b[1;34m(self, x)\u001b[0m\n\u001b[0;32m     19\u001b[0m     \u001b[0mx\u001b[0m \u001b[1;33m=\u001b[0m \u001b[0mself\u001b[0m\u001b[1;33m.\u001b[0m\u001b[0mdropout\u001b[0m\u001b[1;33m(\u001b[0m\u001b[0mF\u001b[0m\u001b[1;33m.\u001b[0m\u001b[0mrelu\u001b[0m\u001b[1;33m(\u001b[0m\u001b[0mself\u001b[0m\u001b[1;33m.\u001b[0m\u001b[0mbatchnorm1\u001b[0m\u001b[1;33m(\u001b[0m\u001b[0mself\u001b[0m\u001b[1;33m.\u001b[0m\u001b[0mfc1\u001b[0m\u001b[1;33m(\u001b[0m\u001b[0mx\u001b[0m\u001b[1;33m)\u001b[0m\u001b[1;33m)\u001b[0m\u001b[1;33m)\u001b[0m\u001b[1;33m)\u001b[0m\u001b[1;33m\u001b[0m\u001b[1;33m\u001b[0m\u001b[0m\n\u001b[0;32m     20\u001b[0m     \u001b[0mx\u001b[0m \u001b[1;33m=\u001b[0m \u001b[0mself\u001b[0m\u001b[1;33m.\u001b[0m\u001b[0mdropout\u001b[0m\u001b[1;33m(\u001b[0m\u001b[0mF\u001b[0m\u001b[1;33m.\u001b[0m\u001b[0mrelu\u001b[0m\u001b[1;33m(\u001b[0m\u001b[0mself\u001b[0m\u001b[1;33m.\u001b[0m\u001b[0mbatchnorm2\u001b[0m\u001b[1;33m(\u001b[0m\u001b[0mself\u001b[0m\u001b[1;33m.\u001b[0m\u001b[0mfc2\u001b[0m\u001b[1;33m(\u001b[0m\u001b[0mx\u001b[0m\u001b[1;33m)\u001b[0m\u001b[1;33m)\u001b[0m\u001b[1;33m)\u001b[0m\u001b[1;33m)\u001b[0m\u001b[1;33m\u001b[0m\u001b[1;33m\u001b[0m\u001b[0m\n\u001b[1;32m---> 21\u001b[1;33m     \u001b[0mx\u001b[0m \u001b[1;33m=\u001b[0m \u001b[0mself\u001b[0m\u001b[1;33m.\u001b[0m\u001b[0mdropout\u001b[0m\u001b[1;33m(\u001b[0m\u001b[0mF\u001b[0m\u001b[1;33m.\u001b[0m\u001b[0mrelu\u001b[0m\u001b[1;33m(\u001b[0m\u001b[0mself\u001b[0m\u001b[1;33m.\u001b[0m\u001b[0mbatchnorm3\u001b[0m\u001b[1;33m(\u001b[0m\u001b[0mself\u001b[0m\u001b[1;33m.\u001b[0m\u001b[0mfc3\u001b[0m\u001b[1;33m(\u001b[0m\u001b[0mx\u001b[0m\u001b[1;33m)\u001b[0m\u001b[1;33m)\u001b[0m\u001b[1;33m)\u001b[0m\u001b[1;33m)\u001b[0m\u001b[1;33m\u001b[0m\u001b[1;33m\u001b[0m\u001b[0m\n\u001b[0m\u001b[0;32m     22\u001b[0m     \u001b[0mx\u001b[0m \u001b[1;33m=\u001b[0m \u001b[0mF\u001b[0m\u001b[1;33m.\u001b[0m\u001b[0mrelu\u001b[0m\u001b[1;33m(\u001b[0m\u001b[0mself\u001b[0m\u001b[1;33m.\u001b[0m\u001b[0mfc4\u001b[0m\u001b[1;33m(\u001b[0m\u001b[0mx\u001b[0m\u001b[1;33m)\u001b[0m\u001b[1;33m)\u001b[0m\u001b[1;33m\u001b[0m\u001b[1;33m\u001b[0m\u001b[0m\n\u001b[0;32m     23\u001b[0m \u001b[1;33m\u001b[0m\u001b[0m\n",
            "\u001b[1;32m~\\AppData\\Local\\Programs\\Python\\Python39\\lib\\site-packages\\torch\\nn\\modules\\module.py\u001b[0m in \u001b[0;36m_call_impl\u001b[1;34m(self, *input, **kwargs)\u001b[0m\n\u001b[0;32m   1049\u001b[0m         if not (self._backward_hooks or self._forward_hooks or self._forward_pre_hooks or _global_backward_hooks\n\u001b[0;32m   1050\u001b[0m                 or _global_forward_hooks or _global_forward_pre_hooks):\n\u001b[1;32m-> 1051\u001b[1;33m             \u001b[1;32mreturn\u001b[0m \u001b[0mforward_call\u001b[0m\u001b[1;33m(\u001b[0m\u001b[1;33m*\u001b[0m\u001b[0minput\u001b[0m\u001b[1;33m,\u001b[0m \u001b[1;33m**\u001b[0m\u001b[0mkwargs\u001b[0m\u001b[1;33m)\u001b[0m\u001b[1;33m\u001b[0m\u001b[1;33m\u001b[0m\u001b[0m\n\u001b[0m\u001b[0;32m   1052\u001b[0m         \u001b[1;31m# Do not call functions when jit is used\u001b[0m\u001b[1;33m\u001b[0m\u001b[1;33m\u001b[0m\u001b[1;33m\u001b[0m\u001b[0m\n\u001b[0;32m   1053\u001b[0m         \u001b[0mfull_backward_hooks\u001b[0m\u001b[1;33m,\u001b[0m \u001b[0mnon_full_backward_hooks\u001b[0m \u001b[1;33m=\u001b[0m \u001b[1;33m[\u001b[0m\u001b[1;33m]\u001b[0m\u001b[1;33m,\u001b[0m \u001b[1;33m[\u001b[0m\u001b[1;33m]\u001b[0m\u001b[1;33m\u001b[0m\u001b[1;33m\u001b[0m\u001b[0m\n",
            "\u001b[1;32m~\\AppData\\Local\\Programs\\Python\\Python39\\lib\\site-packages\\torch\\nn\\modules\\linear.py\u001b[0m in \u001b[0;36mforward\u001b[1;34m(self, input)\u001b[0m\n\u001b[0;32m     94\u001b[0m \u001b[1;33m\u001b[0m\u001b[0m\n\u001b[0;32m     95\u001b[0m     \u001b[1;32mdef\u001b[0m \u001b[0mforward\u001b[0m\u001b[1;33m(\u001b[0m\u001b[0mself\u001b[0m\u001b[1;33m,\u001b[0m \u001b[0minput\u001b[0m\u001b[1;33m:\u001b[0m \u001b[0mTensor\u001b[0m\u001b[1;33m)\u001b[0m \u001b[1;33m->\u001b[0m \u001b[0mTensor\u001b[0m\u001b[1;33m:\u001b[0m\u001b[1;33m\u001b[0m\u001b[1;33m\u001b[0m\u001b[0m\n\u001b[1;32m---> 96\u001b[1;33m         \u001b[1;32mreturn\u001b[0m \u001b[0mF\u001b[0m\u001b[1;33m.\u001b[0m\u001b[0mlinear\u001b[0m\u001b[1;33m(\u001b[0m\u001b[0minput\u001b[0m\u001b[1;33m,\u001b[0m \u001b[0mself\u001b[0m\u001b[1;33m.\u001b[0m\u001b[0mweight\u001b[0m\u001b[1;33m,\u001b[0m \u001b[0mself\u001b[0m\u001b[1;33m.\u001b[0m\u001b[0mbias\u001b[0m\u001b[1;33m)\u001b[0m\u001b[1;33m\u001b[0m\u001b[1;33m\u001b[0m\u001b[0m\n\u001b[0m\u001b[0;32m     97\u001b[0m \u001b[1;33m\u001b[0m\u001b[0m\n\u001b[0;32m     98\u001b[0m     \u001b[1;32mdef\u001b[0m \u001b[0mextra_repr\u001b[0m\u001b[1;33m(\u001b[0m\u001b[0mself\u001b[0m\u001b[1;33m)\u001b[0m \u001b[1;33m->\u001b[0m \u001b[0mstr\u001b[0m\u001b[1;33m:\u001b[0m\u001b[1;33m\u001b[0m\u001b[1;33m\u001b[0m\u001b[0m\n",
            "\u001b[1;32m~\\AppData\\Local\\Programs\\Python\\Python39\\lib\\site-packages\\torch\\nn\\functional.py\u001b[0m in \u001b[0;36mlinear\u001b[1;34m(input, weight, bias)\u001b[0m\n\u001b[0;32m   1845\u001b[0m     \u001b[1;32mif\u001b[0m \u001b[0mhas_torch_function_variadic\u001b[0m\u001b[1;33m(\u001b[0m\u001b[0minput\u001b[0m\u001b[1;33m,\u001b[0m \u001b[0mweight\u001b[0m\u001b[1;33m)\u001b[0m\u001b[1;33m:\u001b[0m\u001b[1;33m\u001b[0m\u001b[1;33m\u001b[0m\u001b[0m\n\u001b[0;32m   1846\u001b[0m         \u001b[1;32mreturn\u001b[0m \u001b[0mhandle_torch_function\u001b[0m\u001b[1;33m(\u001b[0m\u001b[0mlinear\u001b[0m\u001b[1;33m,\u001b[0m \u001b[1;33m(\u001b[0m\u001b[0minput\u001b[0m\u001b[1;33m,\u001b[0m \u001b[0mweight\u001b[0m\u001b[1;33m)\u001b[0m\u001b[1;33m,\u001b[0m \u001b[0minput\u001b[0m\u001b[1;33m,\u001b[0m \u001b[0mweight\u001b[0m\u001b[1;33m,\u001b[0m \u001b[0mbias\u001b[0m\u001b[1;33m=\u001b[0m\u001b[0mbias\u001b[0m\u001b[1;33m)\u001b[0m\u001b[1;33m\u001b[0m\u001b[1;33m\u001b[0m\u001b[0m\n\u001b[1;32m-> 1847\u001b[1;33m     \u001b[1;32mreturn\u001b[0m \u001b[0mtorch\u001b[0m\u001b[1;33m.\u001b[0m\u001b[0m_C\u001b[0m\u001b[1;33m.\u001b[0m\u001b[0m_nn\u001b[0m\u001b[1;33m.\u001b[0m\u001b[0mlinear\u001b[0m\u001b[1;33m(\u001b[0m\u001b[0minput\u001b[0m\u001b[1;33m,\u001b[0m \u001b[0mweight\u001b[0m\u001b[1;33m,\u001b[0m \u001b[0mbias\u001b[0m\u001b[1;33m)\u001b[0m\u001b[1;33m\u001b[0m\u001b[1;33m\u001b[0m\u001b[0m\n\u001b[0m\u001b[0;32m   1848\u001b[0m \u001b[1;33m\u001b[0m\u001b[0m\n\u001b[0;32m   1849\u001b[0m \u001b[1;33m\u001b[0m\u001b[0m\n",
            "\u001b[1;31mKeyboardInterrupt\u001b[0m: "
          ]
        }
      ],
      "metadata": {}
    },
    {
      "cell_type": "code",
      "execution_count": 19,
      "source": [
        "from datetime import datetime\r\n",
        "\r\n",
        "now = datetime.now()\r\n",
        "\r\n",
        "d4 = now.strftime(\"%Y%m%d_%H%M%S\")\r\n",
        "print(d4)"
      ],
      "outputs": [
        {
          "output_type": "stream",
          "name": "stdout",
          "text": [
            "20210804_094153\n"
          ]
        }
      ],
      "metadata": {}
    },
    {
      "cell_type": "markdown",
      "source": [
        "# Save your model"
      ],
      "metadata": {
        "id": "jqpz3C6iVlge"
      }
    },
    {
      "cell_type": "code",
      "execution_count": 20,
      "source": [
        "PATH = \"model_{0}.pt\".format(d4) #change this name to the name of your network\r\n",
        "\r\n",
        "torch.save({\r\n",
        "            'model_state_dict': model.state_dict(),\r\n",
        "            'optimizer_state_dict': optimizer.state_dict()\r\n",
        "            }, PATH)"
      ],
      "outputs": [],
      "metadata": {
        "id": "Kw6rcOCiVk13"
      }
    },
    {
      "cell_type": "markdown",
      "source": [
        "# Load model from elsewhere\n",
        "Just a reminder of how to load the model elsewhere after u save it. Also for me to deploy into the UI after you're done"
      ],
      "metadata": {
        "id": "25eRpxN3VyH2"
      }
    },
    {
      "cell_type": "code",
      "execution_count": null,
      "source": [
        "# # init empty model\r\n",
        "# modelA = NeuralNetwork()\r\n",
        "# optimModelA = optim.SGD(modelA.parameters(), lr=0.001, momentum=0.9)\r\n",
        "\r\n",
        "# # load checkpoint from saved path\r\n",
        "# checkpoint = torch.load(PATH)\r\n",
        "\r\n",
        "# # load model\r\n",
        "# modelA.load_state_dict(checkpoint['model_state_dict'])\r\n",
        "# optimizerA.load_state_dict(checkpoint['optimizer_state_dict'])\r\n",
        "\r\n",
        "# modelA.eval()\r\n",
        "# # - or -\r\n",
        "# modelA.train()"
      ],
      "outputs": [],
      "metadata": {
        "id": "bk9XhXs6V1Gk"
      }
    }
  ]
}