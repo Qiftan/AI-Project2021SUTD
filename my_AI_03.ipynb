{
  "nbformat": 4,
  "nbformat_minor": 2,
  "metadata": {
    "kernelspec": {
      "name": "python3",
      "display_name": "Python 3.9.5 64-bit"
    },
    "language_info": {
      "codemirror_mode": {
        "name": "ipython",
        "version": 3
      },
      "file_extension": ".py",
      "mimetype": "text/x-python",
      "name": "python",
      "nbconvert_exporter": "python",
      "pygments_lexer": "ipython3",
      "version": "3.9.5"
    },
    "colab": {
      "name": "my-AI-01.ipynb",
      "provenance": [],
      "collapsed_sections": []
    },
    "interpreter": {
      "hash": "eb24ff17c96d57bb1b6bd790e601a0fc3cb43c71d84f2d33908d6829878e2da1"
    }
  },
  "cells": [
    {
      "cell_type": "code",
      "execution_count": 18,
      "source": [
        "import sys\r\n",
        "import os\r\n",
        "from tqdm import tqdm\r\n",
        "\r\n",
        "import glob\r\n",
        "import numpy as np\r\n",
        "import pandas as pd\r\n",
        "from sklearn.model_selection import train_test_split\r\n",
        "\r\n",
        "import torch\r\n",
        "import torch.nn as nn\r\n",
        "import torch.nn.functional as F\r\n",
        "from torch.utils.data import Dataset, DataLoader"
      ],
      "outputs": [],
      "metadata": {
        "id": "Q9f8VOcgfSiC"
      }
    },
    {
      "cell_type": "code",
      "execution_count": 19,
      "source": [
        "print(\"PyTorch version: \", torch.__version__)\r\n",
        "print(\"GPU Detected:\" ,torch.cuda.is_available())\r\n",
        "print(\"GPU Device Name:\", torch.cuda.get_device_name(0))\r\n",
        "\r\n",
        "#defining a shortcut function for later:\r\n",
        "# import os\r\n",
        "# using_GPU = os.path.exists('/opt/bin/nvidia-smi')\r\n",
        "\r\n",
        "using_GPU = torch.cuda.is_available()\r\n"
      ],
      "outputs": [
        {
          "output_type": "stream",
          "name": "stdout",
          "text": [
            "PyTorch version:  1.9.0+cu102\n",
            "GPU Detected: True\n",
            "GPU Device Name: NVIDIA GeForce MX150\n"
          ]
        }
      ],
      "metadata": {
        "colab": {
          "base_uri": "https://localhost:8080/"
        },
        "id": "UqcRxwtaL0k5",
        "outputId": "af97adde-3d79-44aa-cd94-fda8f2661320"
      }
    },
    {
      "cell_type": "markdown",
      "source": [
        "# Google Colab setup\n",
        "Run this only if you're training on colab. \n",
        "Make sure you have added the shared drive as a shortcut to the **root** of your google drive.\n",
        "\n",
        "If you're training your model offline and this cell throws `SyntaxError`, just ignore it."
      ],
      "metadata": {
        "id": "7zDsdEx7dAL5"
      }
    },
    {
      "cell_type": "code",
      "execution_count": 20,
      "source": [
        "# currentlyRunningOnColab = 'google.colab' in sys.modules\r\n",
        "# if currentlyRunningOnColab:\r\n",
        "#   # Mount your own Google Drive\r\n",
        "#   from google.colab import drive\r\n",
        "#   drive.mount('/content/drive', force_remount=True)\r\n",
        "#   print(\"Mounted Google drive of current user\")\r\n",
        "\r\n",
        "#   %cd /content\r\n",
        "#   print(\"Changed current directory to /content\")\r\n",
        "\r\n",
        "#   # Mount github repository\r\n",
        "#   !git clone https://github.com/beazt123/AI-Project2021SUTD.git\r\n",
        "#   print(\"\\nCloned repo onto current instance of machine\")\r\n",
        "  \r\n",
        "#   %cd AI-Project2021SUTD\r\n",
        "#   print(\"\\nCurrently operating in the root directory of the Git repository\")\r\n",
        "\r\n",
        "#   # dataFolderName = \"aiproject\"\r\n",
        "#   GITHUB_REPO_NAME = \"AI-Project2021SUTD\"\r\n",
        "#   codePath = GITHUB_REPO_NAME\r\n",
        "#   # /content/drive/.shortcut-targets-by-id/1OU-Ua5tGwc7PDL_nf0s1CPKoIQduRW5q/50.021 AI Project"
      ],
      "outputs": [],
      "metadata": {
        "id": "oCXI27GDYmAp",
        "colab": {
          "base_uri": "https://localhost:8080/"
        },
        "outputId": "7bb27842-5a5e-4cab-d73d-20d35e8c19a2"
      }
    },
    {
      "cell_type": "markdown",
      "source": [
        "# Set up the path where the data is stored\n",
        "Currently, this is set to an online directory. Change it if you're training it offline."
      ],
      "metadata": {
        "id": "akb3oVI5A8lY"
      }
    },
    {
      "cell_type": "code",
      "execution_count": 21,
      "source": [
        "# # Change this variable if u wanna train offline\r\n",
        "# dataFolderPath = os.path.join(\"/content\",\r\n",
        "#                               \"drive\", \r\n",
        "#                               \".shortcut-targets-by-id\", \r\n",
        "#                               \"19icV-F9BFrur0fxo4XvAZ82qIhipVrb-\",\r\n",
        "#                               \"aiProjectData50021\")\r\n",
        "# # /content/drive/.shortcut-targets-by-id/19icV-F9BFrur0fxo4XvAZ82qIhipVrb-/aiProjectData50021"
      ],
      "outputs": [],
      "metadata": {
        "id": "1vUdlECEYwOK"
      }
    },
    {
      "cell_type": "code",
      "execution_count": 22,
      "source": [
        "dataFolderPath = os.path.join(\"data\")"
      ],
      "outputs": [],
      "metadata": {}
    },
    {
      "cell_type": "markdown",
      "source": [
        "# Preparing the data\n",
        "I'm assuming that the data is stored in the exact same structure as the one on our shared drive because the code in this section is written like that\n",
        "\n",
        "```\n",
        "dataFolder\n",
        "  |--COVID DATASET 1\n",
        "  |         |--someCSV.csv\n",
        "  |         |--anotherCSV.csv\n",
        "  |--COVID DATASET 2\n",
        "  |         |--someCSV2.csv\n",
        "  |         |--anotherCSV2.csv\n",
        "  |--COVID DATASET 3\n",
        "            |--someCSV3.csv\n",
        "            |--anotherCSV3.csv\n",
        "```"
      ],
      "metadata": {
        "id": "Qvtk6rmZV6qL"
      }
    },
    {
      "cell_type": "markdown",
      "source": [
        "## Split into Training and Test sets"
      ],
      "metadata": {
        "id": "IVmc57I8DOvn"
      }
    },
    {
      "cell_type": "code",
      "execution_count": 23,
      "source": [
        "trainingPercentage = 0.7\r\n",
        "testPercentage = 0.3"
      ],
      "outputs": [],
      "metadata": {
        "id": "yf032lccf7-d"
      }
    },
    {
      "cell_type": "code",
      "execution_count": 24,
      "source": [
        "# folders = [\"COVID DATASET 1\",\"COVID DATASET 2\"]#, \"COVID DATASET 3\"]\r\n",
        "# csvLists = [glob.glob(f\"{dataFolderPath}/{folder}/*.csv\") for folder in folders]\r\n",
        "csvLists = [glob.glob(f\"data/*.csv\")]"
      ],
      "outputs": [],
      "metadata": {
        "id": "yHYxJDtAXK2E"
      }
    },
    {
      "cell_type": "code",
      "execution_count": 25,
      "source": [
        "print(csvLists)"
      ],
      "outputs": [
        {
          "output_type": "stream",
          "name": "stdout",
          "text": [
            "[['data\\\\covid_data_1.csv', 'data\\\\covid_data_10.csv', 'data\\\\covid_data_100.csv', 'data\\\\covid_data_101.csv', 'data\\\\covid_data_102.csv', 'data\\\\covid_data_103.csv', 'data\\\\covid_data_104.csv', 'data\\\\covid_data_105.csv', 'data\\\\covid_data_106.csv', 'data\\\\covid_data_107.csv', 'data\\\\covid_data_108.csv', 'data\\\\covid_data_109.csv', 'data\\\\covid_data_11.csv', 'data\\\\covid_data_110.csv', 'data\\\\covid_data_111.csv', 'data\\\\covid_data_112.csv', 'data\\\\covid_data_113.csv', 'data\\\\covid_data_114.csv', 'data\\\\covid_data_115.csv', 'data\\\\covid_data_116.csv', 'data\\\\covid_data_117.csv', 'data\\\\covid_data_118.csv', 'data\\\\covid_data_119.csv', 'data\\\\covid_data_12.csv', 'data\\\\covid_data_120.csv', 'data\\\\covid_data_121.csv', 'data\\\\covid_data_122.csv', 'data\\\\covid_data_123.csv', 'data\\\\covid_data_124.csv', 'data\\\\covid_data_125.csv', 'data\\\\covid_data_126.csv', 'data\\\\covid_data_127.csv', 'data\\\\covid_data_128.csv', 'data\\\\covid_data_129.csv', 'data\\\\covid_data_13.csv', 'data\\\\covid_data_130.csv', 'data\\\\covid_data_131.csv', 'data\\\\covid_data_132.csv', 'data\\\\covid_data_133.csv', 'data\\\\covid_data_134.csv', 'data\\\\covid_data_135.csv', 'data\\\\covid_data_136.csv', 'data\\\\covid_data_137.csv', 'data\\\\covid_data_138.csv', 'data\\\\covid_data_139.csv', 'data\\\\covid_data_14.csv', 'data\\\\covid_data_140.csv', 'data\\\\covid_data_141.csv', 'data\\\\covid_data_142.csv', 'data\\\\covid_data_143.csv', 'data\\\\covid_data_144.csv', 'data\\\\covid_data_145.csv', 'data\\\\covid_data_146.csv', 'data\\\\covid_data_147.csv', 'data\\\\covid_data_148.csv', 'data\\\\covid_data_149.csv', 'data\\\\covid_data_15.csv', 'data\\\\covid_data_150.csv', 'data\\\\covid_data_151.csv', 'data\\\\covid_data_152.csv', 'data\\\\covid_data_153.csv', 'data\\\\covid_data_154.csv', 'data\\\\covid_data_155.csv', 'data\\\\covid_data_156.csv', 'data\\\\covid_data_157.csv', 'data\\\\covid_data_158.csv', 'data\\\\covid_data_159.csv', 'data\\\\covid_data_16.csv', 'data\\\\covid_data_160.csv', 'data\\\\covid_data_161.csv', 'data\\\\covid_data_162.csv', 'data\\\\covid_data_163.csv', 'data\\\\covid_data_164.csv', 'data\\\\covid_data_165.csv', 'data\\\\covid_data_166.csv', 'data\\\\covid_data_167.csv', 'data\\\\covid_data_168.csv', 'data\\\\covid_data_169.csv', 'data\\\\covid_data_17.csv', 'data\\\\covid_data_170.csv', 'data\\\\covid_data_171.csv', 'data\\\\covid_data_172.csv', 'data\\\\covid_data_173.csv', 'data\\\\covid_data_174.csv', 'data\\\\covid_data_175.csv', 'data\\\\covid_data_176.csv', 'data\\\\covid_data_177.csv', 'data\\\\covid_data_178.csv', 'data\\\\covid_data_179.csv', 'data\\\\covid_data_18.csv', 'data\\\\covid_data_180.csv', 'data\\\\covid_data_181.csv', 'data\\\\covid_data_182.csv', 'data\\\\covid_data_183.csv', 'data\\\\covid_data_184.csv', 'data\\\\covid_data_185.csv', 'data\\\\covid_data_186.csv', 'data\\\\covid_data_187.csv', 'data\\\\covid_data_188.csv', 'data\\\\covid_data_189.csv', 'data\\\\covid_data_19.csv', 'data\\\\covid_data_190.csv', 'data\\\\covid_data_191.csv', 'data\\\\covid_data_192.csv', 'data\\\\covid_data_193.csv', 'data\\\\covid_data_194.csv', 'data\\\\covid_data_195.csv', 'data\\\\covid_data_196.csv', 'data\\\\covid_data_197.csv', 'data\\\\covid_data_198.csv', 'data\\\\covid_data_199.csv', 'data\\\\covid_data_2.csv', 'data\\\\covid_data_20.csv', 'data\\\\covid_data_200.csv', 'data\\\\covid_data_201.csv', 'data\\\\covid_data_202.csv', 'data\\\\covid_data_203.csv', 'data\\\\covid_data_204.csv', 'data\\\\covid_data_205.csv', 'data\\\\covid_data_206.csv', 'data\\\\covid_data_207.csv', 'data\\\\covid_data_208.csv', 'data\\\\covid_data_209.csv', 'data\\\\covid_data_21.csv', 'data\\\\covid_data_210.csv', 'data\\\\covid_data_211.csv', 'data\\\\covid_data_212.csv', 'data\\\\covid_data_213.csv', 'data\\\\covid_data_214.csv', 'data\\\\covid_data_215.csv', 'data\\\\covid_data_216.csv', 'data\\\\covid_data_217.csv', 'data\\\\covid_data_218.csv', 'data\\\\covid_data_219.csv', 'data\\\\covid_data_22.csv', 'data\\\\covid_data_220.csv', 'data\\\\covid_data_221.csv', 'data\\\\covid_data_222.csv', 'data\\\\covid_data_223.csv', 'data\\\\covid_data_224.csv', 'data\\\\covid_data_225.csv', 'data\\\\covid_data_226.csv', 'data\\\\covid_data_227.csv', 'data\\\\covid_data_228.csv', 'data\\\\covid_data_229.csv', 'data\\\\covid_data_23.csv', 'data\\\\covid_data_230.csv', 'data\\\\covid_data_231.csv', 'data\\\\covid_data_232.csv', 'data\\\\covid_data_233.csv', 'data\\\\covid_data_234.csv', 'data\\\\covid_data_235.csv', 'data\\\\covid_data_236.csv', 'data\\\\covid_data_237.csv', 'data\\\\covid_data_238.csv', 'data\\\\covid_data_239.csv', 'data\\\\covid_data_24.csv', 'data\\\\covid_data_240.csv', 'data\\\\covid_data_241.csv', 'data\\\\covid_data_242.csv', 'data\\\\covid_data_243.csv', 'data\\\\covid_data_244.csv', 'data\\\\covid_data_245.csv', 'data\\\\covid_data_246.csv', 'data\\\\covid_data_247.csv', 'data\\\\covid_data_248.csv', 'data\\\\covid_data_249.csv', 'data\\\\covid_data_25.csv', 'data\\\\covid_data_250.csv', 'data\\\\covid_data_251.csv', 'data\\\\covid_data_252.csv', 'data\\\\covid_data_253.csv', 'data\\\\covid_data_254.csv', 'data\\\\covid_data_255.csv', 'data\\\\covid_data_256.csv', 'data\\\\covid_data_257.csv', 'data\\\\covid_data_258.csv', 'data\\\\covid_data_259.csv', 'data\\\\covid_data_26.csv', 'data\\\\covid_data_260.csv', 'data\\\\covid_data_261.csv', 'data\\\\covid_data_262.csv', 'data\\\\covid_data_263.csv', 'data\\\\covid_data_264.csv', 'data\\\\covid_data_265.csv', 'data\\\\covid_data_266.csv', 'data\\\\covid_data_267.csv', 'data\\\\covid_data_268.csv', 'data\\\\covid_data_269.csv', 'data\\\\covid_data_27.csv', 'data\\\\covid_data_270.csv', 'data\\\\covid_data_271.csv', 'data\\\\covid_data_272.csv', 'data\\\\covid_data_273.csv', 'data\\\\covid_data_274.csv', 'data\\\\covid_data_275.csv', 'data\\\\covid_data_276.csv', 'data\\\\covid_data_277.csv', 'data\\\\covid_data_278.csv', 'data\\\\covid_data_279.csv', 'data\\\\covid_data_28.csv', 'data\\\\covid_data_280.csv', 'data\\\\covid_data_281.csv', 'data\\\\covid_data_282.csv', 'data\\\\covid_data_283.csv', 'data\\\\covid_data_284.csv', 'data\\\\covid_data_285.csv', 'data\\\\covid_data_286.csv', 'data\\\\covid_data_287.csv', 'data\\\\covid_data_288.csv', 'data\\\\covid_data_289.csv', 'data\\\\covid_data_29.csv', 'data\\\\covid_data_290.csv', 'data\\\\covid_data_291.csv', 'data\\\\covid_data_292.csv', 'data\\\\covid_data_293.csv', 'data\\\\covid_data_294.csv', 'data\\\\covid_data_295.csv', 'data\\\\covid_data_296.csv', 'data\\\\covid_data_297.csv', 'data\\\\covid_data_298.csv', 'data\\\\covid_data_299.csv', 'data\\\\covid_data_3.csv', 'data\\\\covid_data_30.csv', 'data\\\\covid_data_300.csv', 'data\\\\covid_data_301.csv', 'data\\\\covid_data_302.csv', 'data\\\\covid_data_303.csv', 'data\\\\covid_data_304.csv', 'data\\\\covid_data_305.csv', 'data\\\\covid_data_306.csv', 'data\\\\covid_data_307.csv', 'data\\\\covid_data_308.csv', 'data\\\\covid_data_309.csv', 'data\\\\covid_data_31.csv', 'data\\\\covid_data_310.csv', 'data\\\\covid_data_311.csv', 'data\\\\covid_data_312.csv', 'data\\\\covid_data_313.csv', 'data\\\\covid_data_314.csv', 'data\\\\covid_data_315.csv', 'data\\\\covid_data_316.csv', 'data\\\\covid_data_317.csv', 'data\\\\covid_data_318.csv', 'data\\\\covid_data_319.csv', 'data\\\\covid_data_32.csv', 'data\\\\covid_data_320.csv', 'data\\\\covid_data_321.csv', 'data\\\\covid_data_322.csv', 'data\\\\covid_data_323.csv', 'data\\\\covid_data_324.csv', 'data\\\\covid_data_325.csv', 'data\\\\covid_data_326.csv', 'data\\\\covid_data_327.csv', 'data\\\\covid_data_328.csv', 'data\\\\covid_data_329.csv', 'data\\\\covid_data_33.csv', 'data\\\\covid_data_330.csv', 'data\\\\covid_data_331.csv', 'data\\\\covid_data_332.csv', 'data\\\\covid_data_333.csv', 'data\\\\covid_data_334.csv', 'data\\\\covid_data_335.csv', 'data\\\\covid_data_336.csv', 'data\\\\covid_data_337.csv', 'data\\\\covid_data_338.csv', 'data\\\\covid_data_339.csv', 'data\\\\covid_data_34.csv', 'data\\\\covid_data_340.csv', 'data\\\\covid_data_341.csv', 'data\\\\covid_data_342.csv', 'data\\\\covid_data_343.csv', 'data\\\\covid_data_344.csv', 'data\\\\covid_data_345.csv', 'data\\\\covid_data_346.csv', 'data\\\\covid_data_347.csv', 'data\\\\covid_data_348.csv', 'data\\\\covid_data_349.csv', 'data\\\\covid_data_35.csv', 'data\\\\covid_data_350.csv', 'data\\\\covid_data_351.csv', 'data\\\\covid_data_352.csv', 'data\\\\covid_data_353.csv', 'data\\\\covid_data_354.csv', 'data\\\\covid_data_355.csv', 'data\\\\covid_data_356.csv', 'data\\\\covid_data_357.csv', 'data\\\\covid_data_358.csv', 'data\\\\covid_data_359.csv', 'data\\\\covid_data_36.csv', 'data\\\\covid_data_360.csv', 'data\\\\covid_data_361.csv', 'data\\\\covid_data_362.csv', 'data\\\\covid_data_363.csv', 'data\\\\covid_data_364.csv', 'data\\\\covid_data_365.csv', 'data\\\\covid_data_366.csv', 'data\\\\covid_data_367.csv', 'data\\\\covid_data_368.csv', 'data\\\\covid_data_369.csv', 'data\\\\covid_data_37.csv', 'data\\\\covid_data_370.csv', 'data\\\\covid_data_371.csv', 'data\\\\covid_data_372.csv', 'data\\\\covid_data_373.csv', 'data\\\\covid_data_374.csv', 'data\\\\covid_data_375.csv', 'data\\\\covid_data_376.csv', 'data\\\\covid_data_377.csv', 'data\\\\covid_data_378.csv', 'data\\\\covid_data_379.csv', 'data\\\\covid_data_38.csv', 'data\\\\covid_data_380.csv', 'data\\\\covid_data_381.csv', 'data\\\\covid_data_382.csv', 'data\\\\covid_data_383.csv', 'data\\\\covid_data_384.csv', 'data\\\\covid_data_385.csv', 'data\\\\covid_data_386.csv', 'data\\\\covid_data_387.csv', 'data\\\\covid_data_388.csv', 'data\\\\covid_data_389.csv', 'data\\\\covid_data_39.csv', 'data\\\\covid_data_390.csv', 'data\\\\covid_data_391.csv', 'data\\\\covid_data_392.csv', 'data\\\\covid_data_393.csv', 'data\\\\covid_data_394.csv', 'data\\\\covid_data_395.csv', 'data\\\\covid_data_396.csv', 'data\\\\covid_data_397.csv', 'data\\\\covid_data_398.csv', 'data\\\\covid_data_399.csv', 'data\\\\covid_data_4.csv', 'data\\\\covid_data_40.csv', 'data\\\\covid_data_400.csv', 'data\\\\covid_data_401.csv', 'data\\\\covid_data_402.csv', 'data\\\\covid_data_403.csv', 'data\\\\covid_data_404.csv', 'data\\\\covid_data_405.csv', 'data\\\\covid_data_406.csv', 'data\\\\covid_data_407.csv', 'data\\\\covid_data_408.csv', 'data\\\\covid_data_409.csv', 'data\\\\covid_data_41.csv', 'data\\\\covid_data_410.csv', 'data\\\\covid_data_411.csv', 'data\\\\covid_data_412.csv', 'data\\\\covid_data_413.csv', 'data\\\\covid_data_414.csv', 'data\\\\covid_data_415.csv', 'data\\\\covid_data_416.csv', 'data\\\\covid_data_417.csv', 'data\\\\covid_data_418.csv', 'data\\\\covid_data_419.csv', 'data\\\\covid_data_42.csv', 'data\\\\covid_data_420.csv', 'data\\\\covid_data_421.csv', 'data\\\\covid_data_422.csv', 'data\\\\covid_data_423.csv', 'data\\\\covid_data_424.csv', 'data\\\\covid_data_425.csv', 'data\\\\covid_data_426.csv', 'data\\\\covid_data_427.csv', 'data\\\\covid_data_428.csv', 'data\\\\covid_data_429.csv', 'data\\\\covid_data_43.csv', 'data\\\\covid_data_430.csv', 'data\\\\covid_data_431.csv', 'data\\\\covid_data_432.csv', 'data\\\\covid_data_433.csv', 'data\\\\covid_data_434.csv', 'data\\\\covid_data_435.csv', 'data\\\\covid_data_436.csv', 'data\\\\covid_data_437.csv', 'data\\\\covid_data_438.csv', 'data\\\\covid_data_439.csv', 'data\\\\covid_data_44.csv', 'data\\\\covid_data_440.csv', 'data\\\\covid_data_441.csv', 'data\\\\covid_data_442.csv', 'data\\\\covid_data_443.csv', 'data\\\\covid_data_444.csv', 'data\\\\covid_data_445.csv', 'data\\\\covid_data_446.csv', 'data\\\\covid_data_447.csv', 'data\\\\covid_data_448.csv', 'data\\\\covid_data_449.csv', 'data\\\\covid_data_45.csv', 'data\\\\covid_data_450.csv', 'data\\\\covid_data_451.csv', 'data\\\\covid_data_452.csv', 'data\\\\covid_data_453.csv', 'data\\\\covid_data_454.csv', 'data\\\\covid_data_455.csv', 'data\\\\covid_data_456.csv', 'data\\\\covid_data_457.csv', 'data\\\\covid_data_458.csv', 'data\\\\covid_data_459.csv', 'data\\\\covid_data_46.csv', 'data\\\\covid_data_460.csv', 'data\\\\covid_data_461.csv', 'data\\\\covid_data_462.csv', 'data\\\\covid_data_463.csv', 'data\\\\covid_data_464.csv', 'data\\\\covid_data_465.csv', 'data\\\\covid_data_466.csv', 'data\\\\covid_data_467.csv', 'data\\\\covid_data_468.csv', 'data\\\\covid_data_469.csv', 'data\\\\covid_data_47.csv', 'data\\\\covid_data_470.csv', 'data\\\\covid_data_471.csv', 'data\\\\covid_data_472.csv', 'data\\\\covid_data_473.csv', 'data\\\\covid_data_474.csv', 'data\\\\covid_data_475.csv', 'data\\\\covid_data_476.csv', 'data\\\\covid_data_477.csv', 'data\\\\covid_data_478.csv', 'data\\\\covid_data_479.csv', 'data\\\\covid_data_48.csv', 'data\\\\covid_data_480.csv', 'data\\\\covid_data_481.csv', 'data\\\\covid_data_482.csv', 'data\\\\covid_data_483.csv', 'data\\\\covid_data_484.csv', 'data\\\\covid_data_485.csv', 'data\\\\covid_data_486.csv', 'data\\\\covid_data_487.csv', 'data\\\\covid_data_488.csv', 'data\\\\covid_data_489.csv', 'data\\\\covid_data_49.csv', 'data\\\\covid_data_490.csv', 'data\\\\covid_data_491.csv', 'data\\\\covid_data_492.csv', 'data\\\\covid_data_493.csv', 'data\\\\covid_data_494.csv', 'data\\\\covid_data_495.csv', 'data\\\\covid_data_496.csv', 'data\\\\covid_data_497.csv', 'data\\\\covid_data_498.csv', 'data\\\\covid_data_499.csv', 'data\\\\covid_data_5.csv', 'data\\\\covid_data_50.csv', 'data\\\\covid_data_500.csv', 'data\\\\covid_data_501.csv', 'data\\\\covid_data_502.csv', 'data\\\\covid_data_503.csv', 'data\\\\covid_data_504.csv', 'data\\\\covid_data_505.csv', 'data\\\\covid_data_506.csv', 'data\\\\covid_data_507.csv', 'data\\\\covid_data_508.csv', 'data\\\\covid_data_509.csv', 'data\\\\covid_data_51.csv', 'data\\\\covid_data_510.csv', 'data\\\\covid_data_511.csv', 'data\\\\covid_data_512.csv', 'data\\\\covid_data_513.csv', 'data\\\\covid_data_514.csv', 'data\\\\covid_data_515.csv', 'data\\\\covid_data_516.csv', 'data\\\\covid_data_517.csv', 'data\\\\covid_data_518.csv', 'data\\\\covid_data_519.csv', 'data\\\\covid_data_52.csv', 'data\\\\covid_data_520.csv', 'data\\\\covid_data_521.csv', 'data\\\\covid_data_522.csv', 'data\\\\covid_data_523.csv', 'data\\\\covid_data_524.csv', 'data\\\\covid_data_525.csv', 'data\\\\covid_data_526.csv', 'data\\\\covid_data_527.csv', 'data\\\\covid_data_528.csv', 'data\\\\covid_data_529.csv', 'data\\\\covid_data_53.csv', 'data\\\\covid_data_530.csv', 'data\\\\covid_data_531.csv', 'data\\\\covid_data_532.csv', 'data\\\\covid_data_533.csv', 'data\\\\covid_data_534.csv', 'data\\\\covid_data_535.csv', 'data\\\\covid_data_536.csv', 'data\\\\covid_data_537.csv', 'data\\\\covid_data_538.csv', 'data\\\\covid_data_539.csv', 'data\\\\covid_data_54.csv', 'data\\\\covid_data_540.csv', 'data\\\\covid_data_541.csv', 'data\\\\covid_data_542.csv', 'data\\\\covid_data_543.csv', 'data\\\\covid_data_544.csv', 'data\\\\covid_data_545.csv', 'data\\\\covid_data_546.csv', 'data\\\\covid_data_547.csv', 'data\\\\covid_data_548.csv', 'data\\\\covid_data_549.csv', 'data\\\\covid_data_55.csv', 'data\\\\covid_data_550.csv', 'data\\\\covid_data_551.csv', 'data\\\\covid_data_552.csv', 'data\\\\covid_data_553.csv', 'data\\\\covid_data_554.csv', 'data\\\\covid_data_555.csv', 'data\\\\covid_data_556.csv', 'data\\\\covid_data_557.csv', 'data\\\\covid_data_558.csv', 'data\\\\covid_data_559.csv', 'data\\\\covid_data_56.csv', 'data\\\\covid_data_560.csv', 'data\\\\covid_data_561.csv', 'data\\\\covid_data_562.csv', 'data\\\\covid_data_563.csv', 'data\\\\covid_data_564.csv', 'data\\\\covid_data_565.csv', 'data\\\\covid_data_566.csv', 'data\\\\covid_data_567.csv', 'data\\\\covid_data_568.csv', 'data\\\\covid_data_569.csv', 'data\\\\covid_data_57.csv', 'data\\\\covid_data_570.csv', 'data\\\\covid_data_571.csv', 'data\\\\covid_data_572.csv', 'data\\\\covid_data_573.csv', 'data\\\\covid_data_574.csv', 'data\\\\covid_data_575.csv', 'data\\\\covid_data_576.csv', 'data\\\\covid_data_577.csv', 'data\\\\covid_data_578.csv', 'data\\\\covid_data_579.csv', 'data\\\\covid_data_58.csv', 'data\\\\covid_data_580.csv', 'data\\\\covid_data_581.csv', 'data\\\\covid_data_582.csv', 'data\\\\covid_data_583.csv', 'data\\\\covid_data_584.csv', 'data\\\\covid_data_585.csv', 'data\\\\covid_data_586.csv', 'data\\\\covid_data_587.csv', 'data\\\\covid_data_588.csv', 'data\\\\covid_data_589.csv', 'data\\\\covid_data_59.csv', 'data\\\\covid_data_590.csv', 'data\\\\covid_data_591.csv', 'data\\\\covid_data_592.csv', 'data\\\\covid_data_593.csv', 'data\\\\covid_data_594.csv', 'data\\\\covid_data_595.csv', 'data\\\\covid_data_596.csv', 'data\\\\covid_data_597.csv', 'data\\\\covid_data_598.csv', 'data\\\\covid_data_599.csv', 'data\\\\covid_data_6.csv', 'data\\\\covid_data_60.csv', 'data\\\\covid_data_600.csv', 'data\\\\covid_data_601.csv', 'data\\\\covid_data_602.csv', 'data\\\\covid_data_603.csv', 'data\\\\covid_data_604.csv', 'data\\\\covid_data_605.csv', 'data\\\\covid_data_606.csv', 'data\\\\covid_data_607.csv', 'data\\\\covid_data_608.csv', 'data\\\\covid_data_609.csv', 'data\\\\covid_data_61.csv', 'data\\\\covid_data_610.csv', 'data\\\\covid_data_611.csv', 'data\\\\covid_data_612.csv', 'data\\\\covid_data_613.csv', 'data\\\\covid_data_614.csv', 'data\\\\covid_data_615.csv', 'data\\\\covid_data_616.csv', 'data\\\\covid_data_617.csv', 'data\\\\covid_data_618.csv', 'data\\\\covid_data_619.csv', 'data\\\\covid_data_62.csv', 'data\\\\covid_data_620.csv', 'data\\\\covid_data_621.csv', 'data\\\\covid_data_622.csv', 'data\\\\covid_data_623.csv', 'data\\\\covid_data_624.csv', 'data\\\\covid_data_625.csv', 'data\\\\covid_data_626.csv', 'data\\\\covid_data_627.csv', 'data\\\\covid_data_628.csv', 'data\\\\covid_data_629.csv', 'data\\\\covid_data_63.csv', 'data\\\\covid_data_630.csv', 'data\\\\covid_data_631.csv', 'data\\\\covid_data_632.csv', 'data\\\\covid_data_633.csv', 'data\\\\covid_data_634.csv', 'data\\\\covid_data_635.csv', 'data\\\\covid_data_636.csv', 'data\\\\covid_data_637.csv', 'data\\\\covid_data_638.csv', 'data\\\\covid_data_639.csv', 'data\\\\covid_data_64.csv', 'data\\\\covid_data_640.csv', 'data\\\\covid_data_641.csv', 'data\\\\covid_data_642.csv', 'data\\\\covid_data_643.csv', 'data\\\\covid_data_644.csv', 'data\\\\covid_data_645.csv', 'data\\\\covid_data_646.csv', 'data\\\\covid_data_647.csv', 'data\\\\covid_data_648.csv', 'data\\\\covid_data_649.csv', 'data\\\\covid_data_65.csv', 'data\\\\covid_data_650.csv', 'data\\\\covid_data_651.csv', 'data\\\\covid_data_652.csv', 'data\\\\covid_data_653.csv', 'data\\\\covid_data_654.csv', 'data\\\\covid_data_655.csv', 'data\\\\covid_data_656.csv', 'data\\\\covid_data_657.csv', 'data\\\\covid_data_658.csv', 'data\\\\covid_data_659.csv', 'data\\\\covid_data_66.csv', 'data\\\\covid_data_660.csv', 'data\\\\covid_data_661.csv', 'data\\\\covid_data_662.csv', 'data\\\\covid_data_663.csv', 'data\\\\covid_data_664.csv', 'data\\\\covid_data_665.csv', 'data\\\\covid_data_666.csv', 'data\\\\covid_data_667.csv', 'data\\\\covid_data_668.csv', 'data\\\\covid_data_669.csv', 'data\\\\covid_data_67.csv', 'data\\\\covid_data_670.csv', 'data\\\\covid_data_671.csv', 'data\\\\covid_data_672.csv', 'data\\\\covid_data_673.csv', 'data\\\\covid_data_674.csv', 'data\\\\covid_data_675.csv', 'data\\\\covid_data_676.csv', 'data\\\\covid_data_677.csv', 'data\\\\covid_data_678.csv', 'data\\\\covid_data_679.csv', 'data\\\\covid_data_68.csv', 'data\\\\covid_data_680.csv', 'data\\\\covid_data_681.csv', 'data\\\\covid_data_682.csv', 'data\\\\covid_data_683.csv', 'data\\\\covid_data_684.csv', 'data\\\\covid_data_685.csv', 'data\\\\covid_data_686.csv', 'data\\\\covid_data_687.csv', 'data\\\\covid_data_688.csv', 'data\\\\covid_data_689.csv', 'data\\\\covid_data_69.csv', 'data\\\\covid_data_690.csv', 'data\\\\covid_data_691.csv', 'data\\\\covid_data_692.csv', 'data\\\\covid_data_693.csv', 'data\\\\covid_data_694.csv', 'data\\\\covid_data_695.csv', 'data\\\\covid_data_696.csv', 'data\\\\covid_data_697.csv', 'data\\\\covid_data_698.csv', 'data\\\\covid_data_699.csv', 'data\\\\covid_data_7.csv', 'data\\\\covid_data_70.csv', 'data\\\\covid_data_700.csv', 'data\\\\covid_data_701.csv', 'data\\\\covid_data_702.csv', 'data\\\\covid_data_703.csv', 'data\\\\covid_data_704.csv', 'data\\\\covid_data_705.csv', 'data\\\\covid_data_706.csv', 'data\\\\covid_data_707.csv', 'data\\\\covid_data_708.csv', 'data\\\\covid_data_709.csv', 'data\\\\covid_data_71.csv', 'data\\\\covid_data_710.csv', 'data\\\\covid_data_711.csv', 'data\\\\covid_data_712.csv', 'data\\\\covid_data_713.csv', 'data\\\\covid_data_714.csv', 'data\\\\covid_data_715.csv', 'data\\\\covid_data_716.csv', 'data\\\\covid_data_717.csv', 'data\\\\covid_data_718.csv', 'data\\\\covid_data_719.csv', 'data\\\\covid_data_72.csv', 'data\\\\covid_data_720.csv', 'data\\\\covid_data_721.csv', 'data\\\\covid_data_722.csv', 'data\\\\covid_data_723.csv', 'data\\\\covid_data_724.csv', 'data\\\\covid_data_725.csv', 'data\\\\covid_data_726.csv', 'data\\\\covid_data_727.csv', 'data\\\\covid_data_728.csv', 'data\\\\covid_data_729.csv', 'data\\\\covid_data_73.csv', 'data\\\\covid_data_730.csv', 'data\\\\covid_data_731.csv', 'data\\\\covid_data_732.csv', 'data\\\\covid_data_733.csv', 'data\\\\covid_data_734.csv', 'data\\\\covid_data_735.csv', 'data\\\\covid_data_736.csv', 'data\\\\covid_data_737.csv', 'data\\\\covid_data_738.csv', 'data\\\\covid_data_739.csv', 'data\\\\covid_data_74.csv', 'data\\\\covid_data_740.csv', 'data\\\\covid_data_741.csv', 'data\\\\covid_data_742.csv', 'data\\\\covid_data_743.csv', 'data\\\\covid_data_744.csv', 'data\\\\covid_data_745.csv', 'data\\\\covid_data_746.csv', 'data\\\\covid_data_747.csv', 'data\\\\covid_data_748.csv', 'data\\\\covid_data_749.csv', 'data\\\\covid_data_75.csv', 'data\\\\covid_data_750.csv', 'data\\\\covid_data_751.csv', 'data\\\\covid_data_752.csv', 'data\\\\covid_data_753.csv', 'data\\\\covid_data_754.csv', 'data\\\\covid_data_755.csv', 'data\\\\covid_data_756.csv', 'data\\\\covid_data_757.csv', 'data\\\\covid_data_758.csv', 'data\\\\covid_data_759.csv', 'data\\\\covid_data_76.csv', 'data\\\\covid_data_760.csv', 'data\\\\covid_data_761.csv', 'data\\\\covid_data_762.csv', 'data\\\\covid_data_763.csv', 'data\\\\covid_data_764.csv', 'data\\\\covid_data_765.csv', 'data\\\\covid_data_766.csv', 'data\\\\covid_data_767.csv', 'data\\\\covid_data_768.csv', 'data\\\\covid_data_769.csv', 'data\\\\covid_data_77.csv', 'data\\\\covid_data_770.csv', 'data\\\\covid_data_771.csv', 'data\\\\covid_data_772.csv', 'data\\\\covid_data_773.csv', 'data\\\\covid_data_774.csv', 'data\\\\covid_data_775.csv', 'data\\\\covid_data_776.csv', 'data\\\\covid_data_777.csv', 'data\\\\covid_data_778.csv', 'data\\\\covid_data_779.csv', 'data\\\\covid_data_78.csv', 'data\\\\covid_data_780.csv', 'data\\\\covid_data_781.csv', 'data\\\\covid_data_782.csv', 'data\\\\covid_data_783.csv', 'data\\\\covid_data_784.csv', 'data\\\\covid_data_785.csv', 'data\\\\covid_data_786.csv', 'data\\\\covid_data_787.csv', 'data\\\\covid_data_788.csv', 'data\\\\covid_data_789.csv', 'data\\\\covid_data_79.csv', 'data\\\\covid_data_790.csv', 'data\\\\covid_data_791.csv', 'data\\\\covid_data_792.csv', 'data\\\\covid_data_793.csv', 'data\\\\covid_data_794.csv', 'data\\\\covid_data_795.csv', 'data\\\\covid_data_796.csv', 'data\\\\covid_data_797.csv', 'data\\\\covid_data_798.csv', 'data\\\\covid_data_799.csv', 'data\\\\covid_data_8.csv', 'data\\\\covid_data_80.csv', 'data\\\\covid_data_800.csv', 'data\\\\covid_data_801.csv', 'data\\\\covid_data_802.csv', 'data\\\\covid_data_803.csv', 'data\\\\covid_data_804.csv', 'data\\\\covid_data_805.csv', 'data\\\\covid_data_806.csv', 'data\\\\covid_data_807.csv', 'data\\\\covid_data_808.csv', 'data\\\\covid_data_809.csv', 'data\\\\covid_data_81.csv', 'data\\\\covid_data_810.csv', 'data\\\\covid_data_811.csv', 'data\\\\covid_data_812.csv', 'data\\\\covid_data_813.csv', 'data\\\\covid_data_814.csv', 'data\\\\covid_data_815.csv', 'data\\\\covid_data_816.csv', 'data\\\\covid_data_82.csv', 'data\\\\covid_data_83.csv', 'data\\\\covid_data_84.csv', 'data\\\\covid_data_85.csv', 'data\\\\covid_data_86.csv', 'data\\\\covid_data_87.csv', 'data\\\\covid_data_88.csv', 'data\\\\covid_data_89.csv', 'data\\\\covid_data_9.csv', 'data\\\\covid_data_90.csv', 'data\\\\covid_data_91.csv', 'data\\\\covid_data_92.csv', 'data\\\\covid_data_93.csv', 'data\\\\covid_data_94.csv', 'data\\\\covid_data_95.csv', 'data\\\\covid_data_96.csv', 'data\\\\covid_data_97.csv', 'data\\\\covid_data_98.csv', 'data\\\\covid_data_99.csv']]\n"
          ]
        }
      ],
      "metadata": {}
    },
    {
      "cell_type": "code",
      "execution_count": 26,
      "source": [
        "overallTrain = []\r\n",
        "overallTest = []\r\n",
        "for csvList in csvLists:  \r\n",
        "  train, test = train_test_split(csvList,\r\n",
        "                                test_size=testPercentage,\r\n",
        "                                train_size=trainingPercentage)\r\n",
        "  overallTrain.extend(train)\r\n",
        "  overallTest.extend(test)"
      ],
      "outputs": [],
      "metadata": {
        "id": "ahCtqgkDWUGX"
      }
    },
    {
      "cell_type": "markdown",
      "source": [
        "## Define and fine tune the pre-process function\n",
        "Our dataset contains many columns we don't need"
      ],
      "metadata": {
        "id": "I_UloE4oDfhO"
      }
    },
    {
      "cell_type": "code",
      "execution_count": 27,
      "source": [
        "def preProcessDataFrame(df: pd.DataFrame) -> pd.DataFrame:\r\n",
        "  \"\"\"\r\n",
        "  Takes in a dataframe and returns another dataframe that contains only the data we want.\r\n",
        "  Might wanna normalise the data as well\r\n",
        "  Maybe fill the nulls with zeros or other appropriate values.\r\n",
        "  \"\"\"\r\n",
        "  df_cp = df.copy()\r\n",
        "  \r\n",
        "#   df_cp.dropna(axis=0,\r\n",
        "#                how='any', \r\n",
        "#                subset=[\"username\", \"tweet id\"], \r\n",
        "#                inplace=True)\r\n",
        "  \r\n",
        "  df_cp = df_cp[[\"#followers\",\r\n",
        "                \"#friends\",\r\n",
        "                \"#retweets\",\r\n",
        "                \"#favorites\",\r\n",
        "                \"timeseg\",\r\n",
        "                \"weekend\",\r\n",
        "                \"entity_count\",\r\n",
        "                \"hashtag_count\",\r\n",
        "                \"mention_count\",\r\n",
        "                \"url_count\",\r\n",
        "                \"ratio_fav_#followers\",\r\n",
        "                \"day_of_week\",\r\n",
        "                \"sentiment_p\",\r\n",
        "                \"sentiment_n\",\r\n",
        "                \"sentiment_ppn\"]]\r\n",
        "  return df_cp\r\n",
        "\r\n",
        "\r\n",
        "# sampleDf = pd.read_csv(overallTrain[0])\r\n",
        "sampleDf = pd.read_csv(f\"{dataFolderPath}/covid_data_1.csv\")\r\n",
        "# print(sampleDf.head())\r\n",
        "print(sampleDf.info())\r\n",
        "# [print(x) for x in sampleDf.columns] # show list of columns in sampleDf\r\n",
        "print(\"\\n====[AFTER PRE-PROCESSING]====\\n\")\r\n",
        "# print(preProcessDataFrame(sampleDf.head()))\r\n",
        "pp = preProcessDataFrame(sampleDf)\r\n",
        "print(pp.info())"
      ],
      "outputs": [
        {
          "output_type": "stream",
          "name": "stdout",
          "text": [
            "<class 'pandas.core.frame.DataFrame'>\n",
            "RangeIndex: 10000 entries, 0 to 9999\n",
            "Data columns (total 31 columns):\n",
            " #   Column                Non-Null Count  Dtype  \n",
            "---  ------                --------------  -----  \n",
            " 0   Unnamed: 0            10000 non-null  int64  \n",
            " 1   tweet_id              10000 non-null  int64  \n",
            " 2   username              10000 non-null  object \n",
            " 3   timestamp             10000 non-null  object \n",
            " 4   #followers            10000 non-null  float64\n",
            " 5   #friends              10000 non-null  int64  \n",
            " 6   #retweets             10000 non-null  int64  \n",
            " 7   #favorites            10000 non-null  int64  \n",
            " 8   entities              10000 non-null  object \n",
            " 9   sentiment             10000 non-null  object \n",
            " 10  mentions              9984 non-null   object \n",
            " 11  hashtags              9998 non-null   object \n",
            " 12  urls                  10000 non-null  object \n",
            " 13  timeseg               10000 non-null  int64  \n",
            " 14  date                  10000 non-null  object \n",
            " 15  weekend               10000 non-null  int64  \n",
            " 16  entity_exist          10000 non-null  int64  \n",
            " 17  hashtag_exist         10000 non-null  int64  \n",
            " 18  mention_exist         10000 non-null  int64  \n",
            " 19  url_exist             10000 non-null  int64  \n",
            " 20  entity_count          10000 non-null  int64  \n",
            " 21  hashtag_count         10000 non-null  int64  \n",
            " 22  mention_count         10000 non-null  int64  \n",
            " 23  url_count             10000 non-null  int64  \n",
            " 24  tlen                  10000 non-null  int64  \n",
            " 25  ratio_fav_#followers  10000 non-null  float64\n",
            " 26  ratio_fri_#followers  10000 non-null  float64\n",
            " 27  day_of_week           10000 non-null  int64  \n",
            " 28  sentiment_p           10000 non-null  float64\n",
            " 29  sentiment_n           10000 non-null  float64\n",
            " 30  sentiment_ppn         10000 non-null  float64\n",
            "dtypes: float64(6), int64(17), object(8)\n",
            "memory usage: 2.4+ MB\n",
            "None\n",
            "\n",
            "====[AFTER PRE-PROCESSING]====\n",
            "\n",
            "<class 'pandas.core.frame.DataFrame'>\n",
            "RangeIndex: 10000 entries, 0 to 9999\n",
            "Data columns (total 15 columns):\n",
            " #   Column                Non-Null Count  Dtype  \n",
            "---  ------                --------------  -----  \n",
            " 0   #followers            10000 non-null  float64\n",
            " 1   #friends              10000 non-null  int64  \n",
            " 2   #retweets             10000 non-null  int64  \n",
            " 3   #favorites            10000 non-null  int64  \n",
            " 4   timeseg               10000 non-null  int64  \n",
            " 5   weekend               10000 non-null  int64  \n",
            " 6   entity_count          10000 non-null  int64  \n",
            " 7   hashtag_count         10000 non-null  int64  \n",
            " 8   mention_count         10000 non-null  int64  \n",
            " 9   url_count             10000 non-null  int64  \n",
            " 10  ratio_fav_#followers  10000 non-null  float64\n",
            " 11  day_of_week           10000 non-null  int64  \n",
            " 12  sentiment_p           10000 non-null  float64\n",
            " 13  sentiment_n           10000 non-null  float64\n",
            " 14  sentiment_ppn         10000 non-null  float64\n",
            "dtypes: float64(5), int64(10)\n",
            "memory usage: 1.1 MB\n",
            "None\n"
          ]
        }
      ],
      "metadata": {
        "id": "0-YOuMV6Zxgg",
        "colab": {
          "base_uri": "https://localhost:8080/"
        },
        "outputId": "b3a8308c-1bb9-4525-cde8-2d5f1a6a5e9d"
      }
    },
    {
      "cell_type": "code",
      "execution_count": 28,
      "source": [
        "class TwitterDataset(Dataset):\r\n",
        "  def __init__(self, filenames, preProcessFunc = None):\r\n",
        "    # `filenames` is a list of strings the contains all file names.\r\n",
        "    # `batch_size` is the determines the number of files that we want to read in a chunk.\r\n",
        "        self.filenames = filenames\r\n",
        "        self.preProcess = preProcessFunc\r\n",
        "  def __len__(self):\r\n",
        "        return len(self.filenames)\r\n",
        "  def __getitem__(self, idx): #idx means index of the chunk.\r\n",
        "    # In this method, we do all the preprocessing.\r\n",
        "    # First read data from files in a chunk. Preprocess it. Extract labels. Then return data and labels.\r\n",
        "        csvFile = self.filenames[idx]\r\n",
        "        df = pd.read_csv(csvFile)\r\n",
        "        if self.preProcess:\r\n",
        "          df = self.preProcess(df)\r\n",
        "\r\n",
        "        x_arr = torch.Tensor(df.drop(columns=['#retweets']).to_numpy().astype(float))\r\n",
        "        y = torch.Tensor(df[\"#retweets\"].to_numpy().astype(float))\r\n",
        "        X = torch.squeeze( x_arr )\r\n",
        "        if idx == self.__len__():  \r\n",
        "          raise IndexError\r\n",
        "        return X, y\r\n",
        "  def sample_df(self, idx = 0):\r\n",
        "    return self[idx]"
      ],
      "outputs": [],
      "metadata": {
        "id": "fwu0jnghhZ_u"
      }
    },
    {
      "cell_type": "code",
      "execution_count": 29,
      "source": [
        "train_loader = DataLoader(dataset = TwitterDataset(overallTrain, preProcessDataFrame),\r\n",
        "                            batch_size = 1,\r\n",
        "                            shuffle = True)"
      ],
      "outputs": [],
      "metadata": {
        "id": "mHeuGojhkMFG"
      }
    },
    {
      "cell_type": "markdown",
      "source": [
        "# Build the network\n",
        "Make sure this network takes in whatever input you give it and outputs a number. Alternative, if this is an immediate model, like the zero/more than zero retweets classifier, than train it and save the parameters externally. Then train the regressor in another copy of this script."
      ],
      "metadata": {
        "id": "fc_LITryyWzS"
      }
    },
    {
      "cell_type": "code",
      "execution_count": 30,
      "source": [
        "class myNeuralNetwork(nn.Module): # Please change the name to your own network\r\n",
        "  def __init__(self, input_size):\r\n",
        "    super(myNeuralNetwork, self).__init__()\r\n",
        "\r\n",
        "    self.fc1 = nn.Linear(input_size, 2048)\r\n",
        "    self.fc2 = nn.Linear(2048, 512)\r\n",
        "    self.fc3 = nn.Linear(512, 128)\r\n",
        "    self.fc4 = nn.Linear(128, 1)\r\n",
        "    self.dropout = nn.Dropout(0.3)\r\n",
        "    self.nonlinearity = nn.ReLU()\r\n",
        "    self.batchnorm1 = nn.BatchNorm1d(2048)\r\n",
        "    self.batchnorm2 = nn.BatchNorm1d(512)\r\n",
        "    self.batchnorm3 = nn.BatchNorm1d(128)\r\n",
        "\r\n",
        "    pass\r\n",
        "\r\n",
        "  def forward(self, x):\r\n",
        "\r\n",
        "    x = self.dropout(F.relu(self.batchnorm1(self.fc1(x))))\r\n",
        "    x = self.dropout(F.relu(self.batchnorm2(self.fc2(x))))\r\n",
        "    x = self.dropout(F.relu(self.batchnorm3(self.fc3(x))))\r\n",
        "    x = F.relu(self.fc4(x))\r\n",
        "\r\n",
        "    return x\r\n",
        "\r\n",
        "class myNeuralNetwork2(nn.Module): # Please change the name to your own network\r\n",
        "  def __init__(self, input_size):\r\n",
        "    super(myNeuralNetwork2, self).__init__()\r\n",
        "\r\n",
        "    self.fc1 = nn.Linear(input_size, 256)\r\n",
        "    self.fc2 = nn.Linear(256, 64)\r\n",
        "    self.fc3 = nn.Linear(64, 64)\r\n",
        "    self.fc4 = nn.Linear(64, 1)\r\n",
        "    self.dropout = nn.Dropout(0.3)\r\n",
        "    self.nonlinearity = nn.ReLU()\r\n",
        "    self.batchnorm1 = nn.BatchNorm1d(256)\r\n",
        "    self.batchnorm2 = nn.BatchNorm1d(64)\r\n",
        "    self.batchnorm3 = nn.BatchNorm1d(64)\r\n",
        "\r\n",
        "    pass\r\n",
        "\r\n",
        "  def forward(self, x):\r\n",
        "\r\n",
        "    x = self.dropout(F.relu(self.batchnorm1(self.fc1(x))))\r\n",
        "    x = self.dropout(F.relu(self.batchnorm2(self.fc2(x))))\r\n",
        "    x = self.dropout(F.relu(self.batchnorm3(self.fc3(x))))\r\n",
        "    x = F.relu(self.fc4(x))\r\n",
        "\r\n",
        "    return x\r\n",
        "  "
      ],
      "outputs": [],
      "metadata": {
        "id": "sKpYd8cNwSRp"
      }
    },
    {
      "cell_type": "markdown",
      "source": [
        "# Train the network\n",
        "## Training parameters\n",
        "Choice of optimiser and loss and training params are entirely up to you"
      ],
      "metadata": {
        "id": "j4OyQtGUzK1R"
      }
    },
    {
      "cell_type": "code",
      "execution_count": 31,
      "source": [
        "numEpochs = 50\r\n",
        "lr_rate = 1e-4\r\n",
        "\r\n",
        "input_size = 14\r\n",
        "\r\n",
        "b_size = 1250\r\n",
        "\r\n",
        "# model = myNeuralNetwork(input_size)\r\n",
        "model = myNeuralNetwork2(input_size)\r\n",
        "\r\n",
        "loss_function = nn.MSELoss() # Change to BCELoss for classification problem\r\n",
        "# optimizer = torch.optim.SGD(model.parameters(), lr=lr_rate, momentum=0.1)\r\n",
        "optimizer = torch.optim.Adam(model.parameters(), lr=lr_rate)"
      ],
      "outputs": [],
      "metadata": {
        "id": "4kAg-2nBv_dZ"
      }
    },
    {
      "cell_type": "code",
      "execution_count": 32,
      "source": [
        "if using_GPU:\r\n",
        "  model = model.cuda()\r\n",
        "\r\n",
        "# Check if the Module is on GPU by checking if a parameter is on GPU\r\n",
        "print(\"Model on GPU?:\")\r\n",
        "print(next(model.parameters()).is_cuda)"
      ],
      "outputs": [
        {
          "output_type": "stream",
          "name": "stdout",
          "text": [
            "Model on GPU?:\n",
            "True\n"
          ]
        }
      ],
      "metadata": {
        "colab": {
          "base_uri": "https://localhost:8080/"
        },
        "id": "iamiSCWGNoAf",
        "outputId": "7394a08e-56c3-40d2-eede-c30820674a28"
      }
    },
    {
      "cell_type": "markdown",
      "source": [
        "## Training for-loop"
      ],
      "metadata": {
        "id": "OqC5_j5tzOqv"
      }
    },
    {
      "cell_type": "code",
      "execution_count": 33,
      "source": [
        "loss_lst = []\r\n",
        "\r\n",
        "for i in tqdm(range(numEpochs)):\r\n",
        "  for X_a, y_a in train_loader:\r\n",
        "    \r\n",
        "    X_a = torch.squeeze(X_a)\r\n",
        "    y_a = y_a.T\r\n",
        "\r\n",
        "    l = int(len(X_a)/b_size)\r\n",
        "\r\n",
        "    for m in range(l):\r\n",
        "      a = m*b_size\r\n",
        "      b = (m+1)*b_size-1\r\n",
        "\r\n",
        "      X = X_a[a:b]\r\n",
        "      y = y_a[a:b]\r\n",
        "\r\n",
        "      if using_GPU:\r\n",
        "        X = X.cuda()\r\n",
        "        y = y.cuda()\r\n",
        "\r\n",
        "      y_hat = model(X)\r\n",
        "\r\n",
        "      optimizer.zero_grad() \r\n",
        "      y_hat = model(X)\r\n",
        "      y_log = torch.log(y+1)\r\n",
        "      loss = loss_function(y_hat, y_log) #calculate the loss\r\n",
        "      loss.backward() #backprop\r\n",
        "      optimizer.step() #does the update\r\n",
        "\r\n",
        "      loss_lst.append(loss.cpu().data.numpy())\r\n",
        "  if i % 1 == 0:\r\n",
        "    print (\"Epoch: {0}, Loss: {1}, \".format(i, loss.cpu().data.numpy()))\r\n"
      ],
      "outputs": [
        {
          "output_type": "stream",
          "name": "stderr",
          "text": [
            "  2%|▏         | 1/50 [02:42<2:13:05, 162.97s/it]"
          ]
        },
        {
          "output_type": "stream",
          "name": "stdout",
          "text": [
            "Epoch: 0, Loss: 0.8571478128433228, \n"
          ]
        },
        {
          "output_type": "stream",
          "name": "stderr",
          "text": [
            "  4%|▍         | 2/50 [05:10<2:03:14, 154.06s/it]"
          ]
        },
        {
          "output_type": "stream",
          "name": "stdout",
          "text": [
            "Epoch: 1, Loss: 0.8836069703102112, \n"
          ]
        },
        {
          "output_type": "stream",
          "name": "stderr",
          "text": [
            "  6%|▌         | 3/50 [07:58<2:05:33, 160.28s/it]"
          ]
        },
        {
          "output_type": "stream",
          "name": "stdout",
          "text": [
            "Epoch: 2, Loss: 1.258754014968872, \n"
          ]
        },
        {
          "output_type": "stream",
          "name": "stderr",
          "text": [
            "  8%|▊         | 4/50 [10:23<1:58:23, 154.42s/it]"
          ]
        },
        {
          "output_type": "stream",
          "name": "stdout",
          "text": [
            "Epoch: 3, Loss: 0.5866939425468445, \n"
          ]
        },
        {
          "output_type": "stream",
          "name": "stderr",
          "text": [
            " 10%|█         | 5/50 [12:54<1:54:49, 153.09s/it]"
          ]
        },
        {
          "output_type": "stream",
          "name": "stdout",
          "text": [
            "Epoch: 4, Loss: 0.9667966365814209, \n"
          ]
        },
        {
          "output_type": "stream",
          "name": "stderr",
          "text": [
            " 12%|█▏        | 6/50 [15:25<1:51:49, 152.50s/it]"
          ]
        },
        {
          "output_type": "stream",
          "name": "stdout",
          "text": [
            "Epoch: 5, Loss: 0.768923282623291, \n"
          ]
        },
        {
          "output_type": "stream",
          "name": "stderr",
          "text": [
            " 14%|█▍        | 7/50 [17:57<1:48:56, 152.02s/it]"
          ]
        },
        {
          "output_type": "stream",
          "name": "stdout",
          "text": [
            "Epoch: 6, Loss: 0.47390449047088623, \n"
          ]
        },
        {
          "output_type": "stream",
          "name": "stderr",
          "text": [
            " 16%|█▌        | 8/50 [20:19<1:44:13, 148.90s/it]"
          ]
        },
        {
          "output_type": "stream",
          "name": "stdout",
          "text": [
            "Epoch: 7, Loss: 0.5315228700637817, \n"
          ]
        },
        {
          "output_type": "stream",
          "name": "stderr",
          "text": [
            " 18%|█▊        | 9/50 [22:40<1:40:05, 146.47s/it]"
          ]
        },
        {
          "output_type": "stream",
          "name": "stdout",
          "text": [
            "Epoch: 8, Loss: 0.43722301721572876, \n"
          ]
        },
        {
          "output_type": "stream",
          "name": "stderr",
          "text": [
            " 20%|██        | 10/50 [25:02<1:36:41, 145.05s/it]"
          ]
        },
        {
          "output_type": "stream",
          "name": "stdout",
          "text": [
            "Epoch: 9, Loss: 0.5046527981758118, \n"
          ]
        }
      ],
      "metadata": {
        "colab": {
          "base_uri": "https://localhost:8080/"
        },
        "id": "9dOXBluRjSbD",
        "outputId": "956e1980-9f4d-4d55-da7b-ce4ab464293a"
      }
    },
    {
      "cell_type": "code",
      "execution_count": null,
      "source": [
        "import matplotlib.pyplot as plt\r\n",
        "\r\n",
        "plt.title(\"Training Loss\")\r\n",
        "plt.xlabel(\"Epochs\")\r\n",
        "plt.ylabel(\"Loss\")\r\n",
        "plt.plot(loss_lst)\r\n",
        "plt.show()"
      ],
      "outputs": [
        {
          "output_type": "error",
          "ename": "NameError",
          "evalue": "name 'loss_lst' is not defined",
          "traceback": [
            "\u001b[1;31m---------------------------------------------------------------------------\u001b[0m",
            "\u001b[1;31mNameError\u001b[0m                                 Traceback (most recent call last)",
            "\u001b[1;32m<ipython-input-1-d2fc76c24644>\u001b[0m in \u001b[0;36m<module>\u001b[1;34m\u001b[0m\n\u001b[0;32m      4\u001b[0m \u001b[0mplt\u001b[0m\u001b[1;33m.\u001b[0m\u001b[0mxlabel\u001b[0m\u001b[1;33m(\u001b[0m\u001b[1;34m\"Epochs\"\u001b[0m\u001b[1;33m)\u001b[0m\u001b[1;33m\u001b[0m\u001b[1;33m\u001b[0m\u001b[0m\n\u001b[0;32m      5\u001b[0m \u001b[0mplt\u001b[0m\u001b[1;33m.\u001b[0m\u001b[0mylabel\u001b[0m\u001b[1;33m(\u001b[0m\u001b[1;34m\"Loss\"\u001b[0m\u001b[1;33m)\u001b[0m\u001b[1;33m\u001b[0m\u001b[1;33m\u001b[0m\u001b[0m\n\u001b[1;32m----> 6\u001b[1;33m \u001b[0mplt\u001b[0m\u001b[1;33m.\u001b[0m\u001b[0mplot\u001b[0m\u001b[1;33m(\u001b[0m\u001b[0mloss_lst\u001b[0m\u001b[1;33m)\u001b[0m\u001b[1;33m\u001b[0m\u001b[1;33m\u001b[0m\u001b[0m\n\u001b[0m\u001b[0;32m      7\u001b[0m \u001b[0mplt\u001b[0m\u001b[1;33m.\u001b[0m\u001b[0mshow\u001b[0m\u001b[1;33m(\u001b[0m\u001b[1;33m)\u001b[0m\u001b[1;33m\u001b[0m\u001b[1;33m\u001b[0m\u001b[0m\n",
            "\u001b[1;31mNameError\u001b[0m: name 'loss_lst' is not defined"
          ]
        },
        {
          "output_type": "display_data",
          "data": {
            "text/plain": [
              "<Figure size 432x288 with 1 Axes>"
            ],
            "image/png": "[encoded data removed]"
          },
          "metadata": {
            "needs_background": "light"
          }
        }
      ],
      "metadata": {}
    },
    {
      "cell_type": "code",
      "execution_count": null,
      "source": [
        "# for i in tqdm(range(numEpochs)):\r\n",
        "#   for X, y in train_loader:\r\n",
        "\r\n",
        "#     X = torch.squeeze(X).cuda()\r\n",
        "#     y = y.T.cuda()\r\n",
        "\r\n",
        "#     y_hat = model(X)\r\n",
        "\r\n",
        "#     optimizer.zero_grad() \r\n",
        "#     y_hat = model(X)\r\n",
        "#     y_log = torch.log(y+1)\r\n",
        "#     loss = loss_function(y_hat, y_log) #calculate the loss\r\n",
        "#     loss.backward() #backprop\r\n",
        "#     optimizer.step() #does the update\r\n",
        "\r\n",
        "#   if i % 1 == 0:\r\n",
        "#       print (\"Epoch: {0}, Loss: {1}, \".format(i, loss.cpu().data.numpy()))"
      ],
      "outputs": [],
      "metadata": {
        "id": "jVxyBYuxmBr9"
      }
    },
    {
      "cell_type": "code",
      "execution_count": null,
      "source": [
        "# # init empty model\r\n",
        "# modelA = myNeuralNetwork(7)\r\n",
        "# optimizerA = torch.optim.Adam(modelA.parameters(), lr=0.01)\r\n",
        "\r\n",
        "# # load checkpoint from saved path\r\n",
        "# path = os.path.join(\"/content\",\r\n",
        "#                               \"drive\", \r\n",
        "#                               \".shortcut-targets-by-id\", \r\n",
        "#                               \"19icV-F9BFrur0fxo4XvAZ82qIhipVrb-\",\r\n",
        "#                               \"aiProjectData50021\",\r\n",
        "#                               \"models\",\r\n",
        "#                               \"model_20210729_1755_10epochs.pt\")\r\n",
        "# checkpoint = torch.load(path)\r\n",
        "\r\n",
        "# # load model\r\n",
        "# modelA.load_state_dict(checkpoint['model_state_dict'])\r\n",
        "# optimizerA.load_state_dict(checkpoint['optimizer_state_dict'])"
      ],
      "outputs": [],
      "metadata": {
        "id": "h4ikmi0KEPNN"
      }
    },
    {
      "cell_type": "code",
      "execution_count": null,
      "source": [
        "# # torch.cuda.empty_cache()\r\n",
        "# if using_GPU:\r\n",
        "#   modelA = modelA.cuda()\r\n",
        "\r\n",
        "# # Check if the Module is on GPU by checking if a parameter is on GPU\r\n",
        "# print(\"Model on GPU?:\")\r\n",
        "# print(next(modelA.parameters()).is_cuda)"
      ],
      "outputs": [],
      "metadata": {
        "id": "FWZxhcCoFxt0"
      }
    },
    {
      "cell_type": "markdown",
      "source": [
        "## Evaluate the model"
      ],
      "metadata": {
        "id": "C7lgli26zSpf"
      }
    },
    {
      "cell_type": "code",
      "execution_count": null,
      "source": [
        "test_loader = DataLoader(dataset = TwitterDataset(overallTest, preProcessDataFrame),\r\n",
        "                            batch_size = 1,\r\n",
        "                            shuffle = True)\r\n",
        "model.eval()\r\n",
        "# cumLoss = 0\r\n",
        "for (i, (X, y)) in enumerate(test_loader):\r\n",
        "  X = torch.squeeze(X).cuda()\r\n",
        "  y = y.T.cuda()\r\n",
        "  y_hat = model(X)\r\n",
        "  y_log = torch.log(y+1)\r\n",
        "  # cum_loss += loss_fn(scores, labels).item()\r\n",
        "  loss = loss_function(y_hat, y_log)\r\n",
        "  # cumLoss += loss\r\n",
        "\r\n",
        "# print(f\"MSELoss: {cumLoss / len(test_loader)}\")\r\n",
        "print(f\"MSELoss: {loss}\")"
      ],
      "outputs": [
        {
          "output_type": "stream",
          "name": "stdout",
          "text": [
            "MSELoss: 1.9356576204299927\n"
          ]
        }
      ],
      "metadata": {
        "id": "decLmbTQzVJr"
      }
    },
    {
      "cell_type": "code",
      "execution_count": null,
      "source": [
        "from datetime import datetime\r\n",
        "\r\n",
        "now = datetime.now()\r\n",
        "\r\n",
        "d4 = now.strftime(\"%Y%m%d_%H%M%S\")\r\n",
        "print(d4)"
      ],
      "outputs": [
        {
          "output_type": "stream",
          "name": "stdout",
          "text": [
            "20210803_043938\n"
          ]
        }
      ],
      "metadata": {}
    },
    {
      "cell_type": "markdown",
      "source": [
        "# Save your model"
      ],
      "metadata": {
        "id": "jqpz3C6iVlge"
      }
    },
    {
      "cell_type": "code",
      "execution_count": null,
      "source": [
        "PATH = \"model_{0}.pt\".format(d4) #change this name to the name of your network\r\n",
        "\r\n",
        "torch.save({\r\n",
        "            'model_state_dict': model.state_dict(),\r\n",
        "            'optimizer_state_dict': optimizer.state_dict()\r\n",
        "            }, PATH)"
      ],
      "outputs": [],
      "metadata": {
        "id": "Kw6rcOCiVk13"
      }
    },
    {
      "cell_type": "markdown",
      "source": [
        "# Load model from elsewhere\n",
        "Just a reminder of how to load the model elsewhere after u save it. Also for me to deploy into the UI after you're done"
      ],
      "metadata": {
        "id": "25eRpxN3VyH2"
      }
    },
    {
      "cell_type": "code",
      "execution_count": null,
      "source": [
        "# # init empty model\r\n",
        "# modelA = NeuralNetwork()\r\n",
        "# optimModelA = optim.SGD(modelA.parameters(), lr=0.001, momentum=0.9)\r\n",
        "\r\n",
        "# # load checkpoint from saved path\r\n",
        "# checkpoint = torch.load(PATH)\r\n",
        "\r\n",
        "# # load model\r\n",
        "# modelA.load_state_dict(checkpoint['model_state_dict'])\r\n",
        "# optimizerA.load_state_dict(checkpoint['optimizer_state_dict'])\r\n",
        "\r\n",
        "# modelA.eval()\r\n",
        "# # - or -\r\n",
        "# modelA.train()"
      ],
      "outputs": [],
      "metadata": {
        "id": "bk9XhXs6V1Gk"
      }
    }
  ]
}