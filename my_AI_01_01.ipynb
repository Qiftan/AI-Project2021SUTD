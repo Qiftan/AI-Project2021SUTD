{
  "nbformat": 4,
  "nbformat_minor": 2,
  "metadata": {
    "kernelspec": {
      "name": "python3",
      "display_name": "Python 3.9.5 64-bit"
    },
    "language_info": {
      "codemirror_mode": {
        "name": "ipython",
        "version": 3
      },
      "file_extension": ".py",
      "mimetype": "text/x-python",
      "name": "python",
      "nbconvert_exporter": "python",
      "pygments_lexer": "ipython3",
      "version": "3.9.5"
    },
    "colab": {
      "name": "my-AI-01.ipynb",
      "provenance": [],
      "collapsed_sections": []
    },
    "interpreter": {
      "hash": "eb24ff17c96d57bb1b6bd790e601a0fc3cb43c71d84f2d33908d6829878e2da1"
    }
  },
  "cells": [
    {
      "cell_type": "code",
      "execution_count": 40,
      "source": [
        "import sys\r\n",
        "import os\r\n",
        "from tqdm import tqdm\r\n",
        "\r\n",
        "import glob\r\n",
        "import numpy as np\r\n",
        "import pandas as pd\r\n",
        "from sklearn.model_selection import train_test_split\r\n",
        "\r\n",
        "import torch\r\n",
        "import torch.nn as nn\r\n",
        "import torch.nn.functional as F\r\n",
        "from torch.utils.data import Dataset, DataLoader"
      ],
      "outputs": [],
      "metadata": {
        "id": "Q9f8VOcgfSiC"
      }
    },
    {
      "cell_type": "code",
      "execution_count": 41,
      "source": [
        "print(\"PyTorch version: \", torch.__version__)\r\n",
        "print(\"GPU Detected:\" ,torch.cuda.is_available())\r\n",
        "print(\"GPU Device Name:\", torch.cuda.get_device_name(0))\r\n",
        "\r\n",
        "#defining a shortcut function for later:\r\n",
        "# import os\r\n",
        "# using_GPU = os.path.exists('/opt/bin/nvidia-smi')\r\n",
        "\r\n",
        "using_GPU = torch.cuda.is_available()\r\n"
      ],
      "outputs": [
        {
          "output_type": "stream",
          "name": "stdout",
          "text": [
            "PyTorch version:  1.9.0+cu102\n",
            "GPU Detected: True\n",
            "GPU Device Name: NVIDIA GeForce MX150\n"
          ]
        }
      ],
      "metadata": {
        "colab": {
          "base_uri": "https://localhost:8080/"
        },
        "id": "UqcRxwtaL0k5",
        "outputId": "af97adde-3d79-44aa-cd94-fda8f2661320"
      }
    },
    {
      "cell_type": "markdown",
      "source": [
        "# Google Colab setup\n",
        "Run this only if you're training on colab. \n",
        "Make sure you have added the shared drive as a shortcut to the **root** of your google drive.\n",
        "\n",
        "If you're training your model offline and this cell throws `SyntaxError`, just ignore it."
      ],
      "metadata": {
        "id": "7zDsdEx7dAL5"
      }
    },
    {
      "cell_type": "code",
      "execution_count": 42,
      "source": [
        "# currentlyRunningOnColab = 'google.colab' in sys.modules\r\n",
        "# if currentlyRunningOnColab:\r\n",
        "#   # Mount your own Google Drive\r\n",
        "#   from google.colab import drive\r\n",
        "#   drive.mount('/content/drive', force_remount=True)\r\n",
        "#   print(\"Mounted Google drive of current user\")\r\n",
        "\r\n",
        "#   %cd /content\r\n",
        "#   print(\"Changed current directory to /content\")\r\n",
        "\r\n",
        "#   # Mount github repository\r\n",
        "#   !git clone https://github.com/beazt123/AI-Project2021SUTD.git\r\n",
        "#   print(\"\\nCloned repo onto current instance of machine\")\r\n",
        "  \r\n",
        "#   %cd AI-Project2021SUTD\r\n",
        "#   print(\"\\nCurrently operating in the root directory of the Git repository\")\r\n",
        "\r\n",
        "#   # dataFolderName = \"aiproject\"\r\n",
        "#   GITHUB_REPO_NAME = \"AI-Project2021SUTD\"\r\n",
        "#   codePath = GITHUB_REPO_NAME\r\n",
        "#   # /content/drive/.shortcut-targets-by-id/1OU-Ua5tGwc7PDL_nf0s1CPKoIQduRW5q/50.021 AI Project"
      ],
      "outputs": [],
      "metadata": {
        "id": "oCXI27GDYmAp",
        "colab": {
          "base_uri": "https://localhost:8080/"
        },
        "outputId": "7bb27842-5a5e-4cab-d73d-20d35e8c19a2"
      }
    },
    {
      "cell_type": "markdown",
      "source": [
        "# Set up the path where the data is stored\n",
        "Currently, this is set to an online directory. Change it if you're training it offline."
      ],
      "metadata": {
        "id": "akb3oVI5A8lY"
      }
    },
    {
      "cell_type": "code",
      "execution_count": 43,
      "source": [
        "# # Change this variable if u wanna train offline\r\n",
        "# dataFolderPath = os.path.join(\"/content\",\r\n",
        "#                               \"drive\", \r\n",
        "#                               \".shortcut-targets-by-id\", \r\n",
        "#                               \"19icV-F9BFrur0fxo4XvAZ82qIhipVrb-\",\r\n",
        "#                               \"aiProjectData50021\")\r\n",
        "# # /content/drive/.shortcut-targets-by-id/19icV-F9BFrur0fxo4XvAZ82qIhipVrb-/aiProjectData50021"
      ],
      "outputs": [],
      "metadata": {
        "id": "1vUdlECEYwOK"
      }
    },
    {
      "cell_type": "code",
      "execution_count": 44,
      "source": [
        "dataFolderPath = os.path.join(\"data1\")"
      ],
      "outputs": [],
      "metadata": {}
    },
    {
      "cell_type": "markdown",
      "source": [
        "# Preparing the data\n",
        "I'm assuming that the data is stored in the exact same structure as the one on our shared drive because the code in this section is written like that\n",
        "\n",
        "```\n",
        "dataFolder\n",
        "  |--COVID DATASET 1\n",
        "  |         |--someCSV.csv\n",
        "  |         |--anotherCSV.csv\n",
        "  |--COVID DATASET 2\n",
        "  |         |--someCSV2.csv\n",
        "  |         |--anotherCSV2.csv\n",
        "  |--COVID DATASET 3\n",
        "            |--someCSV3.csv\n",
        "            |--anotherCSV3.csv\n",
        "```"
      ],
      "metadata": {
        "id": "Qvtk6rmZV6qL"
      }
    },
    {
      "cell_type": "markdown",
      "source": [
        "## Split into Training and Test sets"
      ],
      "metadata": {
        "id": "IVmc57I8DOvn"
      }
    },
    {
      "cell_type": "code",
      "execution_count": 45,
      "source": [
        "trainingPercentage = 0.7\r\n",
        "testPercentage = 0.3"
      ],
      "outputs": [],
      "metadata": {
        "id": "yf032lccf7-d"
      }
    },
    {
      "cell_type": "code",
      "execution_count": 46,
      "source": [
        "# folders = [\"COVID DATASET 1\",\"COVID DATASET 2\"]#, \"COVID DATASET 3\"]\r\n",
        "csvLists = [glob.glob(f\"{dataFolderPath}/*.csv\")]\r\n",
        "print(csvLists)"
      ],
      "outputs": [
        {
          "output_type": "stream",
          "name": "stdout",
          "text": [
            "[['data1\\\\COVID1_1.csv', 'data1\\\\COVID1_10.csv', 'data1\\\\COVID1_100.csv', 'data1\\\\COVID1_101.csv', 'data1\\\\COVID1_102.csv', 'data1\\\\COVID1_103.csv', 'data1\\\\COVID1_104.csv', 'data1\\\\COVID1_105.csv', 'data1\\\\COVID1_106.csv', 'data1\\\\COVID1_107.csv', 'data1\\\\COVID1_108.csv', 'data1\\\\COVID1_109.csv', 'data1\\\\COVID1_11.csv', 'data1\\\\COVID1_110.csv', 'data1\\\\COVID1_111.csv', 'data1\\\\COVID1_112.csv', 'data1\\\\COVID1_113.csv', 'data1\\\\COVID1_114.csv', 'data1\\\\COVID1_115.csv', 'data1\\\\COVID1_116.csv', 'data1\\\\COVID1_117.csv', 'data1\\\\COVID1_118.csv', 'data1\\\\COVID1_119.csv', 'data1\\\\COVID1_12.csv', 'data1\\\\COVID1_120.csv', 'data1\\\\COVID1_121.csv', 'data1\\\\COVID1_122.csv', 'data1\\\\COVID1_123.csv', 'data1\\\\COVID1_124.csv', 'data1\\\\COVID1_125.csv', 'data1\\\\COVID1_126.csv', 'data1\\\\COVID1_127.csv', 'data1\\\\COVID1_128.csv', 'data1\\\\COVID1_129.csv', 'data1\\\\COVID1_13.csv', 'data1\\\\COVID1_130.csv', 'data1\\\\COVID1_131.csv', 'data1\\\\COVID1_132.csv', 'data1\\\\COVID1_133.csv', 'data1\\\\COVID1_134.csv', 'data1\\\\COVID1_135.csv', 'data1\\\\COVID1_136.csv', 'data1\\\\COVID1_137.csv', 'data1\\\\COVID1_138.csv', 'data1\\\\COVID1_139.csv', 'data1\\\\COVID1_14.csv', 'data1\\\\COVID1_140.csv', 'data1\\\\COVID1_141.csv', 'data1\\\\COVID1_142.csv', 'data1\\\\COVID1_143.csv', 'data1\\\\COVID1_144.csv', 'data1\\\\COVID1_145.csv', 'data1\\\\COVID1_146.csv', 'data1\\\\COVID1_147.csv', 'data1\\\\COVID1_148.csv', 'data1\\\\COVID1_149.csv', 'data1\\\\COVID1_15.csv', 'data1\\\\COVID1_150.csv', 'data1\\\\COVID1_151.csv', 'data1\\\\COVID1_152.csv', 'data1\\\\COVID1_153.csv', 'data1\\\\COVID1_154.csv', 'data1\\\\COVID1_155.csv', 'data1\\\\COVID1_156.csv', 'data1\\\\COVID1_157.csv', 'data1\\\\COVID1_158.csv', 'data1\\\\COVID1_159.csv', 'data1\\\\COVID1_16.csv', 'data1\\\\COVID1_160.csv', 'data1\\\\COVID1_161.csv', 'data1\\\\COVID1_162.csv', 'data1\\\\COVID1_163.csv', 'data1\\\\COVID1_164.csv', 'data1\\\\COVID1_165.csv', 'data1\\\\COVID1_166.csv', 'data1\\\\COVID1_167.csv', 'data1\\\\COVID1_168.csv', 'data1\\\\COVID1_169.csv', 'data1\\\\COVID1_17.csv', 'data1\\\\COVID1_170.csv', 'data1\\\\COVID1_171.csv', 'data1\\\\COVID1_172.csv', 'data1\\\\COVID1_173.csv', 'data1\\\\COVID1_174.csv', 'data1\\\\COVID1_175.csv', 'data1\\\\COVID1_176.csv', 'data1\\\\COVID1_177.csv', 'data1\\\\COVID1_178.csv', 'data1\\\\COVID1_179.csv', 'data1\\\\COVID1_18.csv', 'data1\\\\COVID1_180.csv', 'data1\\\\COVID1_181.csv', 'data1\\\\COVID1_182.csv', 'data1\\\\COVID1_183.csv', 'data1\\\\COVID1_184.csv', 'data1\\\\COVID1_185.csv', 'data1\\\\COVID1_186.csv', 'data1\\\\COVID1_187.csv', 'data1\\\\COVID1_188.csv', 'data1\\\\COVID1_189.csv', 'data1\\\\COVID1_19.csv', 'data1\\\\COVID1_190.csv', 'data1\\\\COVID1_191.csv', 'data1\\\\COVID1_192.csv', 'data1\\\\COVID1_193.csv', 'data1\\\\COVID1_194.csv', 'data1\\\\COVID1_195.csv', 'data1\\\\COVID1_196.csv', 'data1\\\\COVID1_197.csv', 'data1\\\\COVID1_198.csv', 'data1\\\\COVID1_199.csv', 'data1\\\\COVID1_2.csv', 'data1\\\\COVID1_20.csv', 'data1\\\\COVID1_200.csv', 'data1\\\\COVID1_201.csv', 'data1\\\\COVID1_202.csv', 'data1\\\\COVID1_203.csv', 'data1\\\\COVID1_204.csv', 'data1\\\\COVID1_205.csv', 'data1\\\\COVID1_206.csv', 'data1\\\\COVID1_207.csv', 'data1\\\\COVID1_208.csv', 'data1\\\\COVID1_209.csv', 'data1\\\\COVID1_21.csv', 'data1\\\\COVID1_210.csv', 'data1\\\\COVID1_211.csv', 'data1\\\\COVID1_212.csv', 'data1\\\\COVID1_213.csv', 'data1\\\\COVID1_214.csv', 'data1\\\\COVID1_215.csv', 'data1\\\\COVID1_216.csv', 'data1\\\\COVID1_217.csv', 'data1\\\\COVID1_218.csv', 'data1\\\\COVID1_219.csv', 'data1\\\\COVID1_22.csv', 'data1\\\\COVID1_220.csv', 'data1\\\\COVID1_221.csv', 'data1\\\\COVID1_222.csv', 'data1\\\\COVID1_223.csv', 'data1\\\\COVID1_224.csv', 'data1\\\\COVID1_225.csv', 'data1\\\\COVID1_226.csv', 'data1\\\\COVID1_227.csv', 'data1\\\\COVID1_228.csv', 'data1\\\\COVID1_229.csv', 'data1\\\\COVID1_23.csv', 'data1\\\\COVID1_230.csv', 'data1\\\\COVID1_231.csv', 'data1\\\\COVID1_232.csv', 'data1\\\\COVID1_233.csv', 'data1\\\\COVID1_234.csv', 'data1\\\\COVID1_235.csv', 'data1\\\\COVID1_236.csv', 'data1\\\\COVID1_237.csv', 'data1\\\\COVID1_238.csv', 'data1\\\\COVID1_239.csv', 'data1\\\\COVID1_24.csv', 'data1\\\\COVID1_240.csv', 'data1\\\\COVID1_241.csv', 'data1\\\\COVID1_242.csv', 'data1\\\\COVID1_243.csv', 'data1\\\\COVID1_244.csv', 'data1\\\\COVID1_245.csv', 'data1\\\\COVID1_246.csv', 'data1\\\\COVID1_247.csv', 'data1\\\\COVID1_248.csv', 'data1\\\\COVID1_249.csv', 'data1\\\\COVID1_25.csv', 'data1\\\\COVID1_250.csv', 'data1\\\\COVID1_251.csv', 'data1\\\\COVID1_252.csv', 'data1\\\\COVID1_253.csv', 'data1\\\\COVID1_254.csv', 'data1\\\\COVID1_255.csv', 'data1\\\\COVID1_256.csv', 'data1\\\\COVID1_257.csv', 'data1\\\\COVID1_258.csv', 'data1\\\\COVID1_259.csv', 'data1\\\\COVID1_26.csv', 'data1\\\\COVID1_260.csv', 'data1\\\\COVID1_261.csv', 'data1\\\\COVID1_262.csv', 'data1\\\\COVID1_263.csv', 'data1\\\\COVID1_264.csv', 'data1\\\\COVID1_265.csv', 'data1\\\\COVID1_266.csv', 'data1\\\\COVID1_267.csv', 'data1\\\\COVID1_268.csv', 'data1\\\\COVID1_269.csv', 'data1\\\\COVID1_27.csv', 'data1\\\\COVID1_270.csv', 'data1\\\\COVID1_271.csv', 'data1\\\\COVID1_272.csv', 'data1\\\\COVID1_28.csv', 'data1\\\\COVID1_29.csv', 'data1\\\\COVID1_3.csv', 'data1\\\\COVID1_30.csv', 'data1\\\\COVID1_31.csv', 'data1\\\\COVID1_32.csv', 'data1\\\\COVID1_33.csv', 'data1\\\\COVID1_34.csv', 'data1\\\\COVID1_35.csv', 'data1\\\\COVID1_36.csv', 'data1\\\\COVID1_37.csv', 'data1\\\\COVID1_38.csv', 'data1\\\\COVID1_39.csv', 'data1\\\\COVID1_4.csv', 'data1\\\\COVID1_40.csv', 'data1\\\\COVID1_41.csv', 'data1\\\\COVID1_42.csv', 'data1\\\\COVID1_43.csv', 'data1\\\\COVID1_44.csv', 'data1\\\\COVID1_45.csv', 'data1\\\\COVID1_46.csv', 'data1\\\\COVID1_47.csv', 'data1\\\\COVID1_48.csv', 'data1\\\\COVID1_49.csv', 'data1\\\\COVID1_5.csv', 'data1\\\\COVID1_50.csv', 'data1\\\\COVID1_51.csv', 'data1\\\\COVID1_52.csv', 'data1\\\\COVID1_53.csv', 'data1\\\\COVID1_54.csv', 'data1\\\\COVID1_55.csv', 'data1\\\\COVID1_56.csv', 'data1\\\\COVID1_57.csv', 'data1\\\\COVID1_58.csv', 'data1\\\\COVID1_59.csv', 'data1\\\\COVID1_6.csv', 'data1\\\\COVID1_60.csv', 'data1\\\\COVID1_61.csv', 'data1\\\\COVID1_62.csv', 'data1\\\\COVID1_63.csv', 'data1\\\\COVID1_64.csv', 'data1\\\\COVID1_65.csv', 'data1\\\\COVID1_66.csv', 'data1\\\\COVID1_67.csv', 'data1\\\\COVID1_68.csv', 'data1\\\\COVID1_69.csv', 'data1\\\\COVID1_7.csv', 'data1\\\\COVID1_70.csv', 'data1\\\\COVID1_71.csv', 'data1\\\\COVID1_72.csv', 'data1\\\\COVID1_73.csv', 'data1\\\\COVID1_74.csv', 'data1\\\\COVID1_75.csv', 'data1\\\\COVID1_76.csv', 'data1\\\\COVID1_77.csv', 'data1\\\\COVID1_78.csv', 'data1\\\\COVID1_79.csv', 'data1\\\\COVID1_8.csv', 'data1\\\\COVID1_80.csv', 'data1\\\\COVID1_81.csv', 'data1\\\\COVID1_82.csv', 'data1\\\\COVID1_83.csv', 'data1\\\\COVID1_84.csv', 'data1\\\\COVID1_85.csv', 'data1\\\\COVID1_86.csv', 'data1\\\\COVID1_87.csv', 'data1\\\\COVID1_88.csv', 'data1\\\\COVID1_89.csv', 'data1\\\\COVID1_9.csv', 'data1\\\\COVID1_90.csv', 'data1\\\\COVID1_91.csv', 'data1\\\\COVID1_92.csv', 'data1\\\\COVID1_93.csv', 'data1\\\\COVID1_94.csv', 'data1\\\\COVID1_95.csv', 'data1\\\\COVID1_96.csv', 'data1\\\\COVID1_97.csv', 'data1\\\\COVID1_98.csv', 'data1\\\\COVID1_99.csv']]\n"
          ]
        }
      ],
      "metadata": {
        "id": "yHYxJDtAXK2E"
      }
    },
    {
      "cell_type": "code",
      "execution_count": 47,
      "source": [
        "overallTrain = []\r\n",
        "overallTest = []\r\n",
        "for csvList in csvLists:  \r\n",
        "  train, test = train_test_split(csvList,\r\n",
        "                                test_size=testPercentage,\r\n",
        "                                train_size=trainingPercentage)\r\n",
        "  overallTrain.extend(train)\r\n",
        "  overallTest.extend(test)"
      ],
      "outputs": [],
      "metadata": {
        "id": "ahCtqgkDWUGX"
      }
    },
    {
      "cell_type": "markdown",
      "source": [
        "## Define and fine tune the pre-process function\n",
        "Our dataset contains many columns we don't need"
      ],
      "metadata": {
        "id": "I_UloE4oDfhO"
      }
    },
    {
      "cell_type": "code",
      "execution_count": 48,
      "source": [
        "def preProcessDataFrame(df: pd.DataFrame) -> pd.DataFrame:\r\n",
        "  \"\"\"\r\n",
        "  Takes in a dataframe and returns another dataframe that contains only the data we want.\r\n",
        "  Might wanna normalise the data as well\r\n",
        "  Maybe fill the nulls with zeros or other appropriate values.\r\n",
        "  \"\"\"\r\n",
        "  df_cp = df.copy()\r\n",
        "\r\n",
        "  # to commnet out\r\n",
        "  # cols = [\r\n",
        "  #         'tweet id',\r\n",
        "  #         \"followers\",\r\n",
        "  #         \"friends\",\r\n",
        "  #         \"retweets\",\r\n",
        "  #         \"favorites\",\r\n",
        "  #         \"date.hour\",\r\n",
        "  #         \"date.min\",\r\n",
        "  #         \"date.sec\",\r\n",
        "  #         \"time.date\"\r\n",
        "  #         ]\r\n",
        "  # df_cp[cols] = df_cp[cols].apply(pd.to_numeric, errors='coerce', axis=1, downcast=\"integer\")\r\n",
        "  \r\n",
        "  df_cp.dropna(axis=0,\r\n",
        "               how='any', \r\n",
        "               subset=[\"username\", \"tweet id\"], \r\n",
        "               inplace=True)\r\n",
        "  \r\n",
        "  # df_cp = df_cp\r\n",
        "  df_cp = df_cp[[\"followers\",\r\n",
        "                \"friends\",\r\n",
        "                \"retweets\",\r\n",
        "                \"positive_sentiment\",\r\n",
        "                \"negative_sentiment\",\r\n",
        "                \"hour_sine\",\r\n",
        "                \"hour_cosine\",\r\n",
        "                \"date_sine\",\r\n",
        "                \"date_cosine\",\r\n",
        "                \"no_hashtag\",\r\n",
        "                \"no_mentions\"]]\r\n",
        "  return df_cp\r\n",
        "\r\n",
        "\r\n",
        "# sampleDf = pd.read_csv(overallTrain[0])\r\n",
        "sampleDf = pd.read_csv(f\"{dataFolderPath}/COVID1_11.csv\")\r\n",
        "# print(sampleDf.head())\r\n",
        "print(sampleDf.info())\r\n",
        "# [print(x) for x in sampleDf.columns] # show list of columns in sampleDf\r\n",
        "print(\"\\n====[AFTER PRE-PROCESSING]====\\n\")\r\n",
        "# print(preProcessDataFrame(sampleDf.head()))\r\n",
        "pp = preProcessDataFrame(sampleDf)\r\n",
        "print(pp.info())"
      ],
      "outputs": [
        {
          "output_type": "stream",
          "name": "stdout",
          "text": [
            "<class 'pandas.core.frame.DataFrame'>\n",
            "RangeIndex: 10000 entries, 0 to 9999\n",
            "Data columns (total 16 columns):\n",
            " #   Column              Non-Null Count  Dtype  \n",
            "---  ------              --------------  -----  \n",
            " 0   Unnamed: 0          10000 non-null  int64  \n",
            " 1   tweet id            10000 non-null  int64  \n",
            " 2   username            10000 non-null  object \n",
            " 3   followers           10000 non-null  int64  \n",
            " 4   friends             10000 non-null  int64  \n",
            " 5   retweets            10000 non-null  int64  \n",
            " 6   favorites           10000 non-null  int64  \n",
            " 7   n                   4710 non-null   float64\n",
            " 8   positive_sentiment  10000 non-null  int64  \n",
            " 9   negative_sentiment  10000 non-null  int64  \n",
            " 10  hour_sine           10000 non-null  float64\n",
            " 11  hour_cosine         10000 non-null  float64\n",
            " 12  date_sine           10000 non-null  float64\n",
            " 13  date_cosine         10000 non-null  float64\n",
            " 14  no_hashtag          10000 non-null  int64  \n",
            " 15  no_mentions         10000 non-null  int64  \n",
            "dtypes: float64(5), int64(10), object(1)\n",
            "memory usage: 1.2+ MB\n",
            "None\n",
            "\n",
            "====[AFTER PRE-PROCESSING]====\n",
            "\n",
            "<class 'pandas.core.frame.DataFrame'>\n",
            "Int64Index: 10000 entries, 0 to 9999\n",
            "Data columns (total 11 columns):\n",
            " #   Column              Non-Null Count  Dtype  \n",
            "---  ------              --------------  -----  \n",
            " 0   followers           10000 non-null  int64  \n",
            " 1   friends             10000 non-null  int64  \n",
            " 2   retweets            10000 non-null  int64  \n",
            " 3   positive_sentiment  10000 non-null  int64  \n",
            " 4   negative_sentiment  10000 non-null  int64  \n",
            " 5   hour_sine           10000 non-null  float64\n",
            " 6   hour_cosine         10000 non-null  float64\n",
            " 7   date_sine           10000 non-null  float64\n",
            " 8   date_cosine         10000 non-null  float64\n",
            " 9   no_hashtag          10000 non-null  int64  \n",
            " 10  no_mentions         10000 non-null  int64  \n",
            "dtypes: float64(4), int64(7)\n",
            "memory usage: 937.5 KB\n",
            "None\n"
          ]
        }
      ],
      "metadata": {
        "id": "0-YOuMV6Zxgg",
        "colab": {
          "base_uri": "https://localhost:8080/"
        },
        "outputId": "b3a8308c-1bb9-4525-cde8-2d5f1a6a5e9d"
      }
    },
    {
      "cell_type": "code",
      "execution_count": 49,
      "source": [
        "class TwitterDataset(Dataset):\r\n",
        "  def __init__(self, filenames, preProcessFunc = None):\r\n",
        "    # `filenames` is a list of strings the contains all file names.\r\n",
        "    # `batch_size` is the determines the number of files that we want to read in a chunk.\r\n",
        "        self.filenames = filenames\r\n",
        "        self.preProcess = preProcessFunc\r\n",
        "  def __len__(self):\r\n",
        "        return len(self.filenames)\r\n",
        "  def __getitem__(self, idx): #idx means index of the chunk.\r\n",
        "    # In this method, we do all the preprocessing.\r\n",
        "    # First read data from files in a chunk. Preprocess it. Extract labels. Then return data and labels.\r\n",
        "        csvFile = self.filenames[idx]\r\n",
        "        df = pd.read_csv(csvFile)\r\n",
        "        if self.preProcess:\r\n",
        "          df = self.preProcess(df)\r\n",
        "\r\n",
        "        x_arr = torch.Tensor(df.drop(columns=['retweets']).to_numpy().astype(float))\r\n",
        "        y = torch.Tensor(df[\"retweets\"].to_numpy().astype(float))\r\n",
        "        X = torch.squeeze( x_arr )\r\n",
        "        if idx == self.__len__():  \r\n",
        "          raise IndexError\r\n",
        "        return X, y\r\n",
        "  def sample_df(self, idx = 0):\r\n",
        "    return self[idx]"
      ],
      "outputs": [],
      "metadata": {
        "id": "fwu0jnghhZ_u"
      }
    },
    {
      "cell_type": "code",
      "execution_count": 50,
      "source": [
        "train_loader = DataLoader(dataset = TwitterDataset(overallTrain, preProcessDataFrame),\r\n",
        "                            batch_size = 1,\r\n",
        "                            shuffle = True)"
      ],
      "outputs": [],
      "metadata": {
        "id": "mHeuGojhkMFG"
      }
    },
    {
      "cell_type": "markdown",
      "source": [
        "# Build the network\n",
        "Make sure this network takes in whatever input you give it and outputs a number. Alternative, if this is an immediate model, like the zero/more than zero retweets classifier, than train it and save the parameters externally. Then train the regressor in another copy of this script."
      ],
      "metadata": {
        "id": "fc_LITryyWzS"
      }
    },
    {
      "cell_type": "code",
      "execution_count": 51,
      "source": [
        "class myNeuralNetwork(nn.Module): # Please change the name to your own network\r\n",
        "  def __init__(self, input_size):\r\n",
        "    super(myNeuralNetwork, self).__init__()\r\n",
        "\r\n",
        "    self.fc1 = nn.Linear(input_size, 2048)\r\n",
        "    self.fc2 = nn.Linear(2048, 512)\r\n",
        "    self.fc3 = nn.Linear(512, 128)\r\n",
        "    self.fc4 = nn.Linear(128, 1)\r\n",
        "    self.dropout = nn.Dropout(0.3)\r\n",
        "    self.nonlinearity = nn.ReLU()\r\n",
        "    self.batchnorm1 = nn.BatchNorm1d(2048)\r\n",
        "    self.batchnorm2 = nn.BatchNorm1d(512)\r\n",
        "    self.batchnorm3 = nn.BatchNorm1d(128)\r\n",
        "\r\n",
        "    pass\r\n",
        "\r\n",
        "  def forward(self, x):\r\n",
        "\r\n",
        "    x = self.dropout(F.relu(self.batchnorm1(self.fc1(x))))\r\n",
        "    x = self.dropout(F.relu(self.batchnorm2(self.fc2(x))))\r\n",
        "    x = self.dropout(F.relu(self.batchnorm3(self.fc3(x))))\r\n",
        "    x = F.relu(self.fc4(x))\r\n",
        "\r\n",
        "    return x\r\n",
        "\r\n",
        "class myNeuralNetwork2(nn.Module):\r\n",
        "  def __init__(self, input_size):\r\n",
        "    super(myNeuralNetwork2, self).__init__()\r\n",
        "\r\n",
        "    a = 256\r\n",
        "    b = 16\r\n",
        "\r\n",
        "    self.fc1 = nn.Linear(input_size, a)\r\n",
        "    self.fc2 = nn.Linear(a, b)\r\n",
        "    self.fc3 = nn.Linear(b, 1)\r\n",
        "    self.dropout = nn.Dropout(0.3)\r\n",
        "    self.nonlinearity = nn.ReLU()\r\n",
        "    self.batchnorm1 = nn.BatchNorm1d(a)\r\n",
        "    self.batchnorm2 = nn.BatchNorm1d(b)\r\n",
        "\r\n",
        "    pass\r\n",
        "\r\n",
        "  def forward(self, x):\r\n",
        "\r\n",
        "    x = self.dropout(F.relu(self.batchnorm1(self.fc1(x))))\r\n",
        "    x = self.dropout(F.relu(self.batchnorm2(self.fc2(x))))\r\n",
        "    # x = self.dropout(F.relu(self.batchnorm3(self.fc3(x))))\r\n",
        "    x = F.relu(self.fc3(x))\r\n",
        "\r\n",
        "    return x\r\n",
        "  "
      ],
      "outputs": [],
      "metadata": {
        "id": "sKpYd8cNwSRp"
      }
    },
    {
      "cell_type": "markdown",
      "source": [
        "# Train the network\n",
        "## Training parameters\n",
        "Choice of optimiser and loss and training params are entirely up to you"
      ],
      "metadata": {
        "id": "j4OyQtGUzK1R"
      }
    },
    {
      "cell_type": "code",
      "execution_count": 52,
      "source": [
        "numEpochs = 100\r\n",
        "lr_rate = 1e-4\r\n",
        "\r\n",
        "input_size = 10\r\n",
        "\r\n",
        "b_size = 1028\r\n",
        "\r\n",
        "# model = myNeuralNetwork(input_size)\r\n",
        "model = myNeuralNetwork2(input_size)\r\n",
        "\r\n",
        "loss_function = nn.MSELoss() # Change to BCELoss for classification problem\r\n",
        "optimizer = torch.optim.SGD(model.parameters(), lr=lr_rate, momentum=0.1)\r\n",
        "# optimizer = torch.optim.Adam(model.parameters(), lr=lr_rate)"
      ],
      "outputs": [],
      "metadata": {
        "id": "4kAg-2nBv_dZ"
      }
    },
    {
      "cell_type": "code",
      "execution_count": 53,
      "source": [
        "if using_GPU:\r\n",
        "  model = model.cuda()\r\n",
        "\r\n",
        "# Check if the Module is on GPU by checking if a parameter is on GPU\r\n",
        "print(\"Model on GPU?:\")\r\n",
        "print(next(model.parameters()).is_cuda)"
      ],
      "outputs": [
        {
          "output_type": "stream",
          "name": "stdout",
          "text": [
            "Model on GPU?:\n",
            "True\n"
          ]
        }
      ],
      "metadata": {
        "colab": {
          "base_uri": "https://localhost:8080/"
        },
        "id": "iamiSCWGNoAf",
        "outputId": "7394a08e-56c3-40d2-eede-c30820674a28"
      }
    },
    {
      "cell_type": "markdown",
      "source": [
        "## Training for-loop"
      ],
      "metadata": {
        "id": "OqC5_j5tzOqv"
      }
    },
    {
      "cell_type": "code",
      "execution_count": 54,
      "source": [
        "loss_lst = []\r\n",
        "\r\n",
        "for i in tqdm(range(numEpochs)):\r\n",
        "  for X_a, y_a in train_loader:\r\n",
        "    \r\n",
        "    X_a = torch.squeeze(X_a)\r\n",
        "    y_a = y_a.T\r\n",
        "\r\n",
        "    l = int(len(X_a)/b_size)\r\n",
        "\r\n",
        "    for m in range(l):\r\n",
        "      a = m*b_size\r\n",
        "      b = (m+1)*b_size-1\r\n",
        "\r\n",
        "      X = X_a[a:b]\r\n",
        "      y = y_a[a:b]\r\n",
        "\r\n",
        "      if using_GPU:\r\n",
        "        X = X.cuda()\r\n",
        "        y = y.cuda()\r\n",
        "\r\n",
        "      y_hat = model(X)\r\n",
        "\r\n",
        "      optimizer.zero_grad() \r\n",
        "      y_hat = model(X)\r\n",
        "      y_log = torch.log(y+1)\r\n",
        "      loss = loss_function(y_hat, y_log) #calculate the loss\r\n",
        "      loss.backward() #backprop\r\n",
        "      optimizer.step() #does the update\r\n",
        "\r\n",
        "  loss_lst.append(loss.cpu().data.numpy())\r\n",
        "  if i % 1 == 0:\r\n",
        "    print (\"Epoch: {0}, Loss: {1}, \".format(i, loss.cpu().data.numpy()))\r\n"
      ],
      "outputs": [
        {
          "output_type": "stream",
          "name": "stderr",
          "text": [
            "  1%|          | 1/100 [00:45<1:15:09, 45.55s/it]"
          ]
        },
        {
          "output_type": "stream",
          "name": "stdout",
          "text": [
            "Epoch: 0, Loss: 3.540130853652954, \n"
          ]
        },
        {
          "output_type": "stream",
          "name": "stderr",
          "text": [
            "  2%|▏         | 2/100 [01:29<1:12:25, 44.34s/it]"
          ]
        },
        {
          "output_type": "stream",
          "name": "stdout",
          "text": [
            "Epoch: 1, Loss: 2.6269240379333496, \n"
          ]
        },
        {
          "output_type": "stream",
          "name": "stderr",
          "text": [
            "  3%|▎         | 3/100 [02:10<1:09:52, 43.22s/it]"
          ]
        },
        {
          "output_type": "stream",
          "name": "stdout",
          "text": [
            "Epoch: 2, Loss: 2.2332842350006104, \n"
          ]
        }
      ],
      "metadata": {
        "colab": {
          "base_uri": "https://localhost:8080/"
        },
        "id": "9dOXBluRjSbD",
        "outputId": "956e1980-9f4d-4d55-da7b-ce4ab464293a"
      }
    },
    {
      "cell_type": "code",
      "execution_count": null,
      "source": [
        "import matplotlib.pyplot as plt\r\n",
        "\r\n",
        "plt.title(\"Training Loss\")\r\n",
        "plt.xlabel(\"Epochs\")\r\n",
        "plt.ylabel(\"Loss\")\r\n",
        "plt.plot(loss_lst)\r\n",
        "plt.show()"
      ],
      "outputs": [
        {
          "output_type": "display_data",
          "data": {
            "text/plain": [
              "<Figure size 432x288 with 1 Axes>"
            ],
            "image/png": "[encoded data removed]"
          },
          "metadata": {
            "needs_background": "light"
          }
        }
      ],
      "metadata": {}
    },
    {
      "cell_type": "code",
      "execution_count": null,
      "source": [
        "# for i in tqdm(range(numEpochs)):\r\n",
        "#   for X, y in train_loader:\r\n",
        "\r\n",
        "#     X = torch.squeeze(X).cuda()\r\n",
        "#     y = y.T.cuda()\r\n",
        "\r\n",
        "#     y_hat = model(X)\r\n",
        "\r\n",
        "#     optimizer.zero_grad() \r\n",
        "#     y_hat = model(X)\r\n",
        "#     y_log = torch.log(y+1)\r\n",
        "#     loss = loss_function(y_hat, y_log) #calculate the loss\r\n",
        "#     loss.backward() #backprop\r\n",
        "#     optimizer.step() #does the update\r\n",
        "\r\n",
        "#   if i % 1 == 0:\r\n",
        "#       print (\"Epoch: {0}, Loss: {1}, \".format(i, loss.cpu().data.numpy()))"
      ],
      "outputs": [],
      "metadata": {
        "id": "jVxyBYuxmBr9"
      }
    },
    {
      "cell_type": "code",
      "execution_count": null,
      "source": [
        "# # init empty model\r\n",
        "# modelA = myNeuralNetwork(7)\r\n",
        "# optimizerA = torch.optim.Adam(modelA.parameters(), lr=0.01)\r\n",
        "\r\n",
        "# # load checkpoint from saved path\r\n",
        "# path = os.path.join(\"/content\",\r\n",
        "#                               \"drive\", \r\n",
        "#                               \".shortcut-targets-by-id\", \r\n",
        "#                               \"19icV-F9BFrur0fxo4XvAZ82qIhipVrb-\",\r\n",
        "#                               \"aiProjectData50021\",\r\n",
        "#                               \"models\",\r\n",
        "#                               \"model_20210729_1755_10epochs.pt\")\r\n",
        "# checkpoint = torch.load(path)\r\n",
        "\r\n",
        "# # load model\r\n",
        "# modelA.load_state_dict(checkpoint['model_state_dict'])\r\n",
        "# optimizerA.load_state_dict(checkpoint['optimizer_state_dict'])"
      ],
      "outputs": [],
      "metadata": {
        "id": "h4ikmi0KEPNN"
      }
    },
    {
      "cell_type": "code",
      "execution_count": null,
      "source": [
        "# # torch.cuda.empty_cache()\r\n",
        "# if using_GPU:\r\n",
        "#   modelA = modelA.cuda()\r\n",
        "\r\n",
        "# # Check if the Module is on GPU by checking if a parameter is on GPU\r\n",
        "# print(\"Model on GPU?:\")\r\n",
        "# print(next(modelA.parameters()).is_cuda)"
      ],
      "outputs": [],
      "metadata": {
        "id": "FWZxhcCoFxt0"
      }
    },
    {
      "cell_type": "markdown",
      "source": [
        "## Evaluate the model"
      ],
      "metadata": {
        "id": "C7lgli26zSpf"
      }
    },
    {
      "cell_type": "code",
      "execution_count": null,
      "source": [
        "test_loader = DataLoader(dataset = TwitterDataset(overallTest, preProcessDataFrame),\r\n",
        "                            batch_size = 1,\r\n",
        "                            shuffle = True)\r\n",
        "model.eval()\r\n",
        "# cumLoss = 0\r\n",
        "for (i, (X, y)) in enumerate(test_loader):\r\n",
        "  X = torch.squeeze(X).cuda()\r\n",
        "  y = y.T.cuda()\r\n",
        "  y_hat = model(X)\r\n",
        "  y_log = torch.log(y+1)\r\n",
        "  # cum_loss += loss_fn(scores, labels).item()\r\n",
        "  loss = loss_function(y_hat, y_log)\r\n",
        "  # cumLoss += loss\r\n",
        "\r\n",
        "# print(f\"MSELoss: {cumLoss / len(test_loader)}\")\r\n",
        "print(f\"MSELoss: {loss}\")"
      ],
      "outputs": [
        {
          "output_type": "stream",
          "name": "stdout",
          "text": [
            "MSELoss: 2.2635576725006104\n"
          ]
        }
      ],
      "metadata": {
        "id": "decLmbTQzVJr"
      }
    },
    {
      "cell_type": "markdown",
      "source": [
        "# Save your model"
      ],
      "metadata": {
        "id": "jqpz3C6iVlge"
      }
    },
    {
      "cell_type": "code",
      "execution_count": null,
      "source": [
        "import time\r\n",
        "PATH = \"model_20210730_{0}_data1.pt\".format(time.time()) #change this name to the name of your network\r\n",
        "\r\n",
        "torch.save({\r\n",
        "            'model_state_dict': model.state_dict(),\r\n",
        "            'optimizer_state_dict': optimizer.state_dict()\r\n",
        "            }, PATH)"
      ],
      "outputs": [],
      "metadata": {
        "id": "Kw6rcOCiVk13"
      }
    },
    {
      "cell_type": "markdown",
      "source": [
        "# Load model from elsewhere\n",
        "Just a reminder of how to load the model elsewhere after u save it. Also for me to deploy into the UI after you're done"
      ],
      "metadata": {
        "id": "25eRpxN3VyH2"
      }
    },
    {
      "cell_type": "code",
      "execution_count": null,
      "source": [
        "# # init empty model\r\n",
        "# modelA = NeuralNetwork()\r\n",
        "# optimModelA = optim.SGD(modelA.parameters(), lr=0.001, momentum=0.9)\r\n",
        "\r\n",
        "# # load checkpoint from saved path\r\n",
        "# checkpoint = torch.load(PATH)\r\n",
        "\r\n",
        "# # load model\r\n",
        "# modelA.load_state_dict(checkpoint['model_state_dict'])\r\n",
        "# optimizerA.load_state_dict(checkpoint['optimizer_state_dict'])\r\n",
        "\r\n",
        "# modelA.eval()\r\n",
        "# # - or -\r\n",
        "# modelA.train()"
      ],
      "outputs": [],
      "metadata": {
        "id": "bk9XhXs6V1Gk"
      }
    }
  ]
}